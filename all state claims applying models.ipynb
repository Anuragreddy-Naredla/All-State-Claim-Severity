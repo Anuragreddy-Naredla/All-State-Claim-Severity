{
 "cells": [
  {
   "cell_type": "markdown",
   "metadata": {},
   "source": [
    "# a.Regression "
   ]
  },
  {
   "cell_type": "code",
   "execution_count": 1,
   "metadata": {},
   "outputs": [],
   "source": [
    "import numpy as np\n",
    "import pandas as pd\n",
    "import warnings\n",
    "warnings.filterwarnings(\"ignore\")\n",
    "from sklearn.preprocessing import LabelEncoder \n",
    "from sklearn import decomposition\n",
    "from sklearn.preprocessing import StandardScaler\n",
    "from sklearn.decomposition import TruncatedSVD\n",
    "from sklearn.model_selection import train_test_split\n",
    "from sklearn.metrics import mean_absolute_error\n",
    "from sklearn.linear_model import LinearRegression,Ridge,Lasso\n",
    "from sklearn.model_selection import GridSearchCV\n",
    "import matplotlib.pyplot as plt\n",
    "%matplotlib inline\n",
    "from sklearn.neighbors import KNeighborsRegressor\n",
    "from sklearn.tree import DecisionTreeRegressor\n",
    "from sklearn.ensemble import RandomForestRegressor,AdaBoostRegressor\n",
    "from sklearn.model_selection import RandomizedSearchCV\n",
    "from xgboost.sklearn import XGBRegressor\n",
    "from sklearn.linear_model import SGDRegressor"
   ]
  },
  {
   "cell_type": "code",
   "execution_count": 2,
   "metadata": {},
   "outputs": [],
   "source": [
    "train_data=pd.read_csv(\"train.csv\")\n",
    "test_data=pd.read_csv(\"test.csv\")"
   ]
  },
  {
   "cell_type": "code",
   "execution_count": 3,
   "metadata": {},
   "outputs": [
    {
     "data": {
      "text/html": [
       "<div>\n",
       "<style scoped>\n",
       "    .dataframe tbody tr th:only-of-type {\n",
       "        vertical-align: middle;\n",
       "    }\n",
       "\n",
       "    .dataframe tbody tr th {\n",
       "        vertical-align: top;\n",
       "    }\n",
       "\n",
       "    .dataframe thead th {\n",
       "        text-align: right;\n",
       "    }\n",
       "</style>\n",
       "<table border=\"1\" class=\"dataframe\">\n",
       "  <thead>\n",
       "    <tr style=\"text-align: right;\">\n",
       "      <th></th>\n",
       "      <th>id</th>\n",
       "      <th>cat1</th>\n",
       "      <th>cat2</th>\n",
       "      <th>cat3</th>\n",
       "      <th>cat4</th>\n",
       "      <th>cat5</th>\n",
       "      <th>cat6</th>\n",
       "      <th>cat7</th>\n",
       "      <th>cat8</th>\n",
       "      <th>cat9</th>\n",
       "      <th>...</th>\n",
       "      <th>cont6</th>\n",
       "      <th>cont7</th>\n",
       "      <th>cont8</th>\n",
       "      <th>cont9</th>\n",
       "      <th>cont10</th>\n",
       "      <th>cont11</th>\n",
       "      <th>cont12</th>\n",
       "      <th>cont13</th>\n",
       "      <th>cont14</th>\n",
       "      <th>loss</th>\n",
       "    </tr>\n",
       "  </thead>\n",
       "  <tbody>\n",
       "    <tr>\n",
       "      <th>0</th>\n",
       "      <td>1</td>\n",
       "      <td>A</td>\n",
       "      <td>B</td>\n",
       "      <td>A</td>\n",
       "      <td>B</td>\n",
       "      <td>A</td>\n",
       "      <td>A</td>\n",
       "      <td>A</td>\n",
       "      <td>A</td>\n",
       "      <td>B</td>\n",
       "      <td>...</td>\n",
       "      <td>0.718367</td>\n",
       "      <td>0.335060</td>\n",
       "      <td>0.30260</td>\n",
       "      <td>0.67135</td>\n",
       "      <td>0.83510</td>\n",
       "      <td>0.569745</td>\n",
       "      <td>0.594646</td>\n",
       "      <td>0.822493</td>\n",
       "      <td>0.714843</td>\n",
       "      <td>2213.18</td>\n",
       "    </tr>\n",
       "    <tr>\n",
       "      <th>1</th>\n",
       "      <td>2</td>\n",
       "      <td>A</td>\n",
       "      <td>B</td>\n",
       "      <td>A</td>\n",
       "      <td>A</td>\n",
       "      <td>A</td>\n",
       "      <td>A</td>\n",
       "      <td>A</td>\n",
       "      <td>A</td>\n",
       "      <td>B</td>\n",
       "      <td>...</td>\n",
       "      <td>0.438917</td>\n",
       "      <td>0.436585</td>\n",
       "      <td>0.60087</td>\n",
       "      <td>0.35127</td>\n",
       "      <td>0.43919</td>\n",
       "      <td>0.338312</td>\n",
       "      <td>0.366307</td>\n",
       "      <td>0.611431</td>\n",
       "      <td>0.304496</td>\n",
       "      <td>1283.60</td>\n",
       "    </tr>\n",
       "    <tr>\n",
       "      <th>2</th>\n",
       "      <td>5</td>\n",
       "      <td>A</td>\n",
       "      <td>B</td>\n",
       "      <td>A</td>\n",
       "      <td>A</td>\n",
       "      <td>B</td>\n",
       "      <td>A</td>\n",
       "      <td>A</td>\n",
       "      <td>A</td>\n",
       "      <td>B</td>\n",
       "      <td>...</td>\n",
       "      <td>0.289648</td>\n",
       "      <td>0.315545</td>\n",
       "      <td>0.27320</td>\n",
       "      <td>0.26076</td>\n",
       "      <td>0.32446</td>\n",
       "      <td>0.381398</td>\n",
       "      <td>0.373424</td>\n",
       "      <td>0.195709</td>\n",
       "      <td>0.774425</td>\n",
       "      <td>3005.09</td>\n",
       "    </tr>\n",
       "    <tr>\n",
       "      <th>3</th>\n",
       "      <td>10</td>\n",
       "      <td>B</td>\n",
       "      <td>B</td>\n",
       "      <td>A</td>\n",
       "      <td>B</td>\n",
       "      <td>A</td>\n",
       "      <td>A</td>\n",
       "      <td>A</td>\n",
       "      <td>A</td>\n",
       "      <td>B</td>\n",
       "      <td>...</td>\n",
       "      <td>0.440945</td>\n",
       "      <td>0.391128</td>\n",
       "      <td>0.31796</td>\n",
       "      <td>0.32128</td>\n",
       "      <td>0.44467</td>\n",
       "      <td>0.327915</td>\n",
       "      <td>0.321570</td>\n",
       "      <td>0.605077</td>\n",
       "      <td>0.602642</td>\n",
       "      <td>939.85</td>\n",
       "    </tr>\n",
       "    <tr>\n",
       "      <th>4</th>\n",
       "      <td>11</td>\n",
       "      <td>A</td>\n",
       "      <td>B</td>\n",
       "      <td>A</td>\n",
       "      <td>B</td>\n",
       "      <td>A</td>\n",
       "      <td>A</td>\n",
       "      <td>A</td>\n",
       "      <td>A</td>\n",
       "      <td>B</td>\n",
       "      <td>...</td>\n",
       "      <td>0.178193</td>\n",
       "      <td>0.247408</td>\n",
       "      <td>0.24564</td>\n",
       "      <td>0.22089</td>\n",
       "      <td>0.21230</td>\n",
       "      <td>0.204687</td>\n",
       "      <td>0.202213</td>\n",
       "      <td>0.246011</td>\n",
       "      <td>0.432606</td>\n",
       "      <td>2763.85</td>\n",
       "    </tr>\n",
       "  </tbody>\n",
       "</table>\n",
       "<p>5 rows × 132 columns</p>\n",
       "</div>"
      ],
      "text/plain": [
       "   id cat1 cat2 cat3 cat4 cat5 cat6 cat7 cat8 cat9  ...     cont6     cont7  \\\n",
       "0   1    A    B    A    B    A    A    A    A    B  ...  0.718367  0.335060   \n",
       "1   2    A    B    A    A    A    A    A    A    B  ...  0.438917  0.436585   \n",
       "2   5    A    B    A    A    B    A    A    A    B  ...  0.289648  0.315545   \n",
       "3  10    B    B    A    B    A    A    A    A    B  ...  0.440945  0.391128   \n",
       "4  11    A    B    A    B    A    A    A    A    B  ...  0.178193  0.247408   \n",
       "\n",
       "     cont8    cont9   cont10    cont11    cont12    cont13    cont14     loss  \n",
       "0  0.30260  0.67135  0.83510  0.569745  0.594646  0.822493  0.714843  2213.18  \n",
       "1  0.60087  0.35127  0.43919  0.338312  0.366307  0.611431  0.304496  1283.60  \n",
       "2  0.27320  0.26076  0.32446  0.381398  0.373424  0.195709  0.774425  3005.09  \n",
       "3  0.31796  0.32128  0.44467  0.327915  0.321570  0.605077  0.602642   939.85  \n",
       "4  0.24564  0.22089  0.21230  0.204687  0.202213  0.246011  0.432606  2763.85  \n",
       "\n",
       "[5 rows x 132 columns]"
      ]
     },
     "execution_count": 3,
     "metadata": {},
     "output_type": "execute_result"
    }
   ],
   "source": [
    "train_data.head()"
   ]
  },
  {
   "cell_type": "code",
   "execution_count": 4,
   "metadata": {},
   "outputs": [
    {
     "data": {
      "text/html": [
       "<div>\n",
       "<style scoped>\n",
       "    .dataframe tbody tr th:only-of-type {\n",
       "        vertical-align: middle;\n",
       "    }\n",
       "\n",
       "    .dataframe tbody tr th {\n",
       "        vertical-align: top;\n",
       "    }\n",
       "\n",
       "    .dataframe thead th {\n",
       "        text-align: right;\n",
       "    }\n",
       "</style>\n",
       "<table border=\"1\" class=\"dataframe\">\n",
       "  <thead>\n",
       "    <tr style=\"text-align: right;\">\n",
       "      <th></th>\n",
       "      <th>id</th>\n",
       "      <th>cat1</th>\n",
       "      <th>cat2</th>\n",
       "      <th>cat3</th>\n",
       "      <th>cat4</th>\n",
       "      <th>cat5</th>\n",
       "      <th>cat6</th>\n",
       "      <th>cat7</th>\n",
       "      <th>cat8</th>\n",
       "      <th>cat9</th>\n",
       "      <th>...</th>\n",
       "      <th>cont5</th>\n",
       "      <th>cont6</th>\n",
       "      <th>cont7</th>\n",
       "      <th>cont8</th>\n",
       "      <th>cont9</th>\n",
       "      <th>cont10</th>\n",
       "      <th>cont11</th>\n",
       "      <th>cont12</th>\n",
       "      <th>cont13</th>\n",
       "      <th>cont14</th>\n",
       "    </tr>\n",
       "  </thead>\n",
       "  <tbody>\n",
       "    <tr>\n",
       "      <th>0</th>\n",
       "      <td>4</td>\n",
       "      <td>A</td>\n",
       "      <td>B</td>\n",
       "      <td>A</td>\n",
       "      <td>A</td>\n",
       "      <td>A</td>\n",
       "      <td>A</td>\n",
       "      <td>A</td>\n",
       "      <td>A</td>\n",
       "      <td>B</td>\n",
       "      <td>...</td>\n",
       "      <td>0.281143</td>\n",
       "      <td>0.466591</td>\n",
       "      <td>0.317681</td>\n",
       "      <td>0.61229</td>\n",
       "      <td>0.34365</td>\n",
       "      <td>0.38016</td>\n",
       "      <td>0.377724</td>\n",
       "      <td>0.369858</td>\n",
       "      <td>0.704052</td>\n",
       "      <td>0.392562</td>\n",
       "    </tr>\n",
       "    <tr>\n",
       "      <th>1</th>\n",
       "      <td>6</td>\n",
       "      <td>A</td>\n",
       "      <td>B</td>\n",
       "      <td>A</td>\n",
       "      <td>B</td>\n",
       "      <td>A</td>\n",
       "      <td>A</td>\n",
       "      <td>A</td>\n",
       "      <td>A</td>\n",
       "      <td>B</td>\n",
       "      <td>...</td>\n",
       "      <td>0.836443</td>\n",
       "      <td>0.482425</td>\n",
       "      <td>0.443760</td>\n",
       "      <td>0.71330</td>\n",
       "      <td>0.51890</td>\n",
       "      <td>0.60401</td>\n",
       "      <td>0.689039</td>\n",
       "      <td>0.675759</td>\n",
       "      <td>0.453468</td>\n",
       "      <td>0.208045</td>\n",
       "    </tr>\n",
       "    <tr>\n",
       "      <th>2</th>\n",
       "      <td>9</td>\n",
       "      <td>A</td>\n",
       "      <td>B</td>\n",
       "      <td>A</td>\n",
       "      <td>B</td>\n",
       "      <td>B</td>\n",
       "      <td>A</td>\n",
       "      <td>B</td>\n",
       "      <td>A</td>\n",
       "      <td>B</td>\n",
       "      <td>...</td>\n",
       "      <td>0.718531</td>\n",
       "      <td>0.212308</td>\n",
       "      <td>0.325779</td>\n",
       "      <td>0.29758</td>\n",
       "      <td>0.34365</td>\n",
       "      <td>0.30529</td>\n",
       "      <td>0.245410</td>\n",
       "      <td>0.241676</td>\n",
       "      <td>0.258586</td>\n",
       "      <td>0.297232</td>\n",
       "    </tr>\n",
       "    <tr>\n",
       "      <th>3</th>\n",
       "      <td>12</td>\n",
       "      <td>A</td>\n",
       "      <td>A</td>\n",
       "      <td>A</td>\n",
       "      <td>A</td>\n",
       "      <td>B</td>\n",
       "      <td>A</td>\n",
       "      <td>A</td>\n",
       "      <td>A</td>\n",
       "      <td>A</td>\n",
       "      <td>...</td>\n",
       "      <td>0.397069</td>\n",
       "      <td>0.369930</td>\n",
       "      <td>0.342355</td>\n",
       "      <td>0.40028</td>\n",
       "      <td>0.33237</td>\n",
       "      <td>0.31480</td>\n",
       "      <td>0.348867</td>\n",
       "      <td>0.341872</td>\n",
       "      <td>0.592264</td>\n",
       "      <td>0.555955</td>\n",
       "    </tr>\n",
       "    <tr>\n",
       "      <th>4</th>\n",
       "      <td>15</td>\n",
       "      <td>B</td>\n",
       "      <td>A</td>\n",
       "      <td>A</td>\n",
       "      <td>A</td>\n",
       "      <td>A</td>\n",
       "      <td>B</td>\n",
       "      <td>A</td>\n",
       "      <td>A</td>\n",
       "      <td>A</td>\n",
       "      <td>...</td>\n",
       "      <td>0.302678</td>\n",
       "      <td>0.398862</td>\n",
       "      <td>0.391833</td>\n",
       "      <td>0.23688</td>\n",
       "      <td>0.43731</td>\n",
       "      <td>0.50556</td>\n",
       "      <td>0.359572</td>\n",
       "      <td>0.352251</td>\n",
       "      <td>0.301535</td>\n",
       "      <td>0.825823</td>\n",
       "    </tr>\n",
       "  </tbody>\n",
       "</table>\n",
       "<p>5 rows × 131 columns</p>\n",
       "</div>"
      ],
      "text/plain": [
       "   id cat1 cat2 cat3 cat4 cat5 cat6 cat7 cat8 cat9  ...     cont5     cont6  \\\n",
       "0   4    A    B    A    A    A    A    A    A    B  ...  0.281143  0.466591   \n",
       "1   6    A    B    A    B    A    A    A    A    B  ...  0.836443  0.482425   \n",
       "2   9    A    B    A    B    B    A    B    A    B  ...  0.718531  0.212308   \n",
       "3  12    A    A    A    A    B    A    A    A    A  ...  0.397069  0.369930   \n",
       "4  15    B    A    A    A    A    B    A    A    A  ...  0.302678  0.398862   \n",
       "\n",
       "      cont7    cont8    cont9   cont10    cont11    cont12    cont13    cont14  \n",
       "0  0.317681  0.61229  0.34365  0.38016  0.377724  0.369858  0.704052  0.392562  \n",
       "1  0.443760  0.71330  0.51890  0.60401  0.689039  0.675759  0.453468  0.208045  \n",
       "2  0.325779  0.29758  0.34365  0.30529  0.245410  0.241676  0.258586  0.297232  \n",
       "3  0.342355  0.40028  0.33237  0.31480  0.348867  0.341872  0.592264  0.555955  \n",
       "4  0.391833  0.23688  0.43731  0.50556  0.359572  0.352251  0.301535  0.825823  \n",
       "\n",
       "[5 rows x 131 columns]"
      ]
     },
     "execution_count": 4,
     "metadata": {},
     "output_type": "execute_result"
    }
   ],
   "source": [
    "test_data.head()"
   ]
  },
  {
   "cell_type": "code",
   "execution_count": 5,
   "metadata": {},
   "outputs": [],
   "source": [
    "#seperating categorical and continuous features\n",
    "def features(df):\n",
    "    categorical_features=[]\n",
    "    continuous_features=[]\n",
    "    for i in df.columns:\n",
    "        if i[:3]=='cat':\n",
    "            categorical_features.append(i)\n",
    "        elif i[:4]=='cont':\n",
    "            continuous_features.append(i)\n",
    "    return categorical_features,continuous_features"
   ]
  },
  {
   "cell_type": "code",
   "execution_count": 6,
   "metadata": {},
   "outputs": [],
   "source": [
    "categorical_train_features,continuous_train_features=features(train_data)\n",
    "categorical_test_features,continuous_test_features=features(test_data)"
   ]
  },
  {
   "cell_type": "code",
   "execution_count": 7,
   "metadata": {},
   "outputs": [
    {
     "name": "stdout",
     "output_type": "stream",
     "text": [
      "116\n",
      "14\n",
      "116\n",
      "14\n"
     ]
    }
   ],
   "source": [
    "print(len(categorical_train_features))\n",
    "print(len(continuous_train_features))\n",
    "print(len(categorical_test_features))\n",
    "print(len(continuous_test_features))"
   ]
  },
  {
   "cell_type": "code",
   "execution_count": 8,
   "metadata": {},
   "outputs": [],
   "source": [
    "#Doing Label Encoding to our Categeorical features for train_data\n",
    "label_encoder=LabelEncoder()\n",
    "for m in categorical_train_features:\n",
    "    train_data[m]=label_encoder.fit_transform(train_data[m])"
   ]
  },
  {
   "cell_type": "code",
   "execution_count": 9,
   "metadata": {},
   "outputs": [],
   "source": [
    "#Doing Label Encoding to our Categeorical features for test_data\n",
    "label_encoder=LabelEncoder()\n",
    "for m in categorical_test_features:\n",
    "    test_data[m]=label_encoder.fit_transform(test_data[m])"
   ]
  },
  {
   "cell_type": "code",
   "execution_count": 10,
   "metadata": {},
   "outputs": [
    {
     "data": {
      "text/html": [
       "<div>\n",
       "<style scoped>\n",
       "    .dataframe tbody tr th:only-of-type {\n",
       "        vertical-align: middle;\n",
       "    }\n",
       "\n",
       "    .dataframe tbody tr th {\n",
       "        vertical-align: top;\n",
       "    }\n",
       "\n",
       "    .dataframe thead th {\n",
       "        text-align: right;\n",
       "    }\n",
       "</style>\n",
       "<table border=\"1\" class=\"dataframe\">\n",
       "  <thead>\n",
       "    <tr style=\"text-align: right;\">\n",
       "      <th></th>\n",
       "      <th>id</th>\n",
       "      <th>cat1</th>\n",
       "      <th>cat2</th>\n",
       "      <th>cat3</th>\n",
       "      <th>cat4</th>\n",
       "      <th>cat5</th>\n",
       "      <th>cat6</th>\n",
       "      <th>cat7</th>\n",
       "      <th>cat8</th>\n",
       "      <th>cat9</th>\n",
       "      <th>...</th>\n",
       "      <th>cont6</th>\n",
       "      <th>cont7</th>\n",
       "      <th>cont8</th>\n",
       "      <th>cont9</th>\n",
       "      <th>cont10</th>\n",
       "      <th>cont11</th>\n",
       "      <th>cont12</th>\n",
       "      <th>cont13</th>\n",
       "      <th>cont14</th>\n",
       "      <th>loss</th>\n",
       "    </tr>\n",
       "  </thead>\n",
       "  <tbody>\n",
       "    <tr>\n",
       "      <th>0</th>\n",
       "      <td>1</td>\n",
       "      <td>0</td>\n",
       "      <td>1</td>\n",
       "      <td>0</td>\n",
       "      <td>1</td>\n",
       "      <td>0</td>\n",
       "      <td>0</td>\n",
       "      <td>0</td>\n",
       "      <td>0</td>\n",
       "      <td>1</td>\n",
       "      <td>...</td>\n",
       "      <td>0.718367</td>\n",
       "      <td>0.335060</td>\n",
       "      <td>0.30260</td>\n",
       "      <td>0.67135</td>\n",
       "      <td>0.83510</td>\n",
       "      <td>0.569745</td>\n",
       "      <td>0.594646</td>\n",
       "      <td>0.822493</td>\n",
       "      <td>0.714843</td>\n",
       "      <td>2213.18</td>\n",
       "    </tr>\n",
       "    <tr>\n",
       "      <th>1</th>\n",
       "      <td>2</td>\n",
       "      <td>0</td>\n",
       "      <td>1</td>\n",
       "      <td>0</td>\n",
       "      <td>0</td>\n",
       "      <td>0</td>\n",
       "      <td>0</td>\n",
       "      <td>0</td>\n",
       "      <td>0</td>\n",
       "      <td>1</td>\n",
       "      <td>...</td>\n",
       "      <td>0.438917</td>\n",
       "      <td>0.436585</td>\n",
       "      <td>0.60087</td>\n",
       "      <td>0.35127</td>\n",
       "      <td>0.43919</td>\n",
       "      <td>0.338312</td>\n",
       "      <td>0.366307</td>\n",
       "      <td>0.611431</td>\n",
       "      <td>0.304496</td>\n",
       "      <td>1283.60</td>\n",
       "    </tr>\n",
       "    <tr>\n",
       "      <th>2</th>\n",
       "      <td>5</td>\n",
       "      <td>0</td>\n",
       "      <td>1</td>\n",
       "      <td>0</td>\n",
       "      <td>0</td>\n",
       "      <td>1</td>\n",
       "      <td>0</td>\n",
       "      <td>0</td>\n",
       "      <td>0</td>\n",
       "      <td>1</td>\n",
       "      <td>...</td>\n",
       "      <td>0.289648</td>\n",
       "      <td>0.315545</td>\n",
       "      <td>0.27320</td>\n",
       "      <td>0.26076</td>\n",
       "      <td>0.32446</td>\n",
       "      <td>0.381398</td>\n",
       "      <td>0.373424</td>\n",
       "      <td>0.195709</td>\n",
       "      <td>0.774425</td>\n",
       "      <td>3005.09</td>\n",
       "    </tr>\n",
       "    <tr>\n",
       "      <th>3</th>\n",
       "      <td>10</td>\n",
       "      <td>1</td>\n",
       "      <td>1</td>\n",
       "      <td>0</td>\n",
       "      <td>1</td>\n",
       "      <td>0</td>\n",
       "      <td>0</td>\n",
       "      <td>0</td>\n",
       "      <td>0</td>\n",
       "      <td>1</td>\n",
       "      <td>...</td>\n",
       "      <td>0.440945</td>\n",
       "      <td>0.391128</td>\n",
       "      <td>0.31796</td>\n",
       "      <td>0.32128</td>\n",
       "      <td>0.44467</td>\n",
       "      <td>0.327915</td>\n",
       "      <td>0.321570</td>\n",
       "      <td>0.605077</td>\n",
       "      <td>0.602642</td>\n",
       "      <td>939.85</td>\n",
       "    </tr>\n",
       "    <tr>\n",
       "      <th>4</th>\n",
       "      <td>11</td>\n",
       "      <td>0</td>\n",
       "      <td>1</td>\n",
       "      <td>0</td>\n",
       "      <td>1</td>\n",
       "      <td>0</td>\n",
       "      <td>0</td>\n",
       "      <td>0</td>\n",
       "      <td>0</td>\n",
       "      <td>1</td>\n",
       "      <td>...</td>\n",
       "      <td>0.178193</td>\n",
       "      <td>0.247408</td>\n",
       "      <td>0.24564</td>\n",
       "      <td>0.22089</td>\n",
       "      <td>0.21230</td>\n",
       "      <td>0.204687</td>\n",
       "      <td>0.202213</td>\n",
       "      <td>0.246011</td>\n",
       "      <td>0.432606</td>\n",
       "      <td>2763.85</td>\n",
       "    </tr>\n",
       "  </tbody>\n",
       "</table>\n",
       "<p>5 rows × 132 columns</p>\n",
       "</div>"
      ],
      "text/plain": [
       "   id  cat1  cat2  cat3  cat4  cat5  cat6  cat7  cat8  cat9  ...     cont6  \\\n",
       "0   1     0     1     0     1     0     0     0     0     1  ...  0.718367   \n",
       "1   2     0     1     0     0     0     0     0     0     1  ...  0.438917   \n",
       "2   5     0     1     0     0     1     0     0     0     1  ...  0.289648   \n",
       "3  10     1     1     0     1     0     0     0     0     1  ...  0.440945   \n",
       "4  11     0     1     0     1     0     0     0     0     1  ...  0.178193   \n",
       "\n",
       "      cont7    cont8    cont9   cont10    cont11    cont12    cont13  \\\n",
       "0  0.335060  0.30260  0.67135  0.83510  0.569745  0.594646  0.822493   \n",
       "1  0.436585  0.60087  0.35127  0.43919  0.338312  0.366307  0.611431   \n",
       "2  0.315545  0.27320  0.26076  0.32446  0.381398  0.373424  0.195709   \n",
       "3  0.391128  0.31796  0.32128  0.44467  0.327915  0.321570  0.605077   \n",
       "4  0.247408  0.24564  0.22089  0.21230  0.204687  0.202213  0.246011   \n",
       "\n",
       "     cont14     loss  \n",
       "0  0.714843  2213.18  \n",
       "1  0.304496  1283.60  \n",
       "2  0.774425  3005.09  \n",
       "3  0.602642   939.85  \n",
       "4  0.432606  2763.85  \n",
       "\n",
       "[5 rows x 132 columns]"
      ]
     },
     "execution_count": 10,
     "metadata": {},
     "output_type": "execute_result"
    }
   ],
   "source": [
    "train_data.head()"
   ]
  },
  {
   "cell_type": "code",
   "execution_count": 11,
   "metadata": {},
   "outputs": [
    {
     "data": {
      "text/html": [
       "<div>\n",
       "<style scoped>\n",
       "    .dataframe tbody tr th:only-of-type {\n",
       "        vertical-align: middle;\n",
       "    }\n",
       "\n",
       "    .dataframe tbody tr th {\n",
       "        vertical-align: top;\n",
       "    }\n",
       "\n",
       "    .dataframe thead th {\n",
       "        text-align: right;\n",
       "    }\n",
       "</style>\n",
       "<table border=\"1\" class=\"dataframe\">\n",
       "  <thead>\n",
       "    <tr style=\"text-align: right;\">\n",
       "      <th></th>\n",
       "      <th>id</th>\n",
       "      <th>cat1</th>\n",
       "      <th>cat2</th>\n",
       "      <th>cat3</th>\n",
       "      <th>cat4</th>\n",
       "      <th>cat5</th>\n",
       "      <th>cat6</th>\n",
       "      <th>cat7</th>\n",
       "      <th>cat8</th>\n",
       "      <th>cat9</th>\n",
       "      <th>...</th>\n",
       "      <th>cont5</th>\n",
       "      <th>cont6</th>\n",
       "      <th>cont7</th>\n",
       "      <th>cont8</th>\n",
       "      <th>cont9</th>\n",
       "      <th>cont10</th>\n",
       "      <th>cont11</th>\n",
       "      <th>cont12</th>\n",
       "      <th>cont13</th>\n",
       "      <th>cont14</th>\n",
       "    </tr>\n",
       "  </thead>\n",
       "  <tbody>\n",
       "    <tr>\n",
       "      <th>0</th>\n",
       "      <td>4</td>\n",
       "      <td>0</td>\n",
       "      <td>1</td>\n",
       "      <td>0</td>\n",
       "      <td>0</td>\n",
       "      <td>0</td>\n",
       "      <td>0</td>\n",
       "      <td>0</td>\n",
       "      <td>0</td>\n",
       "      <td>1</td>\n",
       "      <td>...</td>\n",
       "      <td>0.281143</td>\n",
       "      <td>0.466591</td>\n",
       "      <td>0.317681</td>\n",
       "      <td>0.61229</td>\n",
       "      <td>0.34365</td>\n",
       "      <td>0.38016</td>\n",
       "      <td>0.377724</td>\n",
       "      <td>0.369858</td>\n",
       "      <td>0.704052</td>\n",
       "      <td>0.392562</td>\n",
       "    </tr>\n",
       "    <tr>\n",
       "      <th>1</th>\n",
       "      <td>6</td>\n",
       "      <td>0</td>\n",
       "      <td>1</td>\n",
       "      <td>0</td>\n",
       "      <td>1</td>\n",
       "      <td>0</td>\n",
       "      <td>0</td>\n",
       "      <td>0</td>\n",
       "      <td>0</td>\n",
       "      <td>1</td>\n",
       "      <td>...</td>\n",
       "      <td>0.836443</td>\n",
       "      <td>0.482425</td>\n",
       "      <td>0.443760</td>\n",
       "      <td>0.71330</td>\n",
       "      <td>0.51890</td>\n",
       "      <td>0.60401</td>\n",
       "      <td>0.689039</td>\n",
       "      <td>0.675759</td>\n",
       "      <td>0.453468</td>\n",
       "      <td>0.208045</td>\n",
       "    </tr>\n",
       "    <tr>\n",
       "      <th>2</th>\n",
       "      <td>9</td>\n",
       "      <td>0</td>\n",
       "      <td>1</td>\n",
       "      <td>0</td>\n",
       "      <td>1</td>\n",
       "      <td>1</td>\n",
       "      <td>0</td>\n",
       "      <td>1</td>\n",
       "      <td>0</td>\n",
       "      <td>1</td>\n",
       "      <td>...</td>\n",
       "      <td>0.718531</td>\n",
       "      <td>0.212308</td>\n",
       "      <td>0.325779</td>\n",
       "      <td>0.29758</td>\n",
       "      <td>0.34365</td>\n",
       "      <td>0.30529</td>\n",
       "      <td>0.245410</td>\n",
       "      <td>0.241676</td>\n",
       "      <td>0.258586</td>\n",
       "      <td>0.297232</td>\n",
       "    </tr>\n",
       "    <tr>\n",
       "      <th>3</th>\n",
       "      <td>12</td>\n",
       "      <td>0</td>\n",
       "      <td>0</td>\n",
       "      <td>0</td>\n",
       "      <td>0</td>\n",
       "      <td>1</td>\n",
       "      <td>0</td>\n",
       "      <td>0</td>\n",
       "      <td>0</td>\n",
       "      <td>0</td>\n",
       "      <td>...</td>\n",
       "      <td>0.397069</td>\n",
       "      <td>0.369930</td>\n",
       "      <td>0.342355</td>\n",
       "      <td>0.40028</td>\n",
       "      <td>0.33237</td>\n",
       "      <td>0.31480</td>\n",
       "      <td>0.348867</td>\n",
       "      <td>0.341872</td>\n",
       "      <td>0.592264</td>\n",
       "      <td>0.555955</td>\n",
       "    </tr>\n",
       "    <tr>\n",
       "      <th>4</th>\n",
       "      <td>15</td>\n",
       "      <td>1</td>\n",
       "      <td>0</td>\n",
       "      <td>0</td>\n",
       "      <td>0</td>\n",
       "      <td>0</td>\n",
       "      <td>1</td>\n",
       "      <td>0</td>\n",
       "      <td>0</td>\n",
       "      <td>0</td>\n",
       "      <td>...</td>\n",
       "      <td>0.302678</td>\n",
       "      <td>0.398862</td>\n",
       "      <td>0.391833</td>\n",
       "      <td>0.23688</td>\n",
       "      <td>0.43731</td>\n",
       "      <td>0.50556</td>\n",
       "      <td>0.359572</td>\n",
       "      <td>0.352251</td>\n",
       "      <td>0.301535</td>\n",
       "      <td>0.825823</td>\n",
       "    </tr>\n",
       "  </tbody>\n",
       "</table>\n",
       "<p>5 rows × 131 columns</p>\n",
       "</div>"
      ],
      "text/plain": [
       "   id  cat1  cat2  cat3  cat4  cat5  cat6  cat7  cat8  cat9  ...     cont5  \\\n",
       "0   4     0     1     0     0     0     0     0     0     1  ...  0.281143   \n",
       "1   6     0     1     0     1     0     0     0     0     1  ...  0.836443   \n",
       "2   9     0     1     0     1     1     0     1     0     1  ...  0.718531   \n",
       "3  12     0     0     0     0     1     0     0     0     0  ...  0.397069   \n",
       "4  15     1     0     0     0     0     1     0     0     0  ...  0.302678   \n",
       "\n",
       "      cont6     cont7    cont8    cont9   cont10    cont11    cont12  \\\n",
       "0  0.466591  0.317681  0.61229  0.34365  0.38016  0.377724  0.369858   \n",
       "1  0.482425  0.443760  0.71330  0.51890  0.60401  0.689039  0.675759   \n",
       "2  0.212308  0.325779  0.29758  0.34365  0.30529  0.245410  0.241676   \n",
       "3  0.369930  0.342355  0.40028  0.33237  0.31480  0.348867  0.341872   \n",
       "4  0.398862  0.391833  0.23688  0.43731  0.50556  0.359572  0.352251   \n",
       "\n",
       "     cont13    cont14  \n",
       "0  0.704052  0.392562  \n",
       "1  0.453468  0.208045  \n",
       "2  0.258586  0.297232  \n",
       "3  0.592264  0.555955  \n",
       "4  0.301535  0.825823  \n",
       "\n",
       "[5 rows x 131 columns]"
      ]
     },
     "execution_count": 11,
     "metadata": {},
     "output_type": "execute_result"
    }
   ],
   "source": [
    "test_data.head()"
   ]
  },
  {
   "cell_type": "code",
   "execution_count": 12,
   "metadata": {},
   "outputs": [],
   "source": [
    "X_train=train_data.drop(['id','loss'],axis=1) \n",
    "X_test=test_data.drop(['id'],axis=1)"
   ]
  },
  {
   "cell_type": "code",
   "execution_count": 13,
   "metadata": {},
   "outputs": [
    {
     "data": {
      "text/html": [
       "<div>\n",
       "<style scoped>\n",
       "    .dataframe tbody tr th:only-of-type {\n",
       "        vertical-align: middle;\n",
       "    }\n",
       "\n",
       "    .dataframe tbody tr th {\n",
       "        vertical-align: top;\n",
       "    }\n",
       "\n",
       "    .dataframe thead th {\n",
       "        text-align: right;\n",
       "    }\n",
       "</style>\n",
       "<table border=\"1\" class=\"dataframe\">\n",
       "  <thead>\n",
       "    <tr style=\"text-align: right;\">\n",
       "      <th></th>\n",
       "      <th>cat1</th>\n",
       "      <th>cat2</th>\n",
       "      <th>cat3</th>\n",
       "      <th>cat4</th>\n",
       "      <th>cat5</th>\n",
       "      <th>cat6</th>\n",
       "      <th>cat7</th>\n",
       "      <th>cat8</th>\n",
       "      <th>cat9</th>\n",
       "      <th>cat10</th>\n",
       "      <th>...</th>\n",
       "      <th>cont5</th>\n",
       "      <th>cont6</th>\n",
       "      <th>cont7</th>\n",
       "      <th>cont8</th>\n",
       "      <th>cont9</th>\n",
       "      <th>cont10</th>\n",
       "      <th>cont11</th>\n",
       "      <th>cont12</th>\n",
       "      <th>cont13</th>\n",
       "      <th>cont14</th>\n",
       "    </tr>\n",
       "  </thead>\n",
       "  <tbody>\n",
       "    <tr>\n",
       "      <th>0</th>\n",
       "      <td>0</td>\n",
       "      <td>1</td>\n",
       "      <td>0</td>\n",
       "      <td>1</td>\n",
       "      <td>0</td>\n",
       "      <td>0</td>\n",
       "      <td>0</td>\n",
       "      <td>0</td>\n",
       "      <td>1</td>\n",
       "      <td>0</td>\n",
       "      <td>...</td>\n",
       "      <td>0.310061</td>\n",
       "      <td>0.718367</td>\n",
       "      <td>0.335060</td>\n",
       "      <td>0.30260</td>\n",
       "      <td>0.67135</td>\n",
       "      <td>0.83510</td>\n",
       "      <td>0.569745</td>\n",
       "      <td>0.594646</td>\n",
       "      <td>0.822493</td>\n",
       "      <td>0.714843</td>\n",
       "    </tr>\n",
       "    <tr>\n",
       "      <th>1</th>\n",
       "      <td>0</td>\n",
       "      <td>1</td>\n",
       "      <td>0</td>\n",
       "      <td>0</td>\n",
       "      <td>0</td>\n",
       "      <td>0</td>\n",
       "      <td>0</td>\n",
       "      <td>0</td>\n",
       "      <td>1</td>\n",
       "      <td>1</td>\n",
       "      <td>...</td>\n",
       "      <td>0.885834</td>\n",
       "      <td>0.438917</td>\n",
       "      <td>0.436585</td>\n",
       "      <td>0.60087</td>\n",
       "      <td>0.35127</td>\n",
       "      <td>0.43919</td>\n",
       "      <td>0.338312</td>\n",
       "      <td>0.366307</td>\n",
       "      <td>0.611431</td>\n",
       "      <td>0.304496</td>\n",
       "    </tr>\n",
       "    <tr>\n",
       "      <th>2</th>\n",
       "      <td>0</td>\n",
       "      <td>1</td>\n",
       "      <td>0</td>\n",
       "      <td>0</td>\n",
       "      <td>1</td>\n",
       "      <td>0</td>\n",
       "      <td>0</td>\n",
       "      <td>0</td>\n",
       "      <td>1</td>\n",
       "      <td>1</td>\n",
       "      <td>...</td>\n",
       "      <td>0.397069</td>\n",
       "      <td>0.289648</td>\n",
       "      <td>0.315545</td>\n",
       "      <td>0.27320</td>\n",
       "      <td>0.26076</td>\n",
       "      <td>0.32446</td>\n",
       "      <td>0.381398</td>\n",
       "      <td>0.373424</td>\n",
       "      <td>0.195709</td>\n",
       "      <td>0.774425</td>\n",
       "    </tr>\n",
       "    <tr>\n",
       "      <th>3</th>\n",
       "      <td>1</td>\n",
       "      <td>1</td>\n",
       "      <td>0</td>\n",
       "      <td>1</td>\n",
       "      <td>0</td>\n",
       "      <td>0</td>\n",
       "      <td>0</td>\n",
       "      <td>0</td>\n",
       "      <td>1</td>\n",
       "      <td>0</td>\n",
       "      <td>...</td>\n",
       "      <td>0.422268</td>\n",
       "      <td>0.440945</td>\n",
       "      <td>0.391128</td>\n",
       "      <td>0.31796</td>\n",
       "      <td>0.32128</td>\n",
       "      <td>0.44467</td>\n",
       "      <td>0.327915</td>\n",
       "      <td>0.321570</td>\n",
       "      <td>0.605077</td>\n",
       "      <td>0.602642</td>\n",
       "    </tr>\n",
       "    <tr>\n",
       "      <th>4</th>\n",
       "      <td>0</td>\n",
       "      <td>1</td>\n",
       "      <td>0</td>\n",
       "      <td>1</td>\n",
       "      <td>0</td>\n",
       "      <td>0</td>\n",
       "      <td>0</td>\n",
       "      <td>0</td>\n",
       "      <td>1</td>\n",
       "      <td>1</td>\n",
       "      <td>...</td>\n",
       "      <td>0.704268</td>\n",
       "      <td>0.178193</td>\n",
       "      <td>0.247408</td>\n",
       "      <td>0.24564</td>\n",
       "      <td>0.22089</td>\n",
       "      <td>0.21230</td>\n",
       "      <td>0.204687</td>\n",
       "      <td>0.202213</td>\n",
       "      <td>0.246011</td>\n",
       "      <td>0.432606</td>\n",
       "    </tr>\n",
       "  </tbody>\n",
       "</table>\n",
       "<p>5 rows × 130 columns</p>\n",
       "</div>"
      ],
      "text/plain": [
       "   cat1  cat2  cat3  cat4  cat5  cat6  cat7  cat8  cat9  cat10  ...     cont5  \\\n",
       "0     0     1     0     1     0     0     0     0     1      0  ...  0.310061   \n",
       "1     0     1     0     0     0     0     0     0     1      1  ...  0.885834   \n",
       "2     0     1     0     0     1     0     0     0     1      1  ...  0.397069   \n",
       "3     1     1     0     1     0     0     0     0     1      0  ...  0.422268   \n",
       "4     0     1     0     1     0     0     0     0     1      1  ...  0.704268   \n",
       "\n",
       "      cont6     cont7    cont8    cont9   cont10    cont11    cont12  \\\n",
       "0  0.718367  0.335060  0.30260  0.67135  0.83510  0.569745  0.594646   \n",
       "1  0.438917  0.436585  0.60087  0.35127  0.43919  0.338312  0.366307   \n",
       "2  0.289648  0.315545  0.27320  0.26076  0.32446  0.381398  0.373424   \n",
       "3  0.440945  0.391128  0.31796  0.32128  0.44467  0.327915  0.321570   \n",
       "4  0.178193  0.247408  0.24564  0.22089  0.21230  0.204687  0.202213   \n",
       "\n",
       "     cont13    cont14  \n",
       "0  0.822493  0.714843  \n",
       "1  0.611431  0.304496  \n",
       "2  0.195709  0.774425  \n",
       "3  0.605077  0.602642  \n",
       "4  0.246011  0.432606  \n",
       "\n",
       "[5 rows x 130 columns]"
      ]
     },
     "execution_count": 13,
     "metadata": {},
     "output_type": "execute_result"
    }
   ],
   "source": [
    "X_train.head()"
   ]
  },
  {
   "cell_type": "code",
   "execution_count": 14,
   "metadata": {},
   "outputs": [
    {
     "data": {
      "text/html": [
       "<div>\n",
       "<style scoped>\n",
       "    .dataframe tbody tr th:only-of-type {\n",
       "        vertical-align: middle;\n",
       "    }\n",
       "\n",
       "    .dataframe tbody tr th {\n",
       "        vertical-align: top;\n",
       "    }\n",
       "\n",
       "    .dataframe thead th {\n",
       "        text-align: right;\n",
       "    }\n",
       "</style>\n",
       "<table border=\"1\" class=\"dataframe\">\n",
       "  <thead>\n",
       "    <tr style=\"text-align: right;\">\n",
       "      <th></th>\n",
       "      <th>cat1</th>\n",
       "      <th>cat2</th>\n",
       "      <th>cat3</th>\n",
       "      <th>cat4</th>\n",
       "      <th>cat5</th>\n",
       "      <th>cat6</th>\n",
       "      <th>cat7</th>\n",
       "      <th>cat8</th>\n",
       "      <th>cat9</th>\n",
       "      <th>cat10</th>\n",
       "      <th>...</th>\n",
       "      <th>cont5</th>\n",
       "      <th>cont6</th>\n",
       "      <th>cont7</th>\n",
       "      <th>cont8</th>\n",
       "      <th>cont9</th>\n",
       "      <th>cont10</th>\n",
       "      <th>cont11</th>\n",
       "      <th>cont12</th>\n",
       "      <th>cont13</th>\n",
       "      <th>cont14</th>\n",
       "    </tr>\n",
       "  </thead>\n",
       "  <tbody>\n",
       "    <tr>\n",
       "      <th>0</th>\n",
       "      <td>0</td>\n",
       "      <td>1</td>\n",
       "      <td>0</td>\n",
       "      <td>0</td>\n",
       "      <td>0</td>\n",
       "      <td>0</td>\n",
       "      <td>0</td>\n",
       "      <td>0</td>\n",
       "      <td>1</td>\n",
       "      <td>0</td>\n",
       "      <td>...</td>\n",
       "      <td>0.281143</td>\n",
       "      <td>0.466591</td>\n",
       "      <td>0.317681</td>\n",
       "      <td>0.61229</td>\n",
       "      <td>0.34365</td>\n",
       "      <td>0.38016</td>\n",
       "      <td>0.377724</td>\n",
       "      <td>0.369858</td>\n",
       "      <td>0.704052</td>\n",
       "      <td>0.392562</td>\n",
       "    </tr>\n",
       "    <tr>\n",
       "      <th>1</th>\n",
       "      <td>0</td>\n",
       "      <td>1</td>\n",
       "      <td>0</td>\n",
       "      <td>1</td>\n",
       "      <td>0</td>\n",
       "      <td>0</td>\n",
       "      <td>0</td>\n",
       "      <td>0</td>\n",
       "      <td>1</td>\n",
       "      <td>0</td>\n",
       "      <td>...</td>\n",
       "      <td>0.836443</td>\n",
       "      <td>0.482425</td>\n",
       "      <td>0.443760</td>\n",
       "      <td>0.71330</td>\n",
       "      <td>0.51890</td>\n",
       "      <td>0.60401</td>\n",
       "      <td>0.689039</td>\n",
       "      <td>0.675759</td>\n",
       "      <td>0.453468</td>\n",
       "      <td>0.208045</td>\n",
       "    </tr>\n",
       "    <tr>\n",
       "      <th>2</th>\n",
       "      <td>0</td>\n",
       "      <td>1</td>\n",
       "      <td>0</td>\n",
       "      <td>1</td>\n",
       "      <td>1</td>\n",
       "      <td>0</td>\n",
       "      <td>1</td>\n",
       "      <td>0</td>\n",
       "      <td>1</td>\n",
       "      <td>1</td>\n",
       "      <td>...</td>\n",
       "      <td>0.718531</td>\n",
       "      <td>0.212308</td>\n",
       "      <td>0.325779</td>\n",
       "      <td>0.29758</td>\n",
       "      <td>0.34365</td>\n",
       "      <td>0.30529</td>\n",
       "      <td>0.245410</td>\n",
       "      <td>0.241676</td>\n",
       "      <td>0.258586</td>\n",
       "      <td>0.297232</td>\n",
       "    </tr>\n",
       "    <tr>\n",
       "      <th>3</th>\n",
       "      <td>0</td>\n",
       "      <td>0</td>\n",
       "      <td>0</td>\n",
       "      <td>0</td>\n",
       "      <td>1</td>\n",
       "      <td>0</td>\n",
       "      <td>0</td>\n",
       "      <td>0</td>\n",
       "      <td>0</td>\n",
       "      <td>0</td>\n",
       "      <td>...</td>\n",
       "      <td>0.397069</td>\n",
       "      <td>0.369930</td>\n",
       "      <td>0.342355</td>\n",
       "      <td>0.40028</td>\n",
       "      <td>0.33237</td>\n",
       "      <td>0.31480</td>\n",
       "      <td>0.348867</td>\n",
       "      <td>0.341872</td>\n",
       "      <td>0.592264</td>\n",
       "      <td>0.555955</td>\n",
       "    </tr>\n",
       "    <tr>\n",
       "      <th>4</th>\n",
       "      <td>1</td>\n",
       "      <td>0</td>\n",
       "      <td>0</td>\n",
       "      <td>0</td>\n",
       "      <td>0</td>\n",
       "      <td>1</td>\n",
       "      <td>0</td>\n",
       "      <td>0</td>\n",
       "      <td>0</td>\n",
       "      <td>0</td>\n",
       "      <td>...</td>\n",
       "      <td>0.302678</td>\n",
       "      <td>0.398862</td>\n",
       "      <td>0.391833</td>\n",
       "      <td>0.23688</td>\n",
       "      <td>0.43731</td>\n",
       "      <td>0.50556</td>\n",
       "      <td>0.359572</td>\n",
       "      <td>0.352251</td>\n",
       "      <td>0.301535</td>\n",
       "      <td>0.825823</td>\n",
       "    </tr>\n",
       "  </tbody>\n",
       "</table>\n",
       "<p>5 rows × 130 columns</p>\n",
       "</div>"
      ],
      "text/plain": [
       "   cat1  cat2  cat3  cat4  cat5  cat6  cat7  cat8  cat9  cat10  ...     cont5  \\\n",
       "0     0     1     0     0     0     0     0     0     1      0  ...  0.281143   \n",
       "1     0     1     0     1     0     0     0     0     1      0  ...  0.836443   \n",
       "2     0     1     0     1     1     0     1     0     1      1  ...  0.718531   \n",
       "3     0     0     0     0     1     0     0     0     0      0  ...  0.397069   \n",
       "4     1     0     0     0     0     1     0     0     0      0  ...  0.302678   \n",
       "\n",
       "      cont6     cont7    cont8    cont9   cont10    cont11    cont12  \\\n",
       "0  0.466591  0.317681  0.61229  0.34365  0.38016  0.377724  0.369858   \n",
       "1  0.482425  0.443760  0.71330  0.51890  0.60401  0.689039  0.675759   \n",
       "2  0.212308  0.325779  0.29758  0.34365  0.30529  0.245410  0.241676   \n",
       "3  0.369930  0.342355  0.40028  0.33237  0.31480  0.348867  0.341872   \n",
       "4  0.398862  0.391833  0.23688  0.43731  0.50556  0.359572  0.352251   \n",
       "\n",
       "     cont13    cont14  \n",
       "0  0.704052  0.392562  \n",
       "1  0.453468  0.208045  \n",
       "2  0.258586  0.297232  \n",
       "3  0.592264  0.555955  \n",
       "4  0.301535  0.825823  \n",
       "\n",
       "[5 rows x 130 columns]"
      ]
     },
     "execution_count": 14,
     "metadata": {},
     "output_type": "execute_result"
    }
   ],
   "source": [
    "X_test.head()"
   ]
  },
  {
   "cell_type": "markdown",
   "metadata": {},
   "source": [
    "#### 1.PCA feature Engineering"
   ]
  },
  {
   "cell_type": "code",
   "execution_count": 15,
   "metadata": {},
   "outputs": [],
   "source": [
    "#Adding PCA features\n",
    "# Create a pca object with the 3 components as a parameter\n",
    "pca=decomposition.PCA(n_components=3)\n",
    "# Fit the PCA and transform the data for train and test\n",
    "X_train_pca=pca.fit_transform(X_train)\n",
    "X_test_pca=pca.fit_transform(X_test)"
   ]
  },
  {
   "cell_type": "code",
   "execution_count": 16,
   "metadata": {},
   "outputs": [
    {
     "data": {
      "text/plain": [
       "array([[119.79290612,  41.19492389, -15.13038677],\n",
       "       [-66.1838885 ,  10.56096618, -10.57981319],\n",
       "       [ -2.26746073, -10.62917666,  20.23749973],\n",
       "       ...,\n",
       "       [-75.1827801 ,  -9.87055298,  21.99442884],\n",
       "       [143.25966502,  61.11725957,  28.18021372],\n",
       "       [145.56586275, -35.65092416,  38.52361092]])"
      ]
     },
     "execution_count": 16,
     "metadata": {},
     "output_type": "execute_result"
    }
   ],
   "source": [
    "X_train_pca"
   ]
  },
  {
   "cell_type": "code",
   "execution_count": 17,
   "metadata": {},
   "outputs": [
    {
     "data": {
      "text/plain": [
       "array([[ 23.40756328,  42.03615722,   7.89950909],\n",
       "       [ 28.45452093,   8.76348399, -25.16611252],\n",
       "       [-97.14015184,  10.33175212,  20.2339531 ],\n",
       "       ...,\n",
       "       [134.73840768,  29.19290216,   1.53232786],\n",
       "       [-72.34175667, -23.9646531 ,  27.8022726 ],\n",
       "       [-91.88578736, -31.0897236 ,  16.71225006]])"
      ]
     },
     "execution_count": 17,
     "metadata": {},
     "output_type": "execute_result"
    }
   ],
   "source": [
    "X_test_pca"
   ]
  },
  {
   "cell_type": "code",
   "execution_count": 18,
   "metadata": {},
   "outputs": [],
   "source": [
    "# Create a scaler object\n",
    "sc = StandardScaler()\n",
    "# Fit the scaler to the features and transform\n",
    "X_train_std = sc.fit_transform(X_train_pca)\n",
    "X_test_std = sc.fit_transform(X_test_pca)"
   ]
  },
  {
   "cell_type": "code",
   "execution_count": 19,
   "metadata": {},
   "outputs": [
    {
     "data": {
      "text/plain": [
       "array([[ 1.61376489,  1.40627584, -0.79473407],\n",
       "       [-0.89158231,  0.36052091, -0.55571203],\n",
       "       [-0.03054562, -0.36284942,  1.06298872],\n",
       "       ...,\n",
       "       [-1.01280898, -0.3369522 ,  1.15527264],\n",
       "       [ 1.92989239,  2.08636689,  1.48018529],\n",
       "       [ 1.96095985, -1.21701968,  2.0234794 ]])"
      ]
     },
     "execution_count": 19,
     "metadata": {},
     "output_type": "execute_result"
    }
   ],
   "source": [
    "X_train_std"
   ]
  },
  {
   "cell_type": "code",
   "execution_count": 20,
   "metadata": {},
   "outputs": [
    {
     "data": {
      "text/plain": [
       "array([[ 0.32566317,  1.50383379,  0.42491749],\n",
       "       [ 0.39588014,  0.31351161, -1.35369441],\n",
       "       [-1.35148495,  0.36961604,  1.08839175],\n",
       "       ...,\n",
       "       [ 1.87457943,  1.04436932,  0.08242448],\n",
       "       [-1.00647151, -0.85732992,  1.49549443],\n",
       "       [-1.27838238, -1.11222766,  0.89895805]])"
      ]
     },
     "execution_count": 20,
     "metadata": {},
     "output_type": "execute_result"
    }
   ],
   "source": [
    "X_test_std"
   ]
  },
  {
   "cell_type": "code",
   "execution_count": 21,
   "metadata": {},
   "outputs": [],
   "source": [
    "#ADDING ABOVE 3 FEATURES TO OUR TRAIN DATA\n",
    "train_data['Pca_feature1']=X_train_std[:,0]\n",
    "train_data['Pca_feature2']=X_train_std[:,1]\n",
    "train_data['Pca_feature3']=X_train_std[:,2]\n",
    "#ADDING ABOVE 3 FEATURES TO OUR TEST DATA\n",
    "test_data['Pca_feature1']=X_test_std[:,0]\n",
    "test_data['Pca_feature2']=X_test_std[:,1]\n",
    "test_data['Pca_feature3']=X_test_std[:,2]"
   ]
  },
  {
   "cell_type": "code",
   "execution_count": 22,
   "metadata": {
    "scrolled": true
   },
   "outputs": [
    {
     "data": {
      "text/html": [
       "<div>\n",
       "<style scoped>\n",
       "    .dataframe tbody tr th:only-of-type {\n",
       "        vertical-align: middle;\n",
       "    }\n",
       "\n",
       "    .dataframe tbody tr th {\n",
       "        vertical-align: top;\n",
       "    }\n",
       "\n",
       "    .dataframe thead th {\n",
       "        text-align: right;\n",
       "    }\n",
       "</style>\n",
       "<table border=\"1\" class=\"dataframe\">\n",
       "  <thead>\n",
       "    <tr style=\"text-align: right;\">\n",
       "      <th></th>\n",
       "      <th>id</th>\n",
       "      <th>cat1</th>\n",
       "      <th>cat2</th>\n",
       "      <th>cat3</th>\n",
       "      <th>cat4</th>\n",
       "      <th>cat5</th>\n",
       "      <th>cat6</th>\n",
       "      <th>cat7</th>\n",
       "      <th>cat8</th>\n",
       "      <th>cat9</th>\n",
       "      <th>...</th>\n",
       "      <th>cont9</th>\n",
       "      <th>cont10</th>\n",
       "      <th>cont11</th>\n",
       "      <th>cont12</th>\n",
       "      <th>cont13</th>\n",
       "      <th>cont14</th>\n",
       "      <th>loss</th>\n",
       "      <th>Pca_feature1</th>\n",
       "      <th>Pca_feature2</th>\n",
       "      <th>Pca_feature3</th>\n",
       "    </tr>\n",
       "  </thead>\n",
       "  <tbody>\n",
       "    <tr>\n",
       "      <th>0</th>\n",
       "      <td>1</td>\n",
       "      <td>0</td>\n",
       "      <td>1</td>\n",
       "      <td>0</td>\n",
       "      <td>1</td>\n",
       "      <td>0</td>\n",
       "      <td>0</td>\n",
       "      <td>0</td>\n",
       "      <td>0</td>\n",
       "      <td>1</td>\n",
       "      <td>...</td>\n",
       "      <td>0.67135</td>\n",
       "      <td>0.83510</td>\n",
       "      <td>0.569745</td>\n",
       "      <td>0.594646</td>\n",
       "      <td>0.822493</td>\n",
       "      <td>0.714843</td>\n",
       "      <td>2213.18</td>\n",
       "      <td>1.613765</td>\n",
       "      <td>1.406276</td>\n",
       "      <td>-0.794734</td>\n",
       "    </tr>\n",
       "    <tr>\n",
       "      <th>1</th>\n",
       "      <td>2</td>\n",
       "      <td>0</td>\n",
       "      <td>1</td>\n",
       "      <td>0</td>\n",
       "      <td>0</td>\n",
       "      <td>0</td>\n",
       "      <td>0</td>\n",
       "      <td>0</td>\n",
       "      <td>0</td>\n",
       "      <td>1</td>\n",
       "      <td>...</td>\n",
       "      <td>0.35127</td>\n",
       "      <td>0.43919</td>\n",
       "      <td>0.338312</td>\n",
       "      <td>0.366307</td>\n",
       "      <td>0.611431</td>\n",
       "      <td>0.304496</td>\n",
       "      <td>1283.60</td>\n",
       "      <td>-0.891582</td>\n",
       "      <td>0.360521</td>\n",
       "      <td>-0.555712</td>\n",
       "    </tr>\n",
       "    <tr>\n",
       "      <th>2</th>\n",
       "      <td>5</td>\n",
       "      <td>0</td>\n",
       "      <td>1</td>\n",
       "      <td>0</td>\n",
       "      <td>0</td>\n",
       "      <td>1</td>\n",
       "      <td>0</td>\n",
       "      <td>0</td>\n",
       "      <td>0</td>\n",
       "      <td>1</td>\n",
       "      <td>...</td>\n",
       "      <td>0.26076</td>\n",
       "      <td>0.32446</td>\n",
       "      <td>0.381398</td>\n",
       "      <td>0.373424</td>\n",
       "      <td>0.195709</td>\n",
       "      <td>0.774425</td>\n",
       "      <td>3005.09</td>\n",
       "      <td>-0.030546</td>\n",
       "      <td>-0.362849</td>\n",
       "      <td>1.062989</td>\n",
       "    </tr>\n",
       "    <tr>\n",
       "      <th>3</th>\n",
       "      <td>10</td>\n",
       "      <td>1</td>\n",
       "      <td>1</td>\n",
       "      <td>0</td>\n",
       "      <td>1</td>\n",
       "      <td>0</td>\n",
       "      <td>0</td>\n",
       "      <td>0</td>\n",
       "      <td>0</td>\n",
       "      <td>1</td>\n",
       "      <td>...</td>\n",
       "      <td>0.32128</td>\n",
       "      <td>0.44467</td>\n",
       "      <td>0.327915</td>\n",
       "      <td>0.321570</td>\n",
       "      <td>0.605077</td>\n",
       "      <td>0.602642</td>\n",
       "      <td>939.85</td>\n",
       "      <td>-1.001872</td>\n",
       "      <td>0.346318</td>\n",
       "      <td>1.167534</td>\n",
       "    </tr>\n",
       "    <tr>\n",
       "      <th>4</th>\n",
       "      <td>11</td>\n",
       "      <td>0</td>\n",
       "      <td>1</td>\n",
       "      <td>0</td>\n",
       "      <td>1</td>\n",
       "      <td>0</td>\n",
       "      <td>0</td>\n",
       "      <td>0</td>\n",
       "      <td>0</td>\n",
       "      <td>1</td>\n",
       "      <td>...</td>\n",
       "      <td>0.22089</td>\n",
       "      <td>0.21230</td>\n",
       "      <td>0.204687</td>\n",
       "      <td>0.202213</td>\n",
       "      <td>0.246011</td>\n",
       "      <td>0.432606</td>\n",
       "      <td>2763.85</td>\n",
       "      <td>-1.282440</td>\n",
       "      <td>0.917827</td>\n",
       "      <td>-0.348521</td>\n",
       "    </tr>\n",
       "  </tbody>\n",
       "</table>\n",
       "<p>5 rows × 135 columns</p>\n",
       "</div>"
      ],
      "text/plain": [
       "   id  cat1  cat2  cat3  cat4  cat5  cat6  cat7  cat8  cat9  ...    cont9  \\\n",
       "0   1     0     1     0     1     0     0     0     0     1  ...  0.67135   \n",
       "1   2     0     1     0     0     0     0     0     0     1  ...  0.35127   \n",
       "2   5     0     1     0     0     1     0     0     0     1  ...  0.26076   \n",
       "3  10     1     1     0     1     0     0     0     0     1  ...  0.32128   \n",
       "4  11     0     1     0     1     0     0     0     0     1  ...  0.22089   \n",
       "\n",
       "    cont10    cont11    cont12    cont13    cont14     loss  Pca_feature1  \\\n",
       "0  0.83510  0.569745  0.594646  0.822493  0.714843  2213.18      1.613765   \n",
       "1  0.43919  0.338312  0.366307  0.611431  0.304496  1283.60     -0.891582   \n",
       "2  0.32446  0.381398  0.373424  0.195709  0.774425  3005.09     -0.030546   \n",
       "3  0.44467  0.327915  0.321570  0.605077  0.602642   939.85     -1.001872   \n",
       "4  0.21230  0.204687  0.202213  0.246011  0.432606  2763.85     -1.282440   \n",
       "\n",
       "   Pca_feature2  Pca_feature3  \n",
       "0      1.406276     -0.794734  \n",
       "1      0.360521     -0.555712  \n",
       "2     -0.362849      1.062989  \n",
       "3      0.346318      1.167534  \n",
       "4      0.917827     -0.348521  \n",
       "\n",
       "[5 rows x 135 columns]"
      ]
     },
     "execution_count": 22,
     "metadata": {},
     "output_type": "execute_result"
    }
   ],
   "source": [
    "train_data.head()"
   ]
  },
  {
   "cell_type": "code",
   "execution_count": 23,
   "metadata": {},
   "outputs": [
    {
     "data": {
      "text/html": [
       "<div>\n",
       "<style scoped>\n",
       "    .dataframe tbody tr th:only-of-type {\n",
       "        vertical-align: middle;\n",
       "    }\n",
       "\n",
       "    .dataframe tbody tr th {\n",
       "        vertical-align: top;\n",
       "    }\n",
       "\n",
       "    .dataframe thead th {\n",
       "        text-align: right;\n",
       "    }\n",
       "</style>\n",
       "<table border=\"1\" class=\"dataframe\">\n",
       "  <thead>\n",
       "    <tr style=\"text-align: right;\">\n",
       "      <th></th>\n",
       "      <th>id</th>\n",
       "      <th>cat1</th>\n",
       "      <th>cat2</th>\n",
       "      <th>cat3</th>\n",
       "      <th>cat4</th>\n",
       "      <th>cat5</th>\n",
       "      <th>cat6</th>\n",
       "      <th>cat7</th>\n",
       "      <th>cat8</th>\n",
       "      <th>cat9</th>\n",
       "      <th>...</th>\n",
       "      <th>cont8</th>\n",
       "      <th>cont9</th>\n",
       "      <th>cont10</th>\n",
       "      <th>cont11</th>\n",
       "      <th>cont12</th>\n",
       "      <th>cont13</th>\n",
       "      <th>cont14</th>\n",
       "      <th>Pca_feature1</th>\n",
       "      <th>Pca_feature2</th>\n",
       "      <th>Pca_feature3</th>\n",
       "    </tr>\n",
       "  </thead>\n",
       "  <tbody>\n",
       "    <tr>\n",
       "      <th>0</th>\n",
       "      <td>4</td>\n",
       "      <td>0</td>\n",
       "      <td>1</td>\n",
       "      <td>0</td>\n",
       "      <td>0</td>\n",
       "      <td>0</td>\n",
       "      <td>0</td>\n",
       "      <td>0</td>\n",
       "      <td>0</td>\n",
       "      <td>1</td>\n",
       "      <td>...</td>\n",
       "      <td>0.61229</td>\n",
       "      <td>0.34365</td>\n",
       "      <td>0.38016</td>\n",
       "      <td>0.377724</td>\n",
       "      <td>0.369858</td>\n",
       "      <td>0.704052</td>\n",
       "      <td>0.392562</td>\n",
       "      <td>0.325663</td>\n",
       "      <td>1.503834</td>\n",
       "      <td>0.424917</td>\n",
       "    </tr>\n",
       "    <tr>\n",
       "      <th>1</th>\n",
       "      <td>6</td>\n",
       "      <td>0</td>\n",
       "      <td>1</td>\n",
       "      <td>0</td>\n",
       "      <td>1</td>\n",
       "      <td>0</td>\n",
       "      <td>0</td>\n",
       "      <td>0</td>\n",
       "      <td>0</td>\n",
       "      <td>1</td>\n",
       "      <td>...</td>\n",
       "      <td>0.71330</td>\n",
       "      <td>0.51890</td>\n",
       "      <td>0.60401</td>\n",
       "      <td>0.689039</td>\n",
       "      <td>0.675759</td>\n",
       "      <td>0.453468</td>\n",
       "      <td>0.208045</td>\n",
       "      <td>0.395880</td>\n",
       "      <td>0.313512</td>\n",
       "      <td>-1.353694</td>\n",
       "    </tr>\n",
       "    <tr>\n",
       "      <th>2</th>\n",
       "      <td>9</td>\n",
       "      <td>0</td>\n",
       "      <td>1</td>\n",
       "      <td>0</td>\n",
       "      <td>1</td>\n",
       "      <td>1</td>\n",
       "      <td>0</td>\n",
       "      <td>1</td>\n",
       "      <td>0</td>\n",
       "      <td>1</td>\n",
       "      <td>...</td>\n",
       "      <td>0.29758</td>\n",
       "      <td>0.34365</td>\n",
       "      <td>0.30529</td>\n",
       "      <td>0.245410</td>\n",
       "      <td>0.241676</td>\n",
       "      <td>0.258586</td>\n",
       "      <td>0.297232</td>\n",
       "      <td>-1.351485</td>\n",
       "      <td>0.369616</td>\n",
       "      <td>1.088392</td>\n",
       "    </tr>\n",
       "    <tr>\n",
       "      <th>3</th>\n",
       "      <td>12</td>\n",
       "      <td>0</td>\n",
       "      <td>0</td>\n",
       "      <td>0</td>\n",
       "      <td>0</td>\n",
       "      <td>1</td>\n",
       "      <td>0</td>\n",
       "      <td>0</td>\n",
       "      <td>0</td>\n",
       "      <td>0</td>\n",
       "      <td>...</td>\n",
       "      <td>0.40028</td>\n",
       "      <td>0.33237</td>\n",
       "      <td>0.31480</td>\n",
       "      <td>0.348867</td>\n",
       "      <td>0.341872</td>\n",
       "      <td>0.592264</td>\n",
       "      <td>0.555955</td>\n",
       "      <td>-0.993011</td>\n",
       "      <td>0.373795</td>\n",
       "      <td>0.910400</td>\n",
       "    </tr>\n",
       "    <tr>\n",
       "      <th>4</th>\n",
       "      <td>15</td>\n",
       "      <td>1</td>\n",
       "      <td>0</td>\n",
       "      <td>0</td>\n",
       "      <td>0</td>\n",
       "      <td>0</td>\n",
       "      <td>1</td>\n",
       "      <td>0</td>\n",
       "      <td>0</td>\n",
       "      <td>0</td>\n",
       "      <td>...</td>\n",
       "      <td>0.23688</td>\n",
       "      <td>0.43731</td>\n",
       "      <td>0.50556</td>\n",
       "      <td>0.359572</td>\n",
       "      <td>0.352251</td>\n",
       "      <td>0.301535</td>\n",
       "      <td>0.825823</td>\n",
       "      <td>0.218285</td>\n",
       "      <td>-1.173136</td>\n",
       "      <td>-0.864722</td>\n",
       "    </tr>\n",
       "  </tbody>\n",
       "</table>\n",
       "<p>5 rows × 134 columns</p>\n",
       "</div>"
      ],
      "text/plain": [
       "   id  cat1  cat2  cat3  cat4  cat5  cat6  cat7  cat8  cat9  ...    cont8  \\\n",
       "0   4     0     1     0     0     0     0     0     0     1  ...  0.61229   \n",
       "1   6     0     1     0     1     0     0     0     0     1  ...  0.71330   \n",
       "2   9     0     1     0     1     1     0     1     0     1  ...  0.29758   \n",
       "3  12     0     0     0     0     1     0     0     0     0  ...  0.40028   \n",
       "4  15     1     0     0     0     0     1     0     0     0  ...  0.23688   \n",
       "\n",
       "     cont9   cont10    cont11    cont12    cont13    cont14  Pca_feature1  \\\n",
       "0  0.34365  0.38016  0.377724  0.369858  0.704052  0.392562      0.325663   \n",
       "1  0.51890  0.60401  0.689039  0.675759  0.453468  0.208045      0.395880   \n",
       "2  0.34365  0.30529  0.245410  0.241676  0.258586  0.297232     -1.351485   \n",
       "3  0.33237  0.31480  0.348867  0.341872  0.592264  0.555955     -0.993011   \n",
       "4  0.43731  0.50556  0.359572  0.352251  0.301535  0.825823      0.218285   \n",
       "\n",
       "   Pca_feature2  Pca_feature3  \n",
       "0      1.503834      0.424917  \n",
       "1      0.313512     -1.353694  \n",
       "2      0.369616      1.088392  \n",
       "3      0.373795      0.910400  \n",
       "4     -1.173136     -0.864722  \n",
       "\n",
       "[5 rows x 134 columns]"
      ]
     },
     "execution_count": 23,
     "metadata": {},
     "output_type": "execute_result"
    }
   ],
   "source": [
    "test_data.head()"
   ]
  },
  {
   "cell_type": "markdown",
   "metadata": {},
   "source": [
    "#### 2.SVD feature Engineering"
   ]
  },
  {
   "cell_type": "code",
   "execution_count": 24,
   "metadata": {},
   "outputs": [],
   "source": [
    "n_components=50\n",
    "svd=TruncatedSVD(50)\n",
    "#FIT THE SVD AND TRANSFORM THE DATA FOR TRAIN AND TEST\n",
    "X_train_svd=svd.fit_transform(X_train)\n",
    "X_test_svd=svd.fit_transform(X_test)"
   ]
  },
  {
   "cell_type": "code",
   "execution_count": 25,
   "metadata": {},
   "outputs": [
    {
     "data": {
      "text/plain": [
       "array([[ 2.70016794e+02,  7.50206161e+01,  2.09508707e+01, ...,\n",
       "         1.03169202e-01, -7.83282178e-03, -7.51782626e-02],\n",
       "       [ 1.16903317e+02, -3.48253417e+01,  1.65345987e+01, ...,\n",
       "        -8.47073457e-02,  4.75502686e-01, -3.40902847e-01],\n",
       "       [ 1.73381672e+02, -1.22578154e+01, -2.53892141e+01, ...,\n",
       "        -1.30446324e-01, -5.65493889e-02, -3.31992634e-01],\n",
       "       ...,\n",
       "       [ 1.16261375e+02, -5.47869894e+01, -1.65253382e+01, ...,\n",
       "        -1.68348559e-01, -2.17027600e-01, -1.52106046e-01],\n",
       "       [ 2.77233421e+02,  1.09994923e+02, -2.08282748e+01, ...,\n",
       "        -3.22692080e-02,  3.23579322e-02, -4.00636499e-02],\n",
       "       [ 3.16992442e+02,  3.12924228e+01, -4.91424385e+01, ...,\n",
       "        -1.36954904e-01,  3.68310816e-01,  2.59039972e-01]])"
      ]
     },
     "execution_count": 25,
     "metadata": {},
     "output_type": "execute_result"
    }
   ],
   "source": [
    "X_train_svd"
   ]
  },
  {
   "cell_type": "code",
   "execution_count": 26,
   "metadata": {},
   "outputs": [
    {
     "data": {
      "text/plain": [
       "array([[ 1.76164525e+02,  3.36779764e+01,  3.77935960e+00, ...,\n",
       "        -3.47491001e-02,  6.98428391e-03,  1.39321658e-01],\n",
       "       [ 1.95369890e+02,  5.07072709e+00,  2.75969452e+01, ...,\n",
       "        -9.77751333e-02,  7.41278050e-02,  3.53954655e-01],\n",
       "       [ 8.03930703e+01, -4.59426255e+01, -9.38771999e+00, ...,\n",
       "         1.53334115e+00,  3.21888722e-01,  2.33102600e-01],\n",
       "       ...,\n",
       "       [ 2.79651838e+02,  7.33942697e+01,  1.80059836e+00, ...,\n",
       "        -1.33137890e-01, -4.56861031e-01,  3.58486374e-01],\n",
       "       [ 1.19329177e+02, -6.80352577e+01, -2.15849239e+01, ...,\n",
       "        -2.54515719e-02,  2.98652781e-02, -3.80688161e-03],\n",
       "       [ 9.31259850e+01, -6.79570018e+01, -2.42249147e+01, ...,\n",
       "        -1.70964636e-01,  2.27226383e-01,  2.24892157e-01]])"
      ]
     },
     "execution_count": 26,
     "metadata": {},
     "output_type": "execute_result"
    }
   ],
   "source": [
    "X_test_svd"
   ]
  },
  {
   "cell_type": "code",
   "execution_count": 27,
   "metadata": {},
   "outputs": [],
   "source": [
    "# Create a scaler object\n",
    "sc = StandardScaler()\n",
    "# Fit the scaler to the features and transform\n",
    "X_train_std_svd = sc.fit_transform(X_train_svd)\n",
    "X_test_std_svd = sc.fit_transform(X_test_svd)"
   ]
  },
  {
   "cell_type": "code",
   "execution_count": 28,
   "metadata": {},
   "outputs": [
    {
     "data": {
      "text/plain": [
       "array([[ 1.379621  ,  2.04216719,  1.02355809, ...,  0.41450771,\n",
       "        -0.02776513, -0.31179579],\n",
       "       [-0.91104253, -0.56918807,  0.79552258, ..., -0.34709124,\n",
       "         2.02149675, -1.44310188],\n",
       "       [-0.06609465, -0.03269287, -1.36922578, ..., -0.53250426,\n",
       "        -0.23431525, -1.40516719],\n",
       "       ...,\n",
       "       [-0.92064634, -1.04373401, -0.91153695, ..., -0.68614932,\n",
       "        -0.91471608, -0.6393111 ],\n",
       "       [ 1.48758579,  2.87360735, -1.13372035, ..., -0.13452171,\n",
       "         0.14263696, -0.16229749],\n",
       "       [ 2.08240305,  1.00262191, -2.59573049, ..., -0.55888823,\n",
       "         1.56702111,  1.1111178 ]])"
      ]
     },
     "execution_count": 28,
     "metadata": {},
     "output_type": "execute_result"
    }
   ],
   "source": [
    "X_train_std_svd"
   ]
  },
  {
   "cell_type": "code",
   "execution_count": 29,
   "metadata": {},
   "outputs": [
    {
     "data": {
      "text/plain": [
       "array([[ 0.09065866,  1.10707373,  0.13506461, ..., -0.14497892,\n",
       "         0.03400637,  0.60145681],\n",
       "       [ 0.38602882,  0.39054195,  1.38730975, ..., -0.40214415,\n",
       "         0.31793926,  1.51301462],\n",
       "       [-1.38226467, -0.88720022, -0.55721426, ...,  6.25330236,\n",
       "         1.3656572 ,  0.99974948],\n",
       "       ...,\n",
       "       [ 1.68224852,  2.10185608,  0.03102828, ..., -0.54643487,\n",
       "        -1.92747758,  1.53226107],\n",
       "       [-0.78344427, -1.44055903, -1.19850047, ..., -0.1070422 ,\n",
       "         0.13076428, -0.00641775],\n",
       "       [-1.18643798, -1.43859893, -1.33730193, ..., -0.70077941,\n",
       "         0.96535423,  0.96487929]])"
      ]
     },
     "execution_count": 29,
     "metadata": {},
     "output_type": "execute_result"
    }
   ],
   "source": [
    "X_test_std_svd"
   ]
  },
  {
   "cell_type": "code",
   "execution_count": 30,
   "metadata": {},
   "outputs": [
    {
     "data": {
      "text/plain": [
       "(188318, 50)"
      ]
     },
     "execution_count": 30,
     "metadata": {},
     "output_type": "execute_result"
    }
   ],
   "source": [
    "X_train_std_svd.shape"
   ]
  },
  {
   "cell_type": "code",
   "execution_count": 31,
   "metadata": {},
   "outputs": [],
   "source": [
    "X_train_std_svd=pd.DataFrame(X_train_std_svd)\n",
    "X_test_std_svd=pd.DataFrame(X_test_std_svd)"
   ]
  },
  {
   "cell_type": "code",
   "execution_count": 32,
   "metadata": {},
   "outputs": [
    {
     "data": {
      "text/html": [
       "<div>\n",
       "<style scoped>\n",
       "    .dataframe tbody tr th:only-of-type {\n",
       "        vertical-align: middle;\n",
       "    }\n",
       "\n",
       "    .dataframe tbody tr th {\n",
       "        vertical-align: top;\n",
       "    }\n",
       "\n",
       "    .dataframe thead th {\n",
       "        text-align: right;\n",
       "    }\n",
       "</style>\n",
       "<table border=\"1\" class=\"dataframe\">\n",
       "  <thead>\n",
       "    <tr style=\"text-align: right;\">\n",
       "      <th></th>\n",
       "      <th>0</th>\n",
       "      <th>1</th>\n",
       "      <th>2</th>\n",
       "      <th>3</th>\n",
       "      <th>4</th>\n",
       "      <th>5</th>\n",
       "      <th>6</th>\n",
       "      <th>7</th>\n",
       "      <th>8</th>\n",
       "      <th>9</th>\n",
       "      <th>...</th>\n",
       "      <th>40</th>\n",
       "      <th>41</th>\n",
       "      <th>42</th>\n",
       "      <th>43</th>\n",
       "      <th>44</th>\n",
       "      <th>45</th>\n",
       "      <th>46</th>\n",
       "      <th>47</th>\n",
       "      <th>48</th>\n",
       "      <th>49</th>\n",
       "    </tr>\n",
       "  </thead>\n",
       "  <tbody>\n",
       "    <tr>\n",
       "      <th>0</th>\n",
       "      <td>1.379621</td>\n",
       "      <td>2.042167</td>\n",
       "      <td>1.023558</td>\n",
       "      <td>0.459469</td>\n",
       "      <td>1.064850</td>\n",
       "      <td>0.335264</td>\n",
       "      <td>0.109805</td>\n",
       "      <td>1.790696</td>\n",
       "      <td>0.070367</td>\n",
       "      <td>-1.812261</td>\n",
       "      <td>...</td>\n",
       "      <td>-1.293430</td>\n",
       "      <td>0.944129</td>\n",
       "      <td>1.212112</td>\n",
       "      <td>0.151955</td>\n",
       "      <td>-0.840833</td>\n",
       "      <td>1.574046</td>\n",
       "      <td>0.254690</td>\n",
       "      <td>0.414508</td>\n",
       "      <td>-0.027765</td>\n",
       "      <td>-0.311796</td>\n",
       "    </tr>\n",
       "    <tr>\n",
       "      <th>1</th>\n",
       "      <td>-0.911043</td>\n",
       "      <td>-0.569188</td>\n",
       "      <td>0.795523</td>\n",
       "      <td>0.557313</td>\n",
       "      <td>0.459882</td>\n",
       "      <td>-1.489698</td>\n",
       "      <td>0.302100</td>\n",
       "      <td>0.518445</td>\n",
       "      <td>-1.569131</td>\n",
       "      <td>0.583821</td>\n",
       "      <td>...</td>\n",
       "      <td>1.117633</td>\n",
       "      <td>-0.572326</td>\n",
       "      <td>-0.178976</td>\n",
       "      <td>0.071099</td>\n",
       "      <td>-0.033299</td>\n",
       "      <td>-1.122847</td>\n",
       "      <td>0.166747</td>\n",
       "      <td>-0.347091</td>\n",
       "      <td>2.021497</td>\n",
       "      <td>-1.443102</td>\n",
       "    </tr>\n",
       "    <tr>\n",
       "      <th>2</th>\n",
       "      <td>-0.066095</td>\n",
       "      <td>-0.032693</td>\n",
       "      <td>-1.369226</td>\n",
       "      <td>-1.192197</td>\n",
       "      <td>-1.970946</td>\n",
       "      <td>0.275540</td>\n",
       "      <td>3.541697</td>\n",
       "      <td>-0.031961</td>\n",
       "      <td>-0.393538</td>\n",
       "      <td>0.948226</td>\n",
       "      <td>...</td>\n",
       "      <td>-0.639259</td>\n",
       "      <td>-0.361985</td>\n",
       "      <td>-0.532590</td>\n",
       "      <td>-0.567427</td>\n",
       "      <td>-0.026862</td>\n",
       "      <td>0.811226</td>\n",
       "      <td>-0.430778</td>\n",
       "      <td>-0.532504</td>\n",
       "      <td>-0.234315</td>\n",
       "      <td>-1.405167</td>\n",
       "    </tr>\n",
       "    <tr>\n",
       "      <th>3</th>\n",
       "      <td>-1.034195</td>\n",
       "      <td>-0.625212</td>\n",
       "      <td>-0.765639</td>\n",
       "      <td>1.462330</td>\n",
       "      <td>-0.880809</td>\n",
       "      <td>-1.420901</td>\n",
       "      <td>-0.399768</td>\n",
       "      <td>0.835582</td>\n",
       "      <td>-1.144710</td>\n",
       "      <td>0.107071</td>\n",
       "      <td>...</td>\n",
       "      <td>-0.630797</td>\n",
       "      <td>1.184554</td>\n",
       "      <td>0.819222</td>\n",
       "      <td>0.326491</td>\n",
       "      <td>-0.441032</td>\n",
       "      <td>-0.430384</td>\n",
       "      <td>0.270558</td>\n",
       "      <td>0.185221</td>\n",
       "      <td>-0.263990</td>\n",
       "      <td>0.386238</td>\n",
       "    </tr>\n",
       "    <tr>\n",
       "      <th>4</th>\n",
       "      <td>-1.278708</td>\n",
       "      <td>-0.790655</td>\n",
       "      <td>1.239610</td>\n",
       "      <td>3.392621</td>\n",
       "      <td>0.440726</td>\n",
       "      <td>1.466224</td>\n",
       "      <td>0.826447</td>\n",
       "      <td>1.863478</td>\n",
       "      <td>0.728196</td>\n",
       "      <td>-0.023672</td>\n",
       "      <td>...</td>\n",
       "      <td>-0.128633</td>\n",
       "      <td>0.858617</td>\n",
       "      <td>0.753721</td>\n",
       "      <td>-0.559749</td>\n",
       "      <td>-0.791526</td>\n",
       "      <td>-3.322677</td>\n",
       "      <td>-0.408481</td>\n",
       "      <td>-0.835578</td>\n",
       "      <td>-0.737093</td>\n",
       "      <td>0.272414</td>\n",
       "    </tr>\n",
       "    <tr>\n",
       "      <th>...</th>\n",
       "      <td>...</td>\n",
       "      <td>...</td>\n",
       "      <td>...</td>\n",
       "      <td>...</td>\n",
       "      <td>...</td>\n",
       "      <td>...</td>\n",
       "      <td>...</td>\n",
       "      <td>...</td>\n",
       "      <td>...</td>\n",
       "      <td>...</td>\n",
       "      <td>...</td>\n",
       "      <td>...</td>\n",
       "      <td>...</td>\n",
       "      <td>...</td>\n",
       "      <td>...</td>\n",
       "      <td>...</td>\n",
       "      <td>...</td>\n",
       "      <td>...</td>\n",
       "      <td>...</td>\n",
       "      <td>...</td>\n",
       "      <td>...</td>\n",
       "    </tr>\n",
       "    <tr>\n",
       "      <th>188313</th>\n",
       "      <td>-1.078379</td>\n",
       "      <td>-1.733831</td>\n",
       "      <td>0.528575</td>\n",
       "      <td>0.253788</td>\n",
       "      <td>-0.183566</td>\n",
       "      <td>0.545685</td>\n",
       "      <td>0.209888</td>\n",
       "      <td>-0.007617</td>\n",
       "      <td>-0.260662</td>\n",
       "      <td>-0.646521</td>\n",
       "      <td>...</td>\n",
       "      <td>1.586218</td>\n",
       "      <td>2.130361</td>\n",
       "      <td>-0.738792</td>\n",
       "      <td>0.277919</td>\n",
       "      <td>-0.085125</td>\n",
       "      <td>0.375849</td>\n",
       "      <td>-0.281453</td>\n",
       "      <td>-0.470344</td>\n",
       "      <td>-0.400440</td>\n",
       "      <td>-0.329630</td>\n",
       "    </tr>\n",
       "    <tr>\n",
       "      <th>188314</th>\n",
       "      <td>-1.218802</td>\n",
       "      <td>-0.173960</td>\n",
       "      <td>0.178306</td>\n",
       "      <td>1.053329</td>\n",
       "      <td>0.312858</td>\n",
       "      <td>-0.256335</td>\n",
       "      <td>0.063752</td>\n",
       "      <td>-1.696670</td>\n",
       "      <td>-0.006872</td>\n",
       "      <td>-0.507229</td>\n",
       "      <td>...</td>\n",
       "      <td>-0.922629</td>\n",
       "      <td>0.195126</td>\n",
       "      <td>0.080626</td>\n",
       "      <td>-0.294140</td>\n",
       "      <td>0.692050</td>\n",
       "      <td>0.028145</td>\n",
       "      <td>-0.090172</td>\n",
       "      <td>-0.005985</td>\n",
       "      <td>0.007701</td>\n",
       "      <td>-0.156264</td>\n",
       "    </tr>\n",
       "    <tr>\n",
       "      <th>188315</th>\n",
       "      <td>-0.920646</td>\n",
       "      <td>-1.043734</td>\n",
       "      <td>-0.911537</td>\n",
       "      <td>1.314944</td>\n",
       "      <td>-1.483423</td>\n",
       "      <td>0.732249</td>\n",
       "      <td>-0.260256</td>\n",
       "      <td>0.580436</td>\n",
       "      <td>1.138827</td>\n",
       "      <td>-0.070489</td>\n",
       "      <td>...</td>\n",
       "      <td>0.584425</td>\n",
       "      <td>0.192306</td>\n",
       "      <td>-0.511789</td>\n",
       "      <td>0.413706</td>\n",
       "      <td>-0.813752</td>\n",
       "      <td>0.286033</td>\n",
       "      <td>-0.510361</td>\n",
       "      <td>-0.686149</td>\n",
       "      <td>-0.914716</td>\n",
       "      <td>-0.639311</td>\n",
       "    </tr>\n",
       "    <tr>\n",
       "      <th>188316</th>\n",
       "      <td>1.487586</td>\n",
       "      <td>2.873607</td>\n",
       "      <td>-1.133720</td>\n",
       "      <td>0.603398</td>\n",
       "      <td>0.038799</td>\n",
       "      <td>-1.442547</td>\n",
       "      <td>1.795803</td>\n",
       "      <td>0.337399</td>\n",
       "      <td>-0.853783</td>\n",
       "      <td>0.135038</td>\n",
       "      <td>...</td>\n",
       "      <td>1.123446</td>\n",
       "      <td>-0.784617</td>\n",
       "      <td>-0.087172</td>\n",
       "      <td>-0.443354</td>\n",
       "      <td>0.194504</td>\n",
       "      <td>-2.677394</td>\n",
       "      <td>0.042969</td>\n",
       "      <td>-0.134522</td>\n",
       "      <td>0.142637</td>\n",
       "      <td>-0.162297</td>\n",
       "    </tr>\n",
       "    <tr>\n",
       "      <th>188317</th>\n",
       "      <td>2.082403</td>\n",
       "      <td>1.002622</td>\n",
       "      <td>-2.595730</td>\n",
       "      <td>-1.172177</td>\n",
       "      <td>-0.192716</td>\n",
       "      <td>0.337819</td>\n",
       "      <td>-0.297245</td>\n",
       "      <td>-0.309350</td>\n",
       "      <td>0.433216</td>\n",
       "      <td>-0.198967</td>\n",
       "      <td>...</td>\n",
       "      <td>-0.080647</td>\n",
       "      <td>-2.444261</td>\n",
       "      <td>-0.207249</td>\n",
       "      <td>0.151658</td>\n",
       "      <td>1.030546</td>\n",
       "      <td>-0.057850</td>\n",
       "      <td>-0.266465</td>\n",
       "      <td>-0.558888</td>\n",
       "      <td>1.567021</td>\n",
       "      <td>1.111118</td>\n",
       "    </tr>\n",
       "  </tbody>\n",
       "</table>\n",
       "<p>188318 rows × 50 columns</p>\n",
       "</div>"
      ],
      "text/plain": [
       "              0         1         2         3         4         5         6   \\\n",
       "0       1.379621  2.042167  1.023558  0.459469  1.064850  0.335264  0.109805   \n",
       "1      -0.911043 -0.569188  0.795523  0.557313  0.459882 -1.489698  0.302100   \n",
       "2      -0.066095 -0.032693 -1.369226 -1.192197 -1.970946  0.275540  3.541697   \n",
       "3      -1.034195 -0.625212 -0.765639  1.462330 -0.880809 -1.420901 -0.399768   \n",
       "4      -1.278708 -0.790655  1.239610  3.392621  0.440726  1.466224  0.826447   \n",
       "...          ...       ...       ...       ...       ...       ...       ...   \n",
       "188313 -1.078379 -1.733831  0.528575  0.253788 -0.183566  0.545685  0.209888   \n",
       "188314 -1.218802 -0.173960  0.178306  1.053329  0.312858 -0.256335  0.063752   \n",
       "188315 -0.920646 -1.043734 -0.911537  1.314944 -1.483423  0.732249 -0.260256   \n",
       "188316  1.487586  2.873607 -1.133720  0.603398  0.038799 -1.442547  1.795803   \n",
       "188317  2.082403  1.002622 -2.595730 -1.172177 -0.192716  0.337819 -0.297245   \n",
       "\n",
       "              7         8         9   ...        40        41        42  \\\n",
       "0       1.790696  0.070367 -1.812261  ... -1.293430  0.944129  1.212112   \n",
       "1       0.518445 -1.569131  0.583821  ...  1.117633 -0.572326 -0.178976   \n",
       "2      -0.031961 -0.393538  0.948226  ... -0.639259 -0.361985 -0.532590   \n",
       "3       0.835582 -1.144710  0.107071  ... -0.630797  1.184554  0.819222   \n",
       "4       1.863478  0.728196 -0.023672  ... -0.128633  0.858617  0.753721   \n",
       "...          ...       ...       ...  ...       ...       ...       ...   \n",
       "188313 -0.007617 -0.260662 -0.646521  ...  1.586218  2.130361 -0.738792   \n",
       "188314 -1.696670 -0.006872 -0.507229  ... -0.922629  0.195126  0.080626   \n",
       "188315  0.580436  1.138827 -0.070489  ...  0.584425  0.192306 -0.511789   \n",
       "188316  0.337399 -0.853783  0.135038  ...  1.123446 -0.784617 -0.087172   \n",
       "188317 -0.309350  0.433216 -0.198967  ... -0.080647 -2.444261 -0.207249   \n",
       "\n",
       "              43        44        45        46        47        48        49  \n",
       "0       0.151955 -0.840833  1.574046  0.254690  0.414508 -0.027765 -0.311796  \n",
       "1       0.071099 -0.033299 -1.122847  0.166747 -0.347091  2.021497 -1.443102  \n",
       "2      -0.567427 -0.026862  0.811226 -0.430778 -0.532504 -0.234315 -1.405167  \n",
       "3       0.326491 -0.441032 -0.430384  0.270558  0.185221 -0.263990  0.386238  \n",
       "4      -0.559749 -0.791526 -3.322677 -0.408481 -0.835578 -0.737093  0.272414  \n",
       "...          ...       ...       ...       ...       ...       ...       ...  \n",
       "188313  0.277919 -0.085125  0.375849 -0.281453 -0.470344 -0.400440 -0.329630  \n",
       "188314 -0.294140  0.692050  0.028145 -0.090172 -0.005985  0.007701 -0.156264  \n",
       "188315  0.413706 -0.813752  0.286033 -0.510361 -0.686149 -0.914716 -0.639311  \n",
       "188316 -0.443354  0.194504 -2.677394  0.042969 -0.134522  0.142637 -0.162297  \n",
       "188317  0.151658  1.030546 -0.057850 -0.266465 -0.558888  1.567021  1.111118  \n",
       "\n",
       "[188318 rows x 50 columns]"
      ]
     },
     "execution_count": 32,
     "metadata": {},
     "output_type": "execute_result"
    }
   ],
   "source": [
    "X_train_std_svd"
   ]
  },
  {
   "cell_type": "code",
   "execution_count": 33,
   "metadata": {},
   "outputs": [
    {
     "data": {
      "text/html": [
       "<div>\n",
       "<style scoped>\n",
       "    .dataframe tbody tr th:only-of-type {\n",
       "        vertical-align: middle;\n",
       "    }\n",
       "\n",
       "    .dataframe tbody tr th {\n",
       "        vertical-align: top;\n",
       "    }\n",
       "\n",
       "    .dataframe thead th {\n",
       "        text-align: right;\n",
       "    }\n",
       "</style>\n",
       "<table border=\"1\" class=\"dataframe\">\n",
       "  <thead>\n",
       "    <tr style=\"text-align: right;\">\n",
       "      <th></th>\n",
       "      <th>0</th>\n",
       "      <th>1</th>\n",
       "      <th>2</th>\n",
       "      <th>3</th>\n",
       "      <th>4</th>\n",
       "      <th>5</th>\n",
       "      <th>6</th>\n",
       "      <th>7</th>\n",
       "      <th>8</th>\n",
       "      <th>9</th>\n",
       "      <th>...</th>\n",
       "      <th>40</th>\n",
       "      <th>41</th>\n",
       "      <th>42</th>\n",
       "      <th>43</th>\n",
       "      <th>44</th>\n",
       "      <th>45</th>\n",
       "      <th>46</th>\n",
       "      <th>47</th>\n",
       "      <th>48</th>\n",
       "      <th>49</th>\n",
       "    </tr>\n",
       "  </thead>\n",
       "  <tbody>\n",
       "    <tr>\n",
       "      <th>0</th>\n",
       "      <td>0.090659</td>\n",
       "      <td>1.107074</td>\n",
       "      <td>0.135065</td>\n",
       "      <td>1.450380</td>\n",
       "      <td>-0.225459</td>\n",
       "      <td>-1.416537</td>\n",
       "      <td>0.279939</td>\n",
       "      <td>0.971180</td>\n",
       "      <td>-1.170686</td>\n",
       "      <td>-0.045937</td>\n",
       "      <td>...</td>\n",
       "      <td>0.511525</td>\n",
       "      <td>0.113646</td>\n",
       "      <td>-0.195398</td>\n",
       "      <td>-0.064082</td>\n",
       "      <td>-0.438053</td>\n",
       "      <td>2.508695</td>\n",
       "      <td>-0.477224</td>\n",
       "      <td>-0.144979</td>\n",
       "      <td>0.034006</td>\n",
       "      <td>0.601457</td>\n",
       "    </tr>\n",
       "    <tr>\n",
       "      <th>1</th>\n",
       "      <td>0.386029</td>\n",
       "      <td>0.390542</td>\n",
       "      <td>1.387310</td>\n",
       "      <td>0.109935</td>\n",
       "      <td>-0.207738</td>\n",
       "      <td>1.368424</td>\n",
       "      <td>-0.192277</td>\n",
       "      <td>0.754379</td>\n",
       "      <td>-0.301950</td>\n",
       "      <td>-2.222885</td>\n",
       "      <td>...</td>\n",
       "      <td>-0.787799</td>\n",
       "      <td>0.447311</td>\n",
       "      <td>-0.235600</td>\n",
       "      <td>0.392818</td>\n",
       "      <td>-0.075797</td>\n",
       "      <td>-0.492376</td>\n",
       "      <td>0.568460</td>\n",
       "      <td>-0.402144</td>\n",
       "      <td>0.317939</td>\n",
       "      <td>1.513015</td>\n",
       "    </tr>\n",
       "    <tr>\n",
       "      <th>2</th>\n",
       "      <td>-1.382265</td>\n",
       "      <td>-0.887200</td>\n",
       "      <td>-0.557214</td>\n",
       "      <td>1.981965</td>\n",
       "      <td>-0.876155</td>\n",
       "      <td>0.990237</td>\n",
       "      <td>2.409947</td>\n",
       "      <td>1.755126</td>\n",
       "      <td>-0.688586</td>\n",
       "      <td>0.477690</td>\n",
       "      <td>...</td>\n",
       "      <td>-0.548089</td>\n",
       "      <td>0.215806</td>\n",
       "      <td>-1.986567</td>\n",
       "      <td>0.319489</td>\n",
       "      <td>0.178645</td>\n",
       "      <td>-1.451192</td>\n",
       "      <td>3.290931</td>\n",
       "      <td>6.253302</td>\n",
       "      <td>1.365657</td>\n",
       "      <td>0.999749</td>\n",
       "    </tr>\n",
       "    <tr>\n",
       "      <th>3</th>\n",
       "      <td>-1.047884</td>\n",
       "      <td>-0.555615</td>\n",
       "      <td>-0.558661</td>\n",
       "      <td>0.945052</td>\n",
       "      <td>0.322862</td>\n",
       "      <td>-1.600401</td>\n",
       "      <td>-1.380919</td>\n",
       "      <td>1.146043</td>\n",
       "      <td>0.900803</td>\n",
       "      <td>1.449192</td>\n",
       "      <td>...</td>\n",
       "      <td>0.069279</td>\n",
       "      <td>0.276326</td>\n",
       "      <td>-2.150035</td>\n",
       "      <td>-2.381022</td>\n",
       "      <td>0.482372</td>\n",
       "      <td>-0.168927</td>\n",
       "      <td>0.224951</td>\n",
       "      <td>-0.724111</td>\n",
       "      <td>0.640531</td>\n",
       "      <td>0.669847</td>\n",
       "    </tr>\n",
       "    <tr>\n",
       "      <th>4</th>\n",
       "      <td>0.373345</td>\n",
       "      <td>-0.445874</td>\n",
       "      <td>0.251067</td>\n",
       "      <td>-1.557638</td>\n",
       "      <td>-2.255142</td>\n",
       "      <td>0.680270</td>\n",
       "      <td>-0.819842</td>\n",
       "      <td>0.006027</td>\n",
       "      <td>0.027661</td>\n",
       "      <td>-2.361191</td>\n",
       "      <td>...</td>\n",
       "      <td>-1.298711</td>\n",
       "      <td>-0.633614</td>\n",
       "      <td>-0.314827</td>\n",
       "      <td>-0.238997</td>\n",
       "      <td>0.849379</td>\n",
       "      <td>-0.113902</td>\n",
       "      <td>0.038065</td>\n",
       "      <td>0.260193</td>\n",
       "      <td>0.026549</td>\n",
       "      <td>-0.127840</td>\n",
       "    </tr>\n",
       "    <tr>\n",
       "      <th>...</th>\n",
       "      <td>...</td>\n",
       "      <td>...</td>\n",
       "      <td>...</td>\n",
       "      <td>...</td>\n",
       "      <td>...</td>\n",
       "      <td>...</td>\n",
       "      <td>...</td>\n",
       "      <td>...</td>\n",
       "      <td>...</td>\n",
       "      <td>...</td>\n",
       "      <td>...</td>\n",
       "      <td>...</td>\n",
       "      <td>...</td>\n",
       "      <td>...</td>\n",
       "      <td>...</td>\n",
       "      <td>...</td>\n",
       "      <td>...</td>\n",
       "      <td>...</td>\n",
       "      <td>...</td>\n",
       "      <td>...</td>\n",
       "      <td>...</td>\n",
       "    </tr>\n",
       "    <tr>\n",
       "      <th>125541</th>\n",
       "      <td>0.046677</td>\n",
       "      <td>0.393239</td>\n",
       "      <td>0.663757</td>\n",
       "      <td>-0.643208</td>\n",
       "      <td>1.021701</td>\n",
       "      <td>0.309473</td>\n",
       "      <td>0.483185</td>\n",
       "      <td>-1.310070</td>\n",
       "      <td>-0.131398</td>\n",
       "      <td>-0.083365</td>\n",
       "      <td>...</td>\n",
       "      <td>-1.694559</td>\n",
       "      <td>0.159480</td>\n",
       "      <td>-1.417438</td>\n",
       "      <td>-0.044045</td>\n",
       "      <td>-1.174140</td>\n",
       "      <td>-0.723386</td>\n",
       "      <td>-0.528672</td>\n",
       "      <td>-0.097576</td>\n",
       "      <td>-0.249947</td>\n",
       "      <td>0.211443</td>\n",
       "    </tr>\n",
       "    <tr>\n",
       "      <th>125542</th>\n",
       "      <td>-0.792907</td>\n",
       "      <td>-1.009794</td>\n",
       "      <td>0.357173</td>\n",
       "      <td>0.054783</td>\n",
       "      <td>0.463496</td>\n",
       "      <td>-0.945437</td>\n",
       "      <td>-1.926932</td>\n",
       "      <td>0.272375</td>\n",
       "      <td>0.069228</td>\n",
       "      <td>0.754574</td>\n",
       "      <td>...</td>\n",
       "      <td>-1.031708</td>\n",
       "      <td>0.361919</td>\n",
       "      <td>1.168608</td>\n",
       "      <td>0.155070</td>\n",
       "      <td>0.008399</td>\n",
       "      <td>-0.681933</td>\n",
       "      <td>-0.570508</td>\n",
       "      <td>-0.022905</td>\n",
       "      <td>0.672598</td>\n",
       "      <td>-0.076961</td>\n",
       "    </tr>\n",
       "    <tr>\n",
       "      <th>125543</th>\n",
       "      <td>1.682249</td>\n",
       "      <td>2.101856</td>\n",
       "      <td>0.031028</td>\n",
       "      <td>0.283629</td>\n",
       "      <td>-0.382816</td>\n",
       "      <td>0.036836</td>\n",
       "      <td>0.173810</td>\n",
       "      <td>1.243995</td>\n",
       "      <td>0.763341</td>\n",
       "      <td>-0.533275</td>\n",
       "      <td>...</td>\n",
       "      <td>-0.760135</td>\n",
       "      <td>-1.327985</td>\n",
       "      <td>0.572463</td>\n",
       "      <td>0.512926</td>\n",
       "      <td>0.260748</td>\n",
       "      <td>-1.938942</td>\n",
       "      <td>0.309043</td>\n",
       "      <td>-0.546435</td>\n",
       "      <td>-1.927478</td>\n",
       "      <td>1.532261</td>\n",
       "    </tr>\n",
       "    <tr>\n",
       "      <th>125544</th>\n",
       "      <td>-0.783444</td>\n",
       "      <td>-1.440559</td>\n",
       "      <td>-1.198500</td>\n",
       "      <td>1.940380</td>\n",
       "      <td>1.370081</td>\n",
       "      <td>0.204269</td>\n",
       "      <td>-1.485441</td>\n",
       "      <td>-0.066034</td>\n",
       "      <td>-1.978245</td>\n",
       "      <td>1.136372</td>\n",
       "      <td>...</td>\n",
       "      <td>-0.776890</td>\n",
       "      <td>0.337395</td>\n",
       "      <td>-0.199682</td>\n",
       "      <td>-0.292056</td>\n",
       "      <td>0.490764</td>\n",
       "      <td>0.052270</td>\n",
       "      <td>0.238708</td>\n",
       "      <td>-0.107042</td>\n",
       "      <td>0.130764</td>\n",
       "      <td>-0.006418</td>\n",
       "    </tr>\n",
       "    <tr>\n",
       "      <th>125545</th>\n",
       "      <td>-1.186438</td>\n",
       "      <td>-1.438599</td>\n",
       "      <td>-1.337302</td>\n",
       "      <td>-1.649159</td>\n",
       "      <td>-0.799679</td>\n",
       "      <td>-1.535477</td>\n",
       "      <td>1.376783</td>\n",
       "      <td>-0.091905</td>\n",
       "      <td>0.598325</td>\n",
       "      <td>-1.392805</td>\n",
       "      <td>...</td>\n",
       "      <td>0.463976</td>\n",
       "      <td>0.155865</td>\n",
       "      <td>-0.178263</td>\n",
       "      <td>-2.623483</td>\n",
       "      <td>-0.954692</td>\n",
       "      <td>2.660920</td>\n",
       "      <td>-0.209111</td>\n",
       "      <td>-0.700779</td>\n",
       "      <td>0.965354</td>\n",
       "      <td>0.964879</td>\n",
       "    </tr>\n",
       "  </tbody>\n",
       "</table>\n",
       "<p>125546 rows × 50 columns</p>\n",
       "</div>"
      ],
      "text/plain": [
       "              0         1         2         3         4         5         6   \\\n",
       "0       0.090659  1.107074  0.135065  1.450380 -0.225459 -1.416537  0.279939   \n",
       "1       0.386029  0.390542  1.387310  0.109935 -0.207738  1.368424 -0.192277   \n",
       "2      -1.382265 -0.887200 -0.557214  1.981965 -0.876155  0.990237  2.409947   \n",
       "3      -1.047884 -0.555615 -0.558661  0.945052  0.322862 -1.600401 -1.380919   \n",
       "4       0.373345 -0.445874  0.251067 -1.557638 -2.255142  0.680270 -0.819842   \n",
       "...          ...       ...       ...       ...       ...       ...       ...   \n",
       "125541  0.046677  0.393239  0.663757 -0.643208  1.021701  0.309473  0.483185   \n",
       "125542 -0.792907 -1.009794  0.357173  0.054783  0.463496 -0.945437 -1.926932   \n",
       "125543  1.682249  2.101856  0.031028  0.283629 -0.382816  0.036836  0.173810   \n",
       "125544 -0.783444 -1.440559 -1.198500  1.940380  1.370081  0.204269 -1.485441   \n",
       "125545 -1.186438 -1.438599 -1.337302 -1.649159 -0.799679 -1.535477  1.376783   \n",
       "\n",
       "              7         8         9   ...        40        41        42  \\\n",
       "0       0.971180 -1.170686 -0.045937  ...  0.511525  0.113646 -0.195398   \n",
       "1       0.754379 -0.301950 -2.222885  ... -0.787799  0.447311 -0.235600   \n",
       "2       1.755126 -0.688586  0.477690  ... -0.548089  0.215806 -1.986567   \n",
       "3       1.146043  0.900803  1.449192  ...  0.069279  0.276326 -2.150035   \n",
       "4       0.006027  0.027661 -2.361191  ... -1.298711 -0.633614 -0.314827   \n",
       "...          ...       ...       ...  ...       ...       ...       ...   \n",
       "125541 -1.310070 -0.131398 -0.083365  ... -1.694559  0.159480 -1.417438   \n",
       "125542  0.272375  0.069228  0.754574  ... -1.031708  0.361919  1.168608   \n",
       "125543  1.243995  0.763341 -0.533275  ... -0.760135 -1.327985  0.572463   \n",
       "125544 -0.066034 -1.978245  1.136372  ... -0.776890  0.337395 -0.199682   \n",
       "125545 -0.091905  0.598325 -1.392805  ...  0.463976  0.155865 -0.178263   \n",
       "\n",
       "              43        44        45        46        47        48        49  \n",
       "0      -0.064082 -0.438053  2.508695 -0.477224 -0.144979  0.034006  0.601457  \n",
       "1       0.392818 -0.075797 -0.492376  0.568460 -0.402144  0.317939  1.513015  \n",
       "2       0.319489  0.178645 -1.451192  3.290931  6.253302  1.365657  0.999749  \n",
       "3      -2.381022  0.482372 -0.168927  0.224951 -0.724111  0.640531  0.669847  \n",
       "4      -0.238997  0.849379 -0.113902  0.038065  0.260193  0.026549 -0.127840  \n",
       "...          ...       ...       ...       ...       ...       ...       ...  \n",
       "125541 -0.044045 -1.174140 -0.723386 -0.528672 -0.097576 -0.249947  0.211443  \n",
       "125542  0.155070  0.008399 -0.681933 -0.570508 -0.022905  0.672598 -0.076961  \n",
       "125543  0.512926  0.260748 -1.938942  0.309043 -0.546435 -1.927478  1.532261  \n",
       "125544 -0.292056  0.490764  0.052270  0.238708 -0.107042  0.130764 -0.006418  \n",
       "125545 -2.623483 -0.954692  2.660920 -0.209111 -0.700779  0.965354  0.964879  \n",
       "\n",
       "[125546 rows x 50 columns]"
      ]
     },
     "execution_count": 33,
     "metadata": {},
     "output_type": "execute_result"
    }
   ],
   "source": [
    "X_test_std_svd"
   ]
  },
  {
   "cell_type": "code",
   "execution_count": 34,
   "metadata": {},
   "outputs": [],
   "source": [
    "final_train=pd.concat([train_data,X_train_std_svd], axis=1)\n",
    "final_test=pd.concat([test_data,X_test_std_svd], axis=1)"
   ]
  },
  {
   "cell_type": "code",
   "execution_count": 35,
   "metadata": {},
   "outputs": [
    {
     "data": {
      "text/html": [
       "<div>\n",
       "<style scoped>\n",
       "    .dataframe tbody tr th:only-of-type {\n",
       "        vertical-align: middle;\n",
       "    }\n",
       "\n",
       "    .dataframe tbody tr th {\n",
       "        vertical-align: top;\n",
       "    }\n",
       "\n",
       "    .dataframe thead th {\n",
       "        text-align: right;\n",
       "    }\n",
       "</style>\n",
       "<table border=\"1\" class=\"dataframe\">\n",
       "  <thead>\n",
       "    <tr style=\"text-align: right;\">\n",
       "      <th></th>\n",
       "      <th>id</th>\n",
       "      <th>cat1</th>\n",
       "      <th>cat2</th>\n",
       "      <th>cat3</th>\n",
       "      <th>cat4</th>\n",
       "      <th>cat5</th>\n",
       "      <th>cat6</th>\n",
       "      <th>cat7</th>\n",
       "      <th>cat8</th>\n",
       "      <th>cat9</th>\n",
       "      <th>...</th>\n",
       "      <th>40</th>\n",
       "      <th>41</th>\n",
       "      <th>42</th>\n",
       "      <th>43</th>\n",
       "      <th>44</th>\n",
       "      <th>45</th>\n",
       "      <th>46</th>\n",
       "      <th>47</th>\n",
       "      <th>48</th>\n",
       "      <th>49</th>\n",
       "    </tr>\n",
       "  </thead>\n",
       "  <tbody>\n",
       "    <tr>\n",
       "      <th>0</th>\n",
       "      <td>1</td>\n",
       "      <td>0</td>\n",
       "      <td>1</td>\n",
       "      <td>0</td>\n",
       "      <td>1</td>\n",
       "      <td>0</td>\n",
       "      <td>0</td>\n",
       "      <td>0</td>\n",
       "      <td>0</td>\n",
       "      <td>1</td>\n",
       "      <td>...</td>\n",
       "      <td>-1.293430</td>\n",
       "      <td>0.944129</td>\n",
       "      <td>1.212112</td>\n",
       "      <td>0.151955</td>\n",
       "      <td>-0.840833</td>\n",
       "      <td>1.574046</td>\n",
       "      <td>0.254690</td>\n",
       "      <td>0.414508</td>\n",
       "      <td>-0.027765</td>\n",
       "      <td>-0.311796</td>\n",
       "    </tr>\n",
       "    <tr>\n",
       "      <th>1</th>\n",
       "      <td>2</td>\n",
       "      <td>0</td>\n",
       "      <td>1</td>\n",
       "      <td>0</td>\n",
       "      <td>0</td>\n",
       "      <td>0</td>\n",
       "      <td>0</td>\n",
       "      <td>0</td>\n",
       "      <td>0</td>\n",
       "      <td>1</td>\n",
       "      <td>...</td>\n",
       "      <td>1.117633</td>\n",
       "      <td>-0.572326</td>\n",
       "      <td>-0.178976</td>\n",
       "      <td>0.071099</td>\n",
       "      <td>-0.033299</td>\n",
       "      <td>-1.122847</td>\n",
       "      <td>0.166747</td>\n",
       "      <td>-0.347091</td>\n",
       "      <td>2.021497</td>\n",
       "      <td>-1.443102</td>\n",
       "    </tr>\n",
       "    <tr>\n",
       "      <th>2</th>\n",
       "      <td>5</td>\n",
       "      <td>0</td>\n",
       "      <td>1</td>\n",
       "      <td>0</td>\n",
       "      <td>0</td>\n",
       "      <td>1</td>\n",
       "      <td>0</td>\n",
       "      <td>0</td>\n",
       "      <td>0</td>\n",
       "      <td>1</td>\n",
       "      <td>...</td>\n",
       "      <td>-0.639259</td>\n",
       "      <td>-0.361985</td>\n",
       "      <td>-0.532590</td>\n",
       "      <td>-0.567427</td>\n",
       "      <td>-0.026862</td>\n",
       "      <td>0.811226</td>\n",
       "      <td>-0.430778</td>\n",
       "      <td>-0.532504</td>\n",
       "      <td>-0.234315</td>\n",
       "      <td>-1.405167</td>\n",
       "    </tr>\n",
       "    <tr>\n",
       "      <th>3</th>\n",
       "      <td>10</td>\n",
       "      <td>1</td>\n",
       "      <td>1</td>\n",
       "      <td>0</td>\n",
       "      <td>1</td>\n",
       "      <td>0</td>\n",
       "      <td>0</td>\n",
       "      <td>0</td>\n",
       "      <td>0</td>\n",
       "      <td>1</td>\n",
       "      <td>...</td>\n",
       "      <td>-0.630797</td>\n",
       "      <td>1.184554</td>\n",
       "      <td>0.819222</td>\n",
       "      <td>0.326491</td>\n",
       "      <td>-0.441032</td>\n",
       "      <td>-0.430384</td>\n",
       "      <td>0.270558</td>\n",
       "      <td>0.185221</td>\n",
       "      <td>-0.263990</td>\n",
       "      <td>0.386238</td>\n",
       "    </tr>\n",
       "    <tr>\n",
       "      <th>4</th>\n",
       "      <td>11</td>\n",
       "      <td>0</td>\n",
       "      <td>1</td>\n",
       "      <td>0</td>\n",
       "      <td>1</td>\n",
       "      <td>0</td>\n",
       "      <td>0</td>\n",
       "      <td>0</td>\n",
       "      <td>0</td>\n",
       "      <td>1</td>\n",
       "      <td>...</td>\n",
       "      <td>-0.128633</td>\n",
       "      <td>0.858617</td>\n",
       "      <td>0.753721</td>\n",
       "      <td>-0.559749</td>\n",
       "      <td>-0.791526</td>\n",
       "      <td>-3.322677</td>\n",
       "      <td>-0.408481</td>\n",
       "      <td>-0.835578</td>\n",
       "      <td>-0.737093</td>\n",
       "      <td>0.272414</td>\n",
       "    </tr>\n",
       "  </tbody>\n",
       "</table>\n",
       "<p>5 rows × 185 columns</p>\n",
       "</div>"
      ],
      "text/plain": [
       "   id  cat1  cat2  cat3  cat4  cat5  cat6  cat7  cat8  cat9  ...        40  \\\n",
       "0   1     0     1     0     1     0     0     0     0     1  ... -1.293430   \n",
       "1   2     0     1     0     0     0     0     0     0     1  ...  1.117633   \n",
       "2   5     0     1     0     0     1     0     0     0     1  ... -0.639259   \n",
       "3  10     1     1     0     1     0     0     0     0     1  ... -0.630797   \n",
       "4  11     0     1     0     1     0     0     0     0     1  ... -0.128633   \n",
       "\n",
       "         41        42        43        44        45        46        47  \\\n",
       "0  0.944129  1.212112  0.151955 -0.840833  1.574046  0.254690  0.414508   \n",
       "1 -0.572326 -0.178976  0.071099 -0.033299 -1.122847  0.166747 -0.347091   \n",
       "2 -0.361985 -0.532590 -0.567427 -0.026862  0.811226 -0.430778 -0.532504   \n",
       "3  1.184554  0.819222  0.326491 -0.441032 -0.430384  0.270558  0.185221   \n",
       "4  0.858617  0.753721 -0.559749 -0.791526 -3.322677 -0.408481 -0.835578   \n",
       "\n",
       "         48        49  \n",
       "0 -0.027765 -0.311796  \n",
       "1  2.021497 -1.443102  \n",
       "2 -0.234315 -1.405167  \n",
       "3 -0.263990  0.386238  \n",
       "4 -0.737093  0.272414  \n",
       "\n",
       "[5 rows x 185 columns]"
      ]
     },
     "execution_count": 35,
     "metadata": {},
     "output_type": "execute_result"
    }
   ],
   "source": [
    "final_train.head()"
   ]
  },
  {
   "cell_type": "code",
   "execution_count": 36,
   "metadata": {},
   "outputs": [
    {
     "data": {
      "text/html": [
       "<div>\n",
       "<style scoped>\n",
       "    .dataframe tbody tr th:only-of-type {\n",
       "        vertical-align: middle;\n",
       "    }\n",
       "\n",
       "    .dataframe tbody tr th {\n",
       "        vertical-align: top;\n",
       "    }\n",
       "\n",
       "    .dataframe thead th {\n",
       "        text-align: right;\n",
       "    }\n",
       "</style>\n",
       "<table border=\"1\" class=\"dataframe\">\n",
       "  <thead>\n",
       "    <tr style=\"text-align: right;\">\n",
       "      <th></th>\n",
       "      <th>id</th>\n",
       "      <th>cat1</th>\n",
       "      <th>cat2</th>\n",
       "      <th>cat3</th>\n",
       "      <th>cat4</th>\n",
       "      <th>cat5</th>\n",
       "      <th>cat6</th>\n",
       "      <th>cat7</th>\n",
       "      <th>cat8</th>\n",
       "      <th>cat9</th>\n",
       "      <th>...</th>\n",
       "      <th>40</th>\n",
       "      <th>41</th>\n",
       "      <th>42</th>\n",
       "      <th>43</th>\n",
       "      <th>44</th>\n",
       "      <th>45</th>\n",
       "      <th>46</th>\n",
       "      <th>47</th>\n",
       "      <th>48</th>\n",
       "      <th>49</th>\n",
       "    </tr>\n",
       "  </thead>\n",
       "  <tbody>\n",
       "    <tr>\n",
       "      <th>0</th>\n",
       "      <td>4</td>\n",
       "      <td>0</td>\n",
       "      <td>1</td>\n",
       "      <td>0</td>\n",
       "      <td>0</td>\n",
       "      <td>0</td>\n",
       "      <td>0</td>\n",
       "      <td>0</td>\n",
       "      <td>0</td>\n",
       "      <td>1</td>\n",
       "      <td>...</td>\n",
       "      <td>0.511525</td>\n",
       "      <td>0.113646</td>\n",
       "      <td>-0.195398</td>\n",
       "      <td>-0.064082</td>\n",
       "      <td>-0.438053</td>\n",
       "      <td>2.508695</td>\n",
       "      <td>-0.477224</td>\n",
       "      <td>-0.144979</td>\n",
       "      <td>0.034006</td>\n",
       "      <td>0.601457</td>\n",
       "    </tr>\n",
       "    <tr>\n",
       "      <th>1</th>\n",
       "      <td>6</td>\n",
       "      <td>0</td>\n",
       "      <td>1</td>\n",
       "      <td>0</td>\n",
       "      <td>1</td>\n",
       "      <td>0</td>\n",
       "      <td>0</td>\n",
       "      <td>0</td>\n",
       "      <td>0</td>\n",
       "      <td>1</td>\n",
       "      <td>...</td>\n",
       "      <td>-0.787799</td>\n",
       "      <td>0.447311</td>\n",
       "      <td>-0.235600</td>\n",
       "      <td>0.392818</td>\n",
       "      <td>-0.075797</td>\n",
       "      <td>-0.492376</td>\n",
       "      <td>0.568460</td>\n",
       "      <td>-0.402144</td>\n",
       "      <td>0.317939</td>\n",
       "      <td>1.513015</td>\n",
       "    </tr>\n",
       "    <tr>\n",
       "      <th>2</th>\n",
       "      <td>9</td>\n",
       "      <td>0</td>\n",
       "      <td>1</td>\n",
       "      <td>0</td>\n",
       "      <td>1</td>\n",
       "      <td>1</td>\n",
       "      <td>0</td>\n",
       "      <td>1</td>\n",
       "      <td>0</td>\n",
       "      <td>1</td>\n",
       "      <td>...</td>\n",
       "      <td>-0.548089</td>\n",
       "      <td>0.215806</td>\n",
       "      <td>-1.986567</td>\n",
       "      <td>0.319489</td>\n",
       "      <td>0.178645</td>\n",
       "      <td>-1.451192</td>\n",
       "      <td>3.290931</td>\n",
       "      <td>6.253302</td>\n",
       "      <td>1.365657</td>\n",
       "      <td>0.999749</td>\n",
       "    </tr>\n",
       "    <tr>\n",
       "      <th>3</th>\n",
       "      <td>12</td>\n",
       "      <td>0</td>\n",
       "      <td>0</td>\n",
       "      <td>0</td>\n",
       "      <td>0</td>\n",
       "      <td>1</td>\n",
       "      <td>0</td>\n",
       "      <td>0</td>\n",
       "      <td>0</td>\n",
       "      <td>0</td>\n",
       "      <td>...</td>\n",
       "      <td>0.069279</td>\n",
       "      <td>0.276326</td>\n",
       "      <td>-2.150035</td>\n",
       "      <td>-2.381022</td>\n",
       "      <td>0.482372</td>\n",
       "      <td>-0.168927</td>\n",
       "      <td>0.224951</td>\n",
       "      <td>-0.724111</td>\n",
       "      <td>0.640531</td>\n",
       "      <td>0.669847</td>\n",
       "    </tr>\n",
       "    <tr>\n",
       "      <th>4</th>\n",
       "      <td>15</td>\n",
       "      <td>1</td>\n",
       "      <td>0</td>\n",
       "      <td>0</td>\n",
       "      <td>0</td>\n",
       "      <td>0</td>\n",
       "      <td>1</td>\n",
       "      <td>0</td>\n",
       "      <td>0</td>\n",
       "      <td>0</td>\n",
       "      <td>...</td>\n",
       "      <td>-1.298711</td>\n",
       "      <td>-0.633614</td>\n",
       "      <td>-0.314827</td>\n",
       "      <td>-0.238997</td>\n",
       "      <td>0.849379</td>\n",
       "      <td>-0.113902</td>\n",
       "      <td>0.038065</td>\n",
       "      <td>0.260193</td>\n",
       "      <td>0.026549</td>\n",
       "      <td>-0.127840</td>\n",
       "    </tr>\n",
       "  </tbody>\n",
       "</table>\n",
       "<p>5 rows × 184 columns</p>\n",
       "</div>"
      ],
      "text/plain": [
       "   id  cat1  cat2  cat3  cat4  cat5  cat6  cat7  cat8  cat9  ...        40  \\\n",
       "0   4     0     1     0     0     0     0     0     0     1  ...  0.511525   \n",
       "1   6     0     1     0     1     0     0     0     0     1  ... -0.787799   \n",
       "2   9     0     1     0     1     1     0     1     0     1  ... -0.548089   \n",
       "3  12     0     0     0     0     1     0     0     0     0  ...  0.069279   \n",
       "4  15     1     0     0     0     0     1     0     0     0  ... -1.298711   \n",
       "\n",
       "         41        42        43        44        45        46        47  \\\n",
       "0  0.113646 -0.195398 -0.064082 -0.438053  2.508695 -0.477224 -0.144979   \n",
       "1  0.447311 -0.235600  0.392818 -0.075797 -0.492376  0.568460 -0.402144   \n",
       "2  0.215806 -1.986567  0.319489  0.178645 -1.451192  3.290931  6.253302   \n",
       "3  0.276326 -2.150035 -2.381022  0.482372 -0.168927  0.224951 -0.724111   \n",
       "4 -0.633614 -0.314827 -0.238997  0.849379 -0.113902  0.038065  0.260193   \n",
       "\n",
       "         48        49  \n",
       "0  0.034006  0.601457  \n",
       "1  0.317939  1.513015  \n",
       "2  1.365657  0.999749  \n",
       "3  0.640531  0.669847  \n",
       "4  0.026549 -0.127840  \n",
       "\n",
       "[5 rows x 184 columns]"
      ]
     },
     "execution_count": 36,
     "metadata": {},
     "output_type": "execute_result"
    }
   ],
   "source": [
    "final_test.head()"
   ]
  },
  {
   "cell_type": "code",
   "execution_count": 42,
   "metadata": {},
   "outputs": [],
   "source": [
    "#SAVING THE FINAL_TRAIN data and FINAL_TEST data\n",
    "final_train.to_csv('final_train.csv')\n",
    "final_test.to_csv('final_test.csv')"
   ]
  },
  {
   "cell_type": "code",
   "execution_count": 2,
   "metadata": {},
   "outputs": [],
   "source": [
    "final_train=pd.read_csv('final_train.csv')\n",
    "final_test=pd.read_csv('final_test.csv')"
   ]
  },
  {
   "cell_type": "code",
   "execution_count": 3,
   "metadata": {},
   "outputs": [
    {
     "data": {
      "text/html": [
       "<div>\n",
       "<style scoped>\n",
       "    .dataframe tbody tr th:only-of-type {\n",
       "        vertical-align: middle;\n",
       "    }\n",
       "\n",
       "    .dataframe tbody tr th {\n",
       "        vertical-align: top;\n",
       "    }\n",
       "\n",
       "    .dataframe thead th {\n",
       "        text-align: right;\n",
       "    }\n",
       "</style>\n",
       "<table border=\"1\" class=\"dataframe\">\n",
       "  <thead>\n",
       "    <tr style=\"text-align: right;\">\n",
       "      <th></th>\n",
       "      <th>Unnamed: 0</th>\n",
       "      <th>id</th>\n",
       "      <th>cat1</th>\n",
       "      <th>cat2</th>\n",
       "      <th>cat3</th>\n",
       "      <th>cat4</th>\n",
       "      <th>cat5</th>\n",
       "      <th>cat6</th>\n",
       "      <th>cat7</th>\n",
       "      <th>cat8</th>\n",
       "      <th>...</th>\n",
       "      <th>40</th>\n",
       "      <th>41</th>\n",
       "      <th>42</th>\n",
       "      <th>43</th>\n",
       "      <th>44</th>\n",
       "      <th>45</th>\n",
       "      <th>46</th>\n",
       "      <th>47</th>\n",
       "      <th>48</th>\n",
       "      <th>49</th>\n",
       "    </tr>\n",
       "  </thead>\n",
       "  <tbody>\n",
       "    <tr>\n",
       "      <th>0</th>\n",
       "      <td>0</td>\n",
       "      <td>1</td>\n",
       "      <td>0</td>\n",
       "      <td>1</td>\n",
       "      <td>0</td>\n",
       "      <td>1</td>\n",
       "      <td>0</td>\n",
       "      <td>0</td>\n",
       "      <td>0</td>\n",
       "      <td>0</td>\n",
       "      <td>...</td>\n",
       "      <td>-1.293430</td>\n",
       "      <td>0.944129</td>\n",
       "      <td>1.212112</td>\n",
       "      <td>0.151955</td>\n",
       "      <td>-0.840833</td>\n",
       "      <td>1.574046</td>\n",
       "      <td>0.254690</td>\n",
       "      <td>0.414508</td>\n",
       "      <td>-0.027765</td>\n",
       "      <td>-0.311796</td>\n",
       "    </tr>\n",
       "    <tr>\n",
       "      <th>1</th>\n",
       "      <td>1</td>\n",
       "      <td>2</td>\n",
       "      <td>0</td>\n",
       "      <td>1</td>\n",
       "      <td>0</td>\n",
       "      <td>0</td>\n",
       "      <td>0</td>\n",
       "      <td>0</td>\n",
       "      <td>0</td>\n",
       "      <td>0</td>\n",
       "      <td>...</td>\n",
       "      <td>1.117633</td>\n",
       "      <td>-0.572326</td>\n",
       "      <td>-0.178976</td>\n",
       "      <td>0.071099</td>\n",
       "      <td>-0.033299</td>\n",
       "      <td>-1.122847</td>\n",
       "      <td>0.166747</td>\n",
       "      <td>-0.347091</td>\n",
       "      <td>2.021497</td>\n",
       "      <td>-1.443102</td>\n",
       "    </tr>\n",
       "    <tr>\n",
       "      <th>2</th>\n",
       "      <td>2</td>\n",
       "      <td>5</td>\n",
       "      <td>0</td>\n",
       "      <td>1</td>\n",
       "      <td>0</td>\n",
       "      <td>0</td>\n",
       "      <td>1</td>\n",
       "      <td>0</td>\n",
       "      <td>0</td>\n",
       "      <td>0</td>\n",
       "      <td>...</td>\n",
       "      <td>-0.639259</td>\n",
       "      <td>-0.361985</td>\n",
       "      <td>-0.532590</td>\n",
       "      <td>-0.567427</td>\n",
       "      <td>-0.026862</td>\n",
       "      <td>0.811226</td>\n",
       "      <td>-0.430778</td>\n",
       "      <td>-0.532504</td>\n",
       "      <td>-0.234315</td>\n",
       "      <td>-1.405167</td>\n",
       "    </tr>\n",
       "    <tr>\n",
       "      <th>3</th>\n",
       "      <td>3</td>\n",
       "      <td>10</td>\n",
       "      <td>1</td>\n",
       "      <td>1</td>\n",
       "      <td>0</td>\n",
       "      <td>1</td>\n",
       "      <td>0</td>\n",
       "      <td>0</td>\n",
       "      <td>0</td>\n",
       "      <td>0</td>\n",
       "      <td>...</td>\n",
       "      <td>-0.630797</td>\n",
       "      <td>1.184554</td>\n",
       "      <td>0.819222</td>\n",
       "      <td>0.326491</td>\n",
       "      <td>-0.441032</td>\n",
       "      <td>-0.430384</td>\n",
       "      <td>0.270558</td>\n",
       "      <td>0.185221</td>\n",
       "      <td>-0.263990</td>\n",
       "      <td>0.386238</td>\n",
       "    </tr>\n",
       "    <tr>\n",
       "      <th>4</th>\n",
       "      <td>4</td>\n",
       "      <td>11</td>\n",
       "      <td>0</td>\n",
       "      <td>1</td>\n",
       "      <td>0</td>\n",
       "      <td>1</td>\n",
       "      <td>0</td>\n",
       "      <td>0</td>\n",
       "      <td>0</td>\n",
       "      <td>0</td>\n",
       "      <td>...</td>\n",
       "      <td>-0.128633</td>\n",
       "      <td>0.858617</td>\n",
       "      <td>0.753721</td>\n",
       "      <td>-0.559749</td>\n",
       "      <td>-0.791526</td>\n",
       "      <td>-3.322677</td>\n",
       "      <td>-0.408481</td>\n",
       "      <td>-0.835578</td>\n",
       "      <td>-0.737093</td>\n",
       "      <td>0.272414</td>\n",
       "    </tr>\n",
       "  </tbody>\n",
       "</table>\n",
       "<p>5 rows × 186 columns</p>\n",
       "</div>"
      ],
      "text/plain": [
       "   Unnamed: 0  id  cat1  cat2  cat3  cat4  cat5  cat6  cat7  cat8  ...  \\\n",
       "0           0   1     0     1     0     1     0     0     0     0  ...   \n",
       "1           1   2     0     1     0     0     0     0     0     0  ...   \n",
       "2           2   5     0     1     0     0     1     0     0     0  ...   \n",
       "3           3  10     1     1     0     1     0     0     0     0  ...   \n",
       "4           4  11     0     1     0     1     0     0     0     0  ...   \n",
       "\n",
       "         40        41        42        43        44        45        46  \\\n",
       "0 -1.293430  0.944129  1.212112  0.151955 -0.840833  1.574046  0.254690   \n",
       "1  1.117633 -0.572326 -0.178976  0.071099 -0.033299 -1.122847  0.166747   \n",
       "2 -0.639259 -0.361985 -0.532590 -0.567427 -0.026862  0.811226 -0.430778   \n",
       "3 -0.630797  1.184554  0.819222  0.326491 -0.441032 -0.430384  0.270558   \n",
       "4 -0.128633  0.858617  0.753721 -0.559749 -0.791526 -3.322677 -0.408481   \n",
       "\n",
       "         47        48        49  \n",
       "0  0.414508 -0.027765 -0.311796  \n",
       "1 -0.347091  2.021497 -1.443102  \n",
       "2 -0.532504 -0.234315 -1.405167  \n",
       "3  0.185221 -0.263990  0.386238  \n",
       "4 -0.835578 -0.737093  0.272414  \n",
       "\n",
       "[5 rows x 186 columns]"
      ]
     },
     "execution_count": 3,
     "metadata": {},
     "output_type": "execute_result"
    }
   ],
   "source": [
    "final_train.head()"
   ]
  },
  {
   "cell_type": "code",
   "execution_count": 4,
   "metadata": {},
   "outputs": [
    {
     "data": {
      "text/html": [
       "<div>\n",
       "<style scoped>\n",
       "    .dataframe tbody tr th:only-of-type {\n",
       "        vertical-align: middle;\n",
       "    }\n",
       "\n",
       "    .dataframe tbody tr th {\n",
       "        vertical-align: top;\n",
       "    }\n",
       "\n",
       "    .dataframe thead th {\n",
       "        text-align: right;\n",
       "    }\n",
       "</style>\n",
       "<table border=\"1\" class=\"dataframe\">\n",
       "  <thead>\n",
       "    <tr style=\"text-align: right;\">\n",
       "      <th></th>\n",
       "      <th>Unnamed: 0</th>\n",
       "      <th>id</th>\n",
       "      <th>cat1</th>\n",
       "      <th>cat2</th>\n",
       "      <th>cat3</th>\n",
       "      <th>cat4</th>\n",
       "      <th>cat5</th>\n",
       "      <th>cat6</th>\n",
       "      <th>cat7</th>\n",
       "      <th>cat8</th>\n",
       "      <th>...</th>\n",
       "      <th>40</th>\n",
       "      <th>41</th>\n",
       "      <th>42</th>\n",
       "      <th>43</th>\n",
       "      <th>44</th>\n",
       "      <th>45</th>\n",
       "      <th>46</th>\n",
       "      <th>47</th>\n",
       "      <th>48</th>\n",
       "      <th>49</th>\n",
       "    </tr>\n",
       "  </thead>\n",
       "  <tbody>\n",
       "    <tr>\n",
       "      <th>0</th>\n",
       "      <td>0</td>\n",
       "      <td>4</td>\n",
       "      <td>0</td>\n",
       "      <td>1</td>\n",
       "      <td>0</td>\n",
       "      <td>0</td>\n",
       "      <td>0</td>\n",
       "      <td>0</td>\n",
       "      <td>0</td>\n",
       "      <td>0</td>\n",
       "      <td>...</td>\n",
       "      <td>0.511525</td>\n",
       "      <td>0.113646</td>\n",
       "      <td>-0.195398</td>\n",
       "      <td>-0.064082</td>\n",
       "      <td>-0.438053</td>\n",
       "      <td>2.508695</td>\n",
       "      <td>-0.477224</td>\n",
       "      <td>-0.144979</td>\n",
       "      <td>0.034006</td>\n",
       "      <td>0.601457</td>\n",
       "    </tr>\n",
       "    <tr>\n",
       "      <th>1</th>\n",
       "      <td>1</td>\n",
       "      <td>6</td>\n",
       "      <td>0</td>\n",
       "      <td>1</td>\n",
       "      <td>0</td>\n",
       "      <td>1</td>\n",
       "      <td>0</td>\n",
       "      <td>0</td>\n",
       "      <td>0</td>\n",
       "      <td>0</td>\n",
       "      <td>...</td>\n",
       "      <td>-0.787799</td>\n",
       "      <td>0.447311</td>\n",
       "      <td>-0.235600</td>\n",
       "      <td>0.392818</td>\n",
       "      <td>-0.075797</td>\n",
       "      <td>-0.492376</td>\n",
       "      <td>0.568460</td>\n",
       "      <td>-0.402144</td>\n",
       "      <td>0.317939</td>\n",
       "      <td>1.513015</td>\n",
       "    </tr>\n",
       "    <tr>\n",
       "      <th>2</th>\n",
       "      <td>2</td>\n",
       "      <td>9</td>\n",
       "      <td>0</td>\n",
       "      <td>1</td>\n",
       "      <td>0</td>\n",
       "      <td>1</td>\n",
       "      <td>1</td>\n",
       "      <td>0</td>\n",
       "      <td>1</td>\n",
       "      <td>0</td>\n",
       "      <td>...</td>\n",
       "      <td>-0.548089</td>\n",
       "      <td>0.215806</td>\n",
       "      <td>-1.986567</td>\n",
       "      <td>0.319489</td>\n",
       "      <td>0.178645</td>\n",
       "      <td>-1.451192</td>\n",
       "      <td>3.290931</td>\n",
       "      <td>6.253302</td>\n",
       "      <td>1.365657</td>\n",
       "      <td>0.999749</td>\n",
       "    </tr>\n",
       "    <tr>\n",
       "      <th>3</th>\n",
       "      <td>3</td>\n",
       "      <td>12</td>\n",
       "      <td>0</td>\n",
       "      <td>0</td>\n",
       "      <td>0</td>\n",
       "      <td>0</td>\n",
       "      <td>1</td>\n",
       "      <td>0</td>\n",
       "      <td>0</td>\n",
       "      <td>0</td>\n",
       "      <td>...</td>\n",
       "      <td>0.069279</td>\n",
       "      <td>0.276326</td>\n",
       "      <td>-2.150035</td>\n",
       "      <td>-2.381022</td>\n",
       "      <td>0.482372</td>\n",
       "      <td>-0.168927</td>\n",
       "      <td>0.224951</td>\n",
       "      <td>-0.724111</td>\n",
       "      <td>0.640531</td>\n",
       "      <td>0.669847</td>\n",
       "    </tr>\n",
       "    <tr>\n",
       "      <th>4</th>\n",
       "      <td>4</td>\n",
       "      <td>15</td>\n",
       "      <td>1</td>\n",
       "      <td>0</td>\n",
       "      <td>0</td>\n",
       "      <td>0</td>\n",
       "      <td>0</td>\n",
       "      <td>1</td>\n",
       "      <td>0</td>\n",
       "      <td>0</td>\n",
       "      <td>...</td>\n",
       "      <td>-1.298711</td>\n",
       "      <td>-0.633614</td>\n",
       "      <td>-0.314827</td>\n",
       "      <td>-0.238997</td>\n",
       "      <td>0.849379</td>\n",
       "      <td>-0.113902</td>\n",
       "      <td>0.038065</td>\n",
       "      <td>0.260193</td>\n",
       "      <td>0.026549</td>\n",
       "      <td>-0.127840</td>\n",
       "    </tr>\n",
       "  </tbody>\n",
       "</table>\n",
       "<p>5 rows × 185 columns</p>\n",
       "</div>"
      ],
      "text/plain": [
       "   Unnamed: 0  id  cat1  cat2  cat3  cat4  cat5  cat6  cat7  cat8  ...  \\\n",
       "0           0   4     0     1     0     0     0     0     0     0  ...   \n",
       "1           1   6     0     1     0     1     0     0     0     0  ...   \n",
       "2           2   9     0     1     0     1     1     0     1     0  ...   \n",
       "3           3  12     0     0     0     0     1     0     0     0  ...   \n",
       "4           4  15     1     0     0     0     0     1     0     0  ...   \n",
       "\n",
       "         40        41        42        43        44        45        46  \\\n",
       "0  0.511525  0.113646 -0.195398 -0.064082 -0.438053  2.508695 -0.477224   \n",
       "1 -0.787799  0.447311 -0.235600  0.392818 -0.075797 -0.492376  0.568460   \n",
       "2 -0.548089  0.215806 -1.986567  0.319489  0.178645 -1.451192  3.290931   \n",
       "3  0.069279  0.276326 -2.150035 -2.381022  0.482372 -0.168927  0.224951   \n",
       "4 -1.298711 -0.633614 -0.314827 -0.238997  0.849379 -0.113902  0.038065   \n",
       "\n",
       "         47        48        49  \n",
       "0 -0.144979  0.034006  0.601457  \n",
       "1 -0.402144  0.317939  1.513015  \n",
       "2  6.253302  1.365657  0.999749  \n",
       "3 -0.724111  0.640531  0.669847  \n",
       "4  0.260193  0.026549 -0.127840  \n",
       "\n",
       "[5 rows x 185 columns]"
      ]
     },
     "execution_count": 4,
     "metadata": {},
     "output_type": "execute_result"
    }
   ],
   "source": [
    "final_test.head()"
   ]
  },
  {
   "cell_type": "markdown",
   "metadata": {},
   "source": [
    "#### Train and Test split"
   ]
  },
  {
   "cell_type": "code",
   "execution_count": 5,
   "metadata": {},
   "outputs": [],
   "source": [
    "Y=np.log(final_train['loss']+100)\n",
    "X=final_train.drop(['Unnamed: 0','loss', 'id'], axis=1)\n",
    "X_train,X_test,y_train,y_test=train_test_split(X,Y,test_size = 0.2,random_state=42)"
   ]
  },
  {
   "cell_type": "code",
   "execution_count": 6,
   "metadata": {},
   "outputs": [
    {
     "name": "stdout",
     "output_type": "stream",
     "text": [
      "(150654, 183)\n",
      "(37664, 183)\n",
      "(150654,)\n",
      "(37664,)\n"
     ]
    }
   ],
   "source": [
    "print(X_train.shape)\n",
    "print(X_test.shape)\n",
    "print(y_train.shape)\n",
    "print(y_test.shape)"
   ]
  },
  {
   "cell_type": "code",
   "execution_count": 7,
   "metadata": {},
   "outputs": [],
   "source": [
    "final_test_data=final_test.drop(['Unnamed: 0','id'],axis = 1)"
   ]
  },
  {
   "cell_type": "code",
   "execution_count": 8,
   "metadata": {},
   "outputs": [
    {
     "data": {
      "text/html": [
       "<div>\n",
       "<style scoped>\n",
       "    .dataframe tbody tr th:only-of-type {\n",
       "        vertical-align: middle;\n",
       "    }\n",
       "\n",
       "    .dataframe tbody tr th {\n",
       "        vertical-align: top;\n",
       "    }\n",
       "\n",
       "    .dataframe thead th {\n",
       "        text-align: right;\n",
       "    }\n",
       "</style>\n",
       "<table border=\"1\" class=\"dataframe\">\n",
       "  <thead>\n",
       "    <tr style=\"text-align: right;\">\n",
       "      <th></th>\n",
       "      <th>cat1</th>\n",
       "      <th>cat2</th>\n",
       "      <th>cat3</th>\n",
       "      <th>cat4</th>\n",
       "      <th>cat5</th>\n",
       "      <th>cat6</th>\n",
       "      <th>cat7</th>\n",
       "      <th>cat8</th>\n",
       "      <th>cat9</th>\n",
       "      <th>cat10</th>\n",
       "      <th>...</th>\n",
       "      <th>40</th>\n",
       "      <th>41</th>\n",
       "      <th>42</th>\n",
       "      <th>43</th>\n",
       "      <th>44</th>\n",
       "      <th>45</th>\n",
       "      <th>46</th>\n",
       "      <th>47</th>\n",
       "      <th>48</th>\n",
       "      <th>49</th>\n",
       "    </tr>\n",
       "  </thead>\n",
       "  <tbody>\n",
       "    <tr>\n",
       "      <th>0</th>\n",
       "      <td>0</td>\n",
       "      <td>1</td>\n",
       "      <td>0</td>\n",
       "      <td>0</td>\n",
       "      <td>0</td>\n",
       "      <td>0</td>\n",
       "      <td>0</td>\n",
       "      <td>0</td>\n",
       "      <td>1</td>\n",
       "      <td>0</td>\n",
       "      <td>...</td>\n",
       "      <td>0.511525</td>\n",
       "      <td>0.113646</td>\n",
       "      <td>-0.195398</td>\n",
       "      <td>-0.064082</td>\n",
       "      <td>-0.438053</td>\n",
       "      <td>2.508695</td>\n",
       "      <td>-0.477224</td>\n",
       "      <td>-0.144979</td>\n",
       "      <td>0.034006</td>\n",
       "      <td>0.601457</td>\n",
       "    </tr>\n",
       "    <tr>\n",
       "      <th>1</th>\n",
       "      <td>0</td>\n",
       "      <td>1</td>\n",
       "      <td>0</td>\n",
       "      <td>1</td>\n",
       "      <td>0</td>\n",
       "      <td>0</td>\n",
       "      <td>0</td>\n",
       "      <td>0</td>\n",
       "      <td>1</td>\n",
       "      <td>0</td>\n",
       "      <td>...</td>\n",
       "      <td>-0.787799</td>\n",
       "      <td>0.447311</td>\n",
       "      <td>-0.235600</td>\n",
       "      <td>0.392818</td>\n",
       "      <td>-0.075797</td>\n",
       "      <td>-0.492376</td>\n",
       "      <td>0.568460</td>\n",
       "      <td>-0.402144</td>\n",
       "      <td>0.317939</td>\n",
       "      <td>1.513015</td>\n",
       "    </tr>\n",
       "    <tr>\n",
       "      <th>2</th>\n",
       "      <td>0</td>\n",
       "      <td>1</td>\n",
       "      <td>0</td>\n",
       "      <td>1</td>\n",
       "      <td>1</td>\n",
       "      <td>0</td>\n",
       "      <td>1</td>\n",
       "      <td>0</td>\n",
       "      <td>1</td>\n",
       "      <td>1</td>\n",
       "      <td>...</td>\n",
       "      <td>-0.548089</td>\n",
       "      <td>0.215806</td>\n",
       "      <td>-1.986567</td>\n",
       "      <td>0.319489</td>\n",
       "      <td>0.178645</td>\n",
       "      <td>-1.451192</td>\n",
       "      <td>3.290931</td>\n",
       "      <td>6.253302</td>\n",
       "      <td>1.365657</td>\n",
       "      <td>0.999749</td>\n",
       "    </tr>\n",
       "    <tr>\n",
       "      <th>3</th>\n",
       "      <td>0</td>\n",
       "      <td>0</td>\n",
       "      <td>0</td>\n",
       "      <td>0</td>\n",
       "      <td>1</td>\n",
       "      <td>0</td>\n",
       "      <td>0</td>\n",
       "      <td>0</td>\n",
       "      <td>0</td>\n",
       "      <td>0</td>\n",
       "      <td>...</td>\n",
       "      <td>0.069279</td>\n",
       "      <td>0.276326</td>\n",
       "      <td>-2.150035</td>\n",
       "      <td>-2.381022</td>\n",
       "      <td>0.482372</td>\n",
       "      <td>-0.168927</td>\n",
       "      <td>0.224951</td>\n",
       "      <td>-0.724111</td>\n",
       "      <td>0.640531</td>\n",
       "      <td>0.669847</td>\n",
       "    </tr>\n",
       "    <tr>\n",
       "      <th>4</th>\n",
       "      <td>1</td>\n",
       "      <td>0</td>\n",
       "      <td>0</td>\n",
       "      <td>0</td>\n",
       "      <td>0</td>\n",
       "      <td>1</td>\n",
       "      <td>0</td>\n",
       "      <td>0</td>\n",
       "      <td>0</td>\n",
       "      <td>0</td>\n",
       "      <td>...</td>\n",
       "      <td>-1.298711</td>\n",
       "      <td>-0.633614</td>\n",
       "      <td>-0.314827</td>\n",
       "      <td>-0.238997</td>\n",
       "      <td>0.849379</td>\n",
       "      <td>-0.113902</td>\n",
       "      <td>0.038065</td>\n",
       "      <td>0.260193</td>\n",
       "      <td>0.026549</td>\n",
       "      <td>-0.127840</td>\n",
       "    </tr>\n",
       "  </tbody>\n",
       "</table>\n",
       "<p>5 rows × 183 columns</p>\n",
       "</div>"
      ],
      "text/plain": [
       "   cat1  cat2  cat3  cat4  cat5  cat6  cat7  cat8  cat9  cat10  ...        40  \\\n",
       "0     0     1     0     0     0     0     0     0     1      0  ...  0.511525   \n",
       "1     0     1     0     1     0     0     0     0     1      0  ... -0.787799   \n",
       "2     0     1     0     1     1     0     1     0     1      1  ... -0.548089   \n",
       "3     0     0     0     0     1     0     0     0     0      0  ...  0.069279   \n",
       "4     1     0     0     0     0     1     0     0     0      0  ... -1.298711   \n",
       "\n",
       "         41        42        43        44        45        46        47  \\\n",
       "0  0.113646 -0.195398 -0.064082 -0.438053  2.508695 -0.477224 -0.144979   \n",
       "1  0.447311 -0.235600  0.392818 -0.075797 -0.492376  0.568460 -0.402144   \n",
       "2  0.215806 -1.986567  0.319489  0.178645 -1.451192  3.290931  6.253302   \n",
       "3  0.276326 -2.150035 -2.381022  0.482372 -0.168927  0.224951 -0.724111   \n",
       "4 -0.633614 -0.314827 -0.238997  0.849379 -0.113902  0.038065  0.260193   \n",
       "\n",
       "         48        49  \n",
       "0  0.034006  0.601457  \n",
       "1  0.317939  1.513015  \n",
       "2  1.365657  0.999749  \n",
       "3  0.640531  0.669847  \n",
       "4  0.026549 -0.127840  \n",
       "\n",
       "[5 rows x 183 columns]"
      ]
     },
     "execution_count": 8,
     "metadata": {},
     "output_type": "execute_result"
    }
   ],
   "source": [
    "final_test_data.head()"
   ]
  },
  {
   "cell_type": "code",
   "execution_count": null,
   "metadata": {},
   "outputs": [],
   "source": []
  },
  {
   "cell_type": "markdown",
   "metadata": {},
   "source": [
    "# Applying machine Learning Models"
   ]
  },
  {
   "cell_type": "markdown",
   "metadata": {},
   "source": [
    "#### 1.Linear Regression"
   ]
  },
  {
   "cell_type": "code",
   "execution_count": 9,
   "metadata": {},
   "outputs": [
    {
     "name": "stdout",
     "output_type": "stream",
     "text": [
      "train MAE: 1338.509695863967\n",
      "test MAE: 1326.6177443384963\n"
     ]
    }
   ],
   "source": [
    "model1=SGDRegressor(loss='huber',random_state=42)\n",
    "model1.fit(X_train,y_train)\n",
    "y_train_predictions=model1.predict(X_train)\n",
    "y_test_predictions=model1.predict(X_test)\n",
    "y_train_predictions1=np.exp(y_train_predictions)-100\n",
    "y_test_predictions1=np.exp(y_test_predictions)-100\n",
    "y_train1=np.exp(y_train)-100\n",
    "y_test1=np.exp(y_test)-100\n",
    "train_score=mean_absolute_error(y_train_predictions1,y_train1)\n",
    "test_score=mean_absolute_error(y_test_predictions1,y_test1)\n",
    "print('train MAE:',train_score)\n",
    "print('test MAE:',test_score)"
   ]
  },
  {
   "cell_type": "code",
   "execution_count": 10,
   "metadata": {},
   "outputs": [],
   "source": [
    "predictions_on_test_data=model1.predict(final_test_data)\n",
    "prediction_on_test_data=np.exp(predictions_on_test_data)-100\n",
    "submission=pd.read_csv(\"sample_submission.csv\")\n",
    "submission['loss']=predictions_on_test_data\n",
    "submission.to_csv('linear_regression_submission.csv',index=False)"
   ]
  },
  {
   "cell_type": "code",
   "execution_count": null,
   "metadata": {},
   "outputs": [],
   "source": []
  },
  {
   "cell_type": "markdown",
   "metadata": {},
   "source": [
    "#### 2.Ridge Regression"
   ]
  },
  {
   "cell_type": "code",
   "execution_count": 9,
   "metadata": {},
   "outputs": [
    {
     "name": "stdout",
     "output_type": "stream",
     "text": [
      "train MAE: 1282.5425819563418\n",
      "test MAE: 1279.3713693584416\n"
     ]
    }
   ],
   "source": [
    "model2=Ridge()\n",
    "model2.fit(X_train,y_train)\n",
    "y_train_predictions=model2.predict(X_train)\n",
    "y_test_predictions=model2.predict(X_test)\n",
    "y_train_predictions1=np.exp(y_train_predictions)-100\n",
    "y_test_predictions1=np.exp(y_test_predictions)-100\n",
    "y_train1=np.exp(y_train)-100\n",
    "y_test1=np.exp(y_test)-100\n",
    "train_score=mean_absolute_error(y_train_predictions1,y_train1)\n",
    "test_score=mean_absolute_error(y_test_predictions1,y_test1)\n",
    "print('train MAE:',train_score)\n",
    "print('test MAE:',test_score)"
   ]
  },
  {
   "cell_type": "markdown",
   "metadata": {},
   "source": [
    "#### with Hyperparameter tuning"
   ]
  },
  {
   "cell_type": "code",
   "execution_count": 10,
   "metadata": {},
   "outputs": [
    {
     "data": {
      "text/plain": [
       "GridSearchCV(cv=5, estimator=Ridge(), n_jobs=-1,\n",
       "             param_grid={'alpha': [0.1, 0.2, 0.4, 0.7, 1, 100]},\n",
       "             scoring='neg_mean_absolute_error')"
      ]
     },
     "execution_count": 10,
     "metadata": {},
     "output_type": "execute_result"
    }
   ],
   "source": [
    "#https://stackoverflow.com/questions/57376860/how-to-run-gridsearchcv-with-ridge-regression-in-sklearn\n",
    "model2=Ridge()\n",
    "param_grid={'alpha': [0.1,0.2,0.4,0.7,1,100]}\n",
    "grid_search_ridge= GridSearchCV(model2,param_grid, cv = 5,scoring='neg_mean_absolute_error',n_jobs =-1)\n",
    "grid_search_ridge.fit(X_train,y_train)"
   ]
  },
  {
   "cell_type": "code",
   "execution_count": 11,
   "metadata": {},
   "outputs": [
    {
     "data": {
      "text/plain": [
       "{'alpha': 1}"
      ]
     },
     "execution_count": 11,
     "metadata": {},
     "output_type": "execute_result"
    }
   ],
   "source": [
    "grid_search_ridge.best_params_"
   ]
  },
  {
   "cell_type": "code",
   "execution_count": 12,
   "metadata": {},
   "outputs": [
    {
     "name": "stdout",
     "output_type": "stream",
     "text": [
      "train MAE: 1282.5425819563418\n",
      "test MAE: 1279.3713693584416\n"
     ]
    }
   ],
   "source": [
    "model2=Ridge(alpha=1)\n",
    "model2.fit(X_train,y_train)\n",
    "y_train_predictions=model2.predict(X_train)\n",
    "y_test_predictions=model2.predict(X_test)\n",
    "y_train_predictions1=np.exp(y_train_predictions)-100\n",
    "y_test_predictions1=np.exp(y_test_predictions)-100\n",
    "y_train1=np.exp(y_train)-100\n",
    "y_test1=np.exp(y_test)-100\n",
    "train_score=mean_absolute_error(y_train_predictions1,y_train1)\n",
    "test_score=mean_absolute_error(y_test_predictions1,y_test1)\n",
    "print('train MAE:',train_score)\n",
    "print('test MAE:',test_score)"
   ]
  },
  {
   "cell_type": "code",
   "execution_count": 13,
   "metadata": {},
   "outputs": [],
   "source": [
    "predictions_on_test_data=model2.predict(final_test_data)\n",
    "prediction_on_test_data=np.exp(predictions_on_test_data)-100\n",
    "submission=pd.read_csv(\"sample_submission.csv\")\n",
    "submission['loss']=predictions_on_test_data\n",
    "submission.to_csv('ridge_regression_submission.csv',index=False)"
   ]
  },
  {
   "cell_type": "code",
   "execution_count": null,
   "metadata": {},
   "outputs": [],
   "source": []
  },
  {
   "cell_type": "markdown",
   "metadata": {},
   "source": [
    "#### 3.LAsso Regression"
   ]
  },
  {
   "cell_type": "code",
   "execution_count": 14,
   "metadata": {},
   "outputs": [
    {
     "name": "stdout",
     "output_type": "stream",
     "text": [
      "train MAE: 1789.9421230357216\n",
      "test MAE: 1775.0365742100396\n"
     ]
    }
   ],
   "source": [
    "model3=Lasso()\n",
    "model3.fit(X_train,y_train)\n",
    "y_train_predictions=model3.predict(X_train)\n",
    "y_test_predictions=model3.predict(X_test)\n",
    "y_train_predictions1=np.exp(y_train_predictions)-100\n",
    "y_test_predictions1=np.exp(y_test_predictions)-100\n",
    "y_train1=np.exp(y_train)-100\n",
    "y_test1=np.exp(y_test)-100\n",
    "train_score=mean_absolute_error(y_train_predictions1,y_train1)\n",
    "test_score=mean_absolute_error(y_test_predictions1,y_test1)\n",
    "print('train MAE:',train_score)\n",
    "print('test MAE:',test_score)"
   ]
  },
  {
   "cell_type": "markdown",
   "metadata": {},
   "source": [
    "#### With Hyperparameter Tuning"
   ]
  },
  {
   "cell_type": "code",
   "execution_count": 15,
   "metadata": {},
   "outputs": [
    {
     "data": {
      "text/plain": [
       "GridSearchCV(cv=5, estimator=Lasso(), n_jobs=-1,\n",
       "             param_grid={'alpha': [0.1, 0.2, 0.4, 0.7, 1, 100]},\n",
       "             scoring='neg_mean_absolute_error')"
      ]
     },
     "execution_count": 15,
     "metadata": {},
     "output_type": "execute_result"
    }
   ],
   "source": [
    "#https://stackoverflow.com/questions/57376860/how-to-run-gridsearchcv-with-ridge-regression-in-sklearn\n",
    "model3=Lasso()\n",
    "param_grid={'alpha': [0.1,0.2,0.4,0.7,1,100]}\n",
    "grid_search_Lasso= GridSearchCV(model3,param_grid, cv = 5,scoring='neg_mean_absolute_error',n_jobs =-1)\n",
    "grid_search_Lasso.fit(X_train,y_train)"
   ]
  },
  {
   "cell_type": "code",
   "execution_count": 16,
   "metadata": {},
   "outputs": [
    {
     "data": {
      "text/plain": [
       "{'alpha': 0.1}"
      ]
     },
     "execution_count": 16,
     "metadata": {},
     "output_type": "execute_result"
    }
   ],
   "source": [
    "grid_search_Lasso.best_params_"
   ]
  },
  {
   "cell_type": "code",
   "execution_count": 17,
   "metadata": {},
   "outputs": [
    {
     "name": "stdout",
     "output_type": "stream",
     "text": [
      "train MAE: 1469.7091319082172\n",
      "test MAE: 1459.137970750119\n"
     ]
    }
   ],
   "source": [
    "model3=Lasso(alpha=0.1)\n",
    "model3.fit(X_train,y_train)\n",
    "y_train_predictions=model3.predict(X_train)\n",
    "y_test_predictions=model3.predict(X_test)\n",
    "y_train_predictions1=np.exp(y_train_predictions)-100\n",
    "y_test_predictions1=np.exp(y_test_predictions)-100\n",
    "y_train1=np.exp(y_train)-100\n",
    "y_test1=np.exp(y_test)-100\n",
    "train_score=mean_absolute_error(y_train_predictions1,y_train1)\n",
    "test_score=mean_absolute_error(y_test_predictions1,y_test1)\n",
    "print('train MAE:',train_score)\n",
    "print('test MAE:',test_score)"
   ]
  },
  {
   "cell_type": "code",
   "execution_count": 18,
   "metadata": {},
   "outputs": [],
   "source": [
    "predictions_on_test_data=model3.predict(final_test_data)\n",
    "prediction_on_test_data=np.exp(predictions_on_test_data)-100\n",
    "submission=pd.read_csv(\"sample_submission.csv\")\n",
    "submission['loss']=predictions_on_test_data\n",
    "submission.to_csv('lasso_regression_submission.csv',index=False)"
   ]
  },
  {
   "cell_type": "code",
   "execution_count": null,
   "metadata": {},
   "outputs": [],
   "source": []
  },
  {
   "cell_type": "markdown",
   "metadata": {},
   "source": [
    "#### 4.KNN Regressor"
   ]
  },
  {
   "cell_type": "code",
   "execution_count": 19,
   "metadata": {},
   "outputs": [
    {
     "name": "stdout",
     "output_type": "stream",
     "text": [
      "train MAE: 1367.4324746722805\n",
      "test MAE: 1594.9166952734502\n"
     ]
    }
   ],
   "source": [
    "model4=KNeighborsRegressor()\n",
    "model4.fit(X_train,y_train)\n",
    "y_train_predictions=model4.predict(X_train)\n",
    "y_test_predictions=model4.predict(X_test)\n",
    "y_train_predictions1=np.exp(y_train_predictions)-100\n",
    "y_test_predictions1=np.exp(y_test_predictions)-100\n",
    "y_train1=np.exp(y_train)-100\n",
    "y_test1=np.exp(y_test)-100\n",
    "train_score=mean_absolute_error(y_train_predictions1,y_train1)\n",
    "test_score=mean_absolute_error(y_test_predictions1,y_test1)\n",
    "print('train MAE:',train_score)\n",
    "print('test MAE:',test_score)"
   ]
  },
  {
   "cell_type": "markdown",
   "metadata": {},
   "source": [
    "#### with Hyperparameter Tuning"
   ]
  },
  {
   "cell_type": "code",
   "execution_count": 20,
   "metadata": {},
   "outputs": [
    {
     "data": {
      "text/plain": [
       "GridSearchCV(cv=5, estimator=KNeighborsRegressor(), n_jobs=-1,\n",
       "             param_grid={'n_neighbors': [1, 3, 5, 7, 9, 11, 13]},\n",
       "             scoring='neg_mean_absolute_error')"
      ]
     },
     "execution_count": 20,
     "metadata": {},
     "output_type": "execute_result"
    }
   ],
   "source": [
    "#https://stackoverflow.com/questions/57376860/how-to-run-gridsearchcv-with-ridge-regression-in-sklearn\n",
    "model4=KNeighborsRegressor()\n",
    "param_grid={'n_neighbors': [1,3,5,7,9,11,13]}\n",
    "grid_search_knn= GridSearchCV(model4,param_grid, cv = 5,scoring='neg_mean_absolute_error',n_jobs =-1)\n",
    "grid_search_knn.fit(X_train,y_train)"
   ]
  },
  {
   "cell_type": "code",
   "execution_count": 21,
   "metadata": {},
   "outputs": [
    {
     "data": {
      "text/plain": [
       "{'n_neighbors': 11}"
      ]
     },
     "execution_count": 21,
     "metadata": {},
     "output_type": "execute_result"
    }
   ],
   "source": [
    "grid_search_knn.best_params_"
   ]
  },
  {
   "cell_type": "code",
   "execution_count": 22,
   "metadata": {},
   "outputs": [
    {
     "name": "stdout",
     "output_type": "stream",
     "text": [
      "train MAE: 1504.302617869369\n",
      "test MAE: 1597.2807029700416\n"
     ]
    }
   ],
   "source": [
    "model4=KNeighborsRegressor(n_neighbors=11)\n",
    "model4.fit(X_train,y_train)\n",
    "y_train_predictions=model4.predict(X_train)\n",
    "y_test_predictions=model4.predict(X_test)\n",
    "y_train_predictions1=np.exp(y_train_predictions)-100\n",
    "y_test_predictions1=np.exp(y_test_predictions)-100\n",
    "y_train1=np.exp(y_train)-100\n",
    "y_test1=np.exp(y_test)-100\n",
    "train_score=mean_absolute_error(y_train_predictions1,y_train1)\n",
    "test_score=mean_absolute_error(y_test_predictions1,y_test1)\n",
    "print('train MAE:',train_score)\n",
    "print('test MAE:',test_score)"
   ]
  },
  {
   "cell_type": "code",
   "execution_count": 23,
   "metadata": {},
   "outputs": [],
   "source": [
    "predictions_on_test_data=model4.predict(final_test_data)\n",
    "prediction_on_test_data=np.exp(predictions_on_test_data)-100\n",
    "submission=pd.read_csv(\"sample_submission.csv\")\n",
    "submission['loss']=predictions_on_test_data\n",
    "submission.to_csv('KNN_regression_submission.csv',index=False)"
   ]
  },
  {
   "cell_type": "code",
   "execution_count": null,
   "metadata": {},
   "outputs": [],
   "source": []
  },
  {
   "cell_type": "markdown",
   "metadata": {},
   "source": [
    "#### 5.DecisionTreeRegressor"
   ]
  },
  {
   "cell_type": "code",
   "execution_count": 24,
   "metadata": {},
   "outputs": [
    {
     "name": "stdout",
     "output_type": "stream",
     "text": [
      "train MAE: 0.000982980870073148\n",
      "test MAE: 1764.8019660683942\n"
     ]
    }
   ],
   "source": [
    "model5=DecisionTreeRegressor()\n",
    "model5.fit(X_train,y_train)\n",
    "y_train_predictions=model5.predict(X_train)\n",
    "y_test_predictions=model5.predict(X_test)\n",
    "y_train_predictions1=np.exp(y_train_predictions)-100\n",
    "y_test_predictions1=np.exp(y_test_predictions)-100\n",
    "y_train1=np.exp(y_train)-100\n",
    "y_test1=np.exp(y_test)-100\n",
    "train_score=mean_absolute_error(y_train_predictions1,y_train1)\n",
    "test_score=mean_absolute_error(y_test_predictions1,y_test1)\n",
    "print('train MAE:',train_score)\n",
    "print('test MAE:',test_score)"
   ]
  },
  {
   "cell_type": "markdown",
   "metadata": {},
   "source": [
    "#### with Hyperparameter Tuning"
   ]
  },
  {
   "cell_type": "code",
   "execution_count": 25,
   "metadata": {},
   "outputs": [
    {
     "name": "stdout",
     "output_type": "stream",
     "text": [
      "Fitting 10 folds for each of 25 candidates, totalling 250 fits\n"
     ]
    },
    {
     "name": "stderr",
     "output_type": "stream",
     "text": [
      "[Parallel(n_jobs=-1)]: Using backend LokyBackend with 8 concurrent workers.\n",
      "[Parallel(n_jobs=-1)]: Done  25 tasks      | elapsed:  1.9min\n",
      "[Parallel(n_jobs=-1)]: Done 146 tasks      | elapsed:  7.4min\n",
      "[Parallel(n_jobs=-1)]: Done 250 out of 250 | elapsed: 18.4min finished\n"
     ]
    },
    {
     "name": "stdout",
     "output_type": "stream",
     "text": [
      "DecisionTreeRegressor(max_depth=50, min_samples_split=500)\n"
     ]
    }
   ],
   "source": [
    "DT = DecisionTreeRegressor()\n",
    "max_depth=[1,5,10,50,100]\n",
    "min_samples_split=[5,10,100,500,1000]\n",
    "parameters = {'max_depth':max_depth,'min_samples_split':min_samples_split}\n",
    "\n",
    "clf = GridSearchCV(DT, parameters, cv= 10, scoring='neg_mean_absolute_error',return_train_score=True,verbose=2,n_jobs =-1)\n",
    "\n",
    "clf.fit(X_train,y_train)\n",
    "print(clf.best_estimator_)"
   ]
  },
  {
   "cell_type": "code",
   "execution_count": 26,
   "metadata": {},
   "outputs": [
    {
     "name": "stdout",
     "output_type": "stream",
     "text": [
      "train MAE: 1231.3491312947888\n",
      "test MAE: 1270.5427202268365\n"
     ]
    }
   ],
   "source": [
    "model5=DecisionTreeRegressor(max_depth=50,min_samples_split=500)\n",
    "model5.fit(X_train,y_train)\n",
    "y_train_predictions=model5.predict(X_train)\n",
    "y_test_predictions=model5.predict(X_test)\n",
    "y_train_predictions1=np.exp(y_train_predictions)-100\n",
    "y_test_predictions1=np.exp(y_test_predictions)-100\n",
    "y_train1=np.exp(y_train)-100\n",
    "y_test1=np.exp(y_test)-100\n",
    "train_score=mean_absolute_error(y_train_predictions1,y_train1)\n",
    "test_score=mean_absolute_error(y_test_predictions1,y_test1)\n",
    "print('train MAE:',train_score)\n",
    "print('test MAE:',test_score)"
   ]
  },
  {
   "cell_type": "code",
   "execution_count": 27,
   "metadata": {},
   "outputs": [],
   "source": [
    "predictions_on_test_data=model5.predict(final_test_data)\n",
    "prediction_on_test_data=np.exp(predictions_on_test_data)-100\n",
    "submission=pd.read_csv(\"sample_submission.csv\")\n",
    "submission['loss']=predictions_on_test_data\n",
    "submission.to_csv('DecisionTree_regression_submission.csv',index=False)"
   ]
  },
  {
   "cell_type": "code",
   "execution_count": null,
   "metadata": {},
   "outputs": [],
   "source": []
  },
  {
   "cell_type": "markdown",
   "metadata": {},
   "source": [
    "#### 6.Random Forest Regressor"
   ]
  },
  {
   "cell_type": "code",
   "execution_count": 30,
   "metadata": {},
   "outputs": [
    {
     "name": "stdout",
     "output_type": "stream",
     "text": [
      "train MAE: 491.8395316620499\n",
      "test MAE: 1198.5502082283672\n"
     ]
    }
   ],
   "source": [
    "model6=RandomForestRegressor(n_jobs=-1)\n",
    "model6.fit(X_train,y_train)\n",
    "y_train_predictions=model6.predict(X_train)\n",
    "y_test_predictions=model6.predict(X_test)\n",
    "y_train_predictions1=np.exp(y_train_predictions)-100\n",
    "y_test_predictions1=np.exp(y_test_predictions)-100\n",
    "y_train1=np.exp(y_train)-100\n",
    "y_test1=np.exp(y_test)-100\n",
    "train_score=mean_absolute_error(y_train_predictions1,y_train1)\n",
    "test_score=mean_absolute_error(y_test_predictions1,y_test1)\n",
    "print('train MAE:',train_score)\n",
    "print('test MAE:',test_score)"
   ]
  },
  {
   "cell_type": "code",
   "execution_count": 31,
   "metadata": {},
   "outputs": [],
   "source": [
    "predictions_on_test_data=model6.predict(final_test_data)\n",
    "prediction_on_test_data=np.exp(predictions_on_test_data)-100\n",
    "submission=pd.read_csv(\"sample_submission.csv\")\n",
    "submission['loss']=predictions_on_test_data\n",
    "submission.to_csv('RandomForest_regressor_submission.csv',index=False)"
   ]
  },
  {
   "cell_type": "code",
   "execution_count": null,
   "metadata": {},
   "outputs": [],
   "source": []
  },
  {
   "cell_type": "markdown",
   "metadata": {},
   "source": [
    "#### 7.XGBoost Regressor"
   ]
  },
  {
   "cell_type": "code",
   "execution_count": 32,
   "metadata": {},
   "outputs": [
    {
     "name": "stdout",
     "output_type": "stream",
     "text": [
      "train MAE: 1055.5335252911646\n",
      "test MAE: 1163.46044744208\n"
     ]
    }
   ],
   "source": [
    "model7=XGBRegressor()\n",
    "model7.fit(X_train,y_train)\n",
    "y_train_predictions=model7.predict(X_train)\n",
    "y_test_predictions=model7.predict(X_test)\n",
    "y_train_predictions1=np.exp(y_train_predictions)-100\n",
    "y_test_predictions1=np.exp(y_test_predictions)-100\n",
    "y_train1=np.exp(y_train)-100\n",
    "y_test1=np.exp(y_test)-100\n",
    "train_score=mean_absolute_error(y_train_predictions1,y_train1)\n",
    "test_score=mean_absolute_error(y_test_predictions1,y_test1)\n",
    "print('train MAE:',train_score)\n",
    "print('test MAE:',test_score)"
   ]
  },
  {
   "cell_type": "markdown",
   "metadata": {},
   "source": [
    "#### Hyperparameter Tuninghttps://www.analyticsvidhya.com/blog/2016/03/complete-guide-parameter-tuning-xgboost-with-codes-python/"
   ]
  },
  {
   "cell_type": "code",
   "execution_count": 33,
   "metadata": {},
   "outputs": [
    {
     "name": "stdout",
     "output_type": "stream",
     "text": [
      "Fitting 5 folds for each of 12 candidates, totalling 60 fits\n"
     ]
    },
    {
     "name": "stderr",
     "output_type": "stream",
     "text": [
      "[Parallel(n_jobs=-1)]: Using backend LokyBackend with 8 concurrent workers.\n",
      "[Parallel(n_jobs=-1)]: Done  25 tasks      | elapsed: 30.3min\n",
      "[Parallel(n_jobs=-1)]: Done  60 out of  60 | elapsed: 78.5min finished\n"
     ]
    },
    {
     "name": "stdout",
     "output_type": "stream",
     "text": [
      "{'max_depth': 5, 'min_child_weight': 1}\n"
     ]
    }
   ],
   "source": [
    "xgb=XGBRegressor()\n",
    "param_test1 = {'max_depth':range(3,10,2),'min_child_weight':range(1,6,2)}\n",
    "clf = GridSearchCV(xgb, param_test1,cv= 5, scoring='neg_mean_absolute_error',return_train_score=True,verbose=2,n_jobs =-1)\n",
    "clf.fit(X_train,y_train)\n",
    "print(clf.best_params_)"
   ]
  },
  {
   "cell_type": "code",
   "execution_count": 34,
   "metadata": {},
   "outputs": [
    {
     "name": "stdout",
     "output_type": "stream",
     "text": [
      "Fitting 5 folds for each of 5 candidates, totalling 25 fits\n"
     ]
    },
    {
     "name": "stderr",
     "output_type": "stream",
     "text": [
      "[Parallel(n_jobs=-1)]: Using backend LokyBackend with 8 concurrent workers.\n",
      "[Parallel(n_jobs=-1)]: Done  23 out of  25 | elapsed: 29.9min remaining:  2.6min\n",
      "[Parallel(n_jobs=-1)]: Done  25 out of  25 | elapsed: 32.5min finished\n"
     ]
    },
    {
     "name": "stdout",
     "output_type": "stream",
     "text": [
      "{'gamma': 0.4}\n"
     ]
    }
   ],
   "source": [
    "param_test2 = {'gamma':[i/10.0 for i in range(0,5)]}\n",
    "clf = GridSearchCV(xgb, param_test2,cv= 5, scoring='neg_mean_absolute_error',return_train_score=True,verbose=2,n_jobs =-1)\n",
    "clf.fit(X_train,y_train)\n",
    "print(clf.best_params_)"
   ]
  },
  {
   "cell_type": "code",
   "execution_count": 35,
   "metadata": {},
   "outputs": [
    {
     "name": "stdout",
     "output_type": "stream",
     "text": [
      "Fitting 5 folds for each of 16 candidates, totalling 80 fits\n"
     ]
    },
    {
     "name": "stderr",
     "output_type": "stream",
     "text": [
      "[Parallel(n_jobs=-1)]: Using backend LokyBackend with 8 concurrent workers.\n",
      "[Parallel(n_jobs=-1)]: Done  25 tasks      | elapsed: 23.3min\n",
      "[Parallel(n_jobs=-1)]: Done  80 out of  80 | elapsed: 133.8min finished\n"
     ]
    },
    {
     "name": "stdout",
     "output_type": "stream",
     "text": [
      "{'colsample_bytree': 0.9, 'subsample': 0.9}\n"
     ]
    }
   ],
   "source": [
    "param_test3 = {'subsample':[i/10.0 for i in range(6,10)],'colsample_bytree':[i/10.0 for i in range(6,10)]}\n",
    "clf = GridSearchCV(xgb, param_test3,cv= 5, scoring='neg_mean_absolute_error',return_train_score=True,verbose=2,n_jobs =-1)\n",
    "clf.fit(X_train,y_train)\n",
    "print(clf.best_params_)"
   ]
  },
  {
   "cell_type": "code",
   "execution_count": 36,
   "metadata": {},
   "outputs": [
    {
     "name": "stdout",
     "output_type": "stream",
     "text": [
      "Fitting 5 folds for each of 5 candidates, totalling 25 fits\n"
     ]
    },
    {
     "name": "stderr",
     "output_type": "stream",
     "text": [
      "[Parallel(n_jobs=-1)]: Using backend LokyBackend with 8 concurrent workers.\n",
      "[Parallel(n_jobs=-1)]: Done  23 out of  25 | elapsed: 31.1min remaining:  2.7min\n",
      "[Parallel(n_jobs=-1)]: Done  25 out of  25 | elapsed: 34.4min finished\n"
     ]
    },
    {
     "name": "stdout",
     "output_type": "stream",
     "text": [
      "{'reg_alpha': 100}\n"
     ]
    }
   ],
   "source": [
    "param_test4 = {'reg_alpha':[1e-5, 1e-2, 0.1, 1, 100]}\n",
    "clf = GridSearchCV(xgb, param_test4,cv= 5, scoring='neg_mean_absolute_error',return_train_score=True,verbose=2,n_jobs =-1)\n",
    "clf.fit(X_train,y_train)\n",
    "print(clf.best_params_)"
   ]
  },
  {
   "cell_type": "code",
   "execution_count": 9,
   "metadata": {},
   "outputs": [
    {
     "name": "stdout",
     "output_type": "stream",
     "text": [
      "train MAE: 1151.2502180376694\n",
      "test MAE: 1162.576153756517\n"
     ]
    }
   ],
   "source": [
    "model7=XGBRegressor(max_depth=5,min_child_weight=1,gamma=0.4,colsample_bytree=0.9,subsample=0.9,reg_alpha=100)\n",
    "model7.fit(X_train,y_train)\n",
    "y_train_predictions=model7.predict(X_train)\n",
    "y_test_predictions=model7.predict(X_test)\n",
    "y_train_predictions1=np.exp(y_train_predictions)-100\n",
    "y_test_predictions1=np.exp(y_test_predictions)-100\n",
    "y_train1=np.exp(y_train)-100\n",
    "y_test1=np.exp(y_test)-100\n",
    "train_score=mean_absolute_error(y_train_predictions1,y_train1)\n",
    "test_score=mean_absolute_error(y_test_predictions1,y_test1)\n",
    "print('train MAE:',train_score)\n",
    "print('test MAE:',test_score)"
   ]
  },
  {
   "cell_type": "code",
   "execution_count": 10,
   "metadata": {},
   "outputs": [],
   "source": [
    "predictions_on_test_data=model7.predict(final_test_data)\n",
    "prediction_on_test_data=np.exp(predictions_on_test_data)-100\n",
    "submission=pd.read_csv(\"sample_submission.csv\")\n",
    "submission['loss']=predictions_on_test_data\n",
    "submission.to_csv('XGBoost_regressor_submission.csv',index=False)"
   ]
  },
  {
   "cell_type": "code",
   "execution_count": null,
   "metadata": {},
   "outputs": [],
   "source": []
  },
  {
   "cell_type": "markdown",
   "metadata": {},
   "source": [
    "#### 8.Adaboost"
   ]
  },
  {
   "cell_type": "code",
   "execution_count": 11,
   "metadata": {},
   "outputs": [
    {
     "name": "stdout",
     "output_type": "stream",
     "text": [
      "train MAE: 1525.1353678512103\n",
      "test MAE: 1517.9055126693015\n"
     ]
    }
   ],
   "source": [
    "model8=AdaBoostRegressor()\n",
    "model8.fit(X_train,y_train)\n",
    "y_train_predictions=model8.predict(X_train)\n",
    "y_test_predictions=model8.predict(X_test)\n",
    "y_train_predictions1=np.exp(y_train_predictions)-100\n",
    "y_test_predictions1=np.exp(y_test_predictions)-100\n",
    "y_train1=np.exp(y_train)-100\n",
    "y_test1=np.exp(y_test)-100\n",
    "train_score=mean_absolute_error(y_train_predictions1,y_train1)\n",
    "test_score=mean_absolute_error(y_test_predictions1,y_test1)\n",
    "print('train MAE:',train_score)\n",
    "print('test MAE:',test_score)"
   ]
  },
  {
   "cell_type": "code",
   "execution_count": 12,
   "metadata": {},
   "outputs": [],
   "source": [
    "predictions_on_test_data=model8.predict(final_test_data)\n",
    "prediction_on_test_data=np.exp(predictions_on_test_data)-100\n",
    "submission=pd.read_csv(\"sample_submission.csv\")\n",
    "submission['loss']=predictions_on_test_data\n",
    "submission.to_csv('adaboost_regressor_submission.csv',index=False)"
   ]
  },
  {
   "cell_type": "code",
   "execution_count": null,
   "metadata": {},
   "outputs": [],
   "source": []
  },
  {
   "cell_type": "markdown",
   "metadata": {},
   "source": [
    "#### 9.SVR"
   ]
  },
  {
   "cell_type": "code",
   "execution_count": 11,
   "metadata": {},
   "outputs": [
    {
     "name": "stdout",
     "output_type": "stream",
     "text": [
      "train MAE: 256985.50410602632\n",
      "test MAE: 257109.41520865084\n"
     ]
    }
   ],
   "source": [
    "model9=SGDRegressor(loss='epsilon_insensitive',random_state=42)\n",
    "model9.fit(X_train,y_train)\n",
    "y_train_predictions=model9.predict(X_train)\n",
    "y_test_predictions=model9.predict(X_test)\n",
    "y_train_predictions1=np.exp(y_train_predictions)-100\n",
    "y_test_predictions1=np.exp(y_test_predictions)-100\n",
    "y_train1=np.exp(y_train)-100\n",
    "y_test1=np.exp(y_test)-100\n",
    "train_score=mean_absolute_error(y_train_predictions1,y_train1)\n",
    "test_score=mean_absolute_error(y_test_predictions1,y_test1)\n",
    "print('train MAE:',train_score)\n",
    "print('test MAE:',test_score)"
   ]
  },
  {
   "cell_type": "code",
   "execution_count": 12,
   "metadata": {},
   "outputs": [],
   "source": [
    "predictions_on_test_data=model9.predict(final_test_data)\n",
    "prediction_on_test_data=np.exp(predictions_on_test_data)-100\n",
    "submission=pd.read_csv(\"sample_submission.csv\")\n",
    "submission['loss']=predictions_on_test_data\n",
    "submission.to_csv('SVR_submission.csv',index=False)"
   ]
  },
  {
   "cell_type": "code",
   "execution_count": null,
   "metadata": {},
   "outputs": [],
   "source": []
  },
  {
   "cell_type": "markdown",
   "metadata": {},
   "source": [
    "#### Custom ensemble model"
   ]
  },
  {
   "cell_type": "code",
   "execution_count": 7,
   "metadata": {},
   "outputs": [],
   "source": [
    "Y=np.log(final_train['loss']+100)\n",
    "X=final_train.drop(['Unnamed: 0','loss', 'id'], axis=1)"
   ]
  },
  {
   "cell_type": "code",
   "execution_count": 8,
   "metadata": {},
   "outputs": [],
   "source": [
    "X_train,X_test,y_train,y_test=train_test_split(X,Y,test_size = 0.2,random_state=42)"
   ]
  },
  {
   "cell_type": "code",
   "execution_count": 9,
   "metadata": {},
   "outputs": [],
   "source": [
    "def meta_models(meta_model,predicton_set,ytrain2):\n",
    "    meta_models= meta_model.fit(predicton_set,ytrain2)\n",
    "    return meta_models"
   ]
  },
  {
   "cell_type": "code",
   "execution_count": 10,
   "metadata": {},
   "outputs": [],
   "source": [
    "def final_prediction(meta_models,X_test):\n",
    "    return meta_models.predict(X_test)"
   ]
  },
  {
   "cell_type": "code",
   "execution_count": 11,
   "metadata": {},
   "outputs": [],
   "source": [
    "def prediction(base_models,Xtrain2):\n",
    "    predictions_list = []\n",
    "    for base_model in base_models:\n",
    "        predictions = base_model.predict(Xtrain2).reshape(-1,1)\n",
    "        predictions_list.append(predictions)\n",
    "    return np.hstack(predictions_list)"
   ]
  },
  {
   "cell_type": "code",
   "execution_count": 12,
   "metadata": {},
   "outputs": [],
   "source": [
    "def mae(y,ycap):\n",
    "    mae_score = mean_absolute_error(np.exp(ycap)-100 , np.exp(y)-100)\n",
    "    return mae_score"
   ]
  },
  {
   "cell_type": "markdown",
   "metadata": {},
   "source": [
    "#### DecisionTree as base_model"
   ]
  },
  {
   "cell_type": "code",
   "execution_count": 14,
   "metadata": {},
   "outputs": [],
   "source": [
    "def ensemble_model(X,y,X_test,y_test,ratio,base_models,meta_model):\n",
    "    Xtrain1,Xtrain2,ytrain1,ytrain2=train_test_split(X,y,test_size=0.5,random_state=42)\n",
    "    \n",
    "    samples=[]\n",
    "    for i in range(base_models):\n",
    "        dk=Xtrain1.sample(frac=ratio,replace=True).index\n",
    "        samples.append(dk)\n",
    "    \n",
    "    decision_tree_models = []\n",
    "    for i in range(base_models) :\n",
    "        base_model =DecisionTreeRegressor(max_depth=50,min_samples_split=500)\n",
    "        \n",
    "        models=base_model.fit(Xtrain1.loc[samples[i]],ytrain1[samples[i]])\n",
    "        decision_tree_models.append(models)\n",
    "    \n",
    "    predicton_list=prediction(decision_tree_models,Xtrain2)\n",
    "    \n",
    "    meta_models1 = meta_models(meta_model,predicton_list,ytrain2)\n",
    "    \n",
    "    prediction_list1 = prediction(decision_tree_models,X_test)\n",
    "    \n",
    "    final_predictions = final_prediction(meta_models1,prediction_list1)\n",
    "    \n",
    "    mae_score=mae(y_test,final_predictions)\n",
    "    print(\"MAE_SCORE=\" ,mae_score)\n",
    "    return final_predictions,mae_score,decision_tree_models,meta_models1"
   ]
  },
  {
   "cell_type": "markdown",
   "metadata": {},
   "source": [
    "#### Tuning with base models as 50 and ratio as 0.3"
   ]
  },
  {
   "cell_type": "code",
   "execution_count": 14,
   "metadata": {},
   "outputs": [
    {
     "name": "stdout",
     "output_type": "stream",
     "text": [
      "MAE_SCORE= 1221.088762255809\n"
     ]
    }
   ],
   "source": [
    "meta_model = XGBRegressor(max_depth=5,min_child_weight=1,gamma=0.4,colsample_bytree=0.9,subsample=0.9,reg_alpha=100,\n",
    "                          n_estimators=2000,n_jobs=-1)\n",
    "final_predictions1,mae_score1,decision_tree_models1,meta_models1=ensemble_model(X=X_train,y=y_train,X_test=X_test,\n",
    "                                                                            y_test=y_test,ratio=0.3,base_models=50,\n",
    "                                                                            meta_model=meta_model)"
   ]
  },
  {
   "cell_type": "markdown",
   "metadata": {},
   "source": [
    "#### Tuning with base models as 100 and ratio as 0.3"
   ]
  },
  {
   "cell_type": "code",
   "execution_count": 15,
   "metadata": {},
   "outputs": [
    {
     "name": "stdout",
     "output_type": "stream",
     "text": [
      "MAE_SCORE= 1215.5087264173276\n"
     ]
    }
   ],
   "source": [
    "meta_model = XGBRegressor(max_depth=5,min_child_weight=1,gamma=0.4,colsample_bytree=0.9,subsample=0.9,reg_alpha=100,\n",
    "                         n_estimators=2000,n_jobs=-1)\n",
    "final_predictions2,mae_score2,decision_tree_models2,meta_models2=ensemble_model(X=X_train,y=y_train,X_test=X_test,\n",
    "                                                                            y_test=y_test,ratio=0.3,base_models=100,\n",
    "                                                                            meta_model=meta_model)"
   ]
  },
  {
   "cell_type": "markdown",
   "metadata": {},
   "source": [
    "#### Tuning with base models as 500 and ratio as 0.3"
   ]
  },
  {
   "cell_type": "code",
   "execution_count": 16,
   "metadata": {},
   "outputs": [
    {
     "name": "stdout",
     "output_type": "stream",
     "text": [
      "MAE_SCORE= 1205.1650253263163\n"
     ]
    }
   ],
   "source": [
    "meta_model = XGBRegressor(max_depth=5,min_child_weight=1,gamma=0.4,colsample_bytree=0.9,subsample=0.9,reg_alpha=100,\n",
    "                         n_estimators=2000,n_jobs=-1)\n",
    "final_predictions3,mae_score3,decision_tree_models3,meta_models3=ensemble_model(X=X_train,y=y_train,X_test=X_test,\n",
    "                                                                            y_test=y_test,ratio=0.3,base_models=500,\n",
    "                                                                            meta_model=meta_model)"
   ]
  },
  {
   "cell_type": "markdown",
   "metadata": {},
   "source": [
    "#### Tuning with base models as 1000 and ratio as 0.3"
   ]
  },
  {
   "cell_type": "code",
   "execution_count": 17,
   "metadata": {},
   "outputs": [
    {
     "name": "stdout",
     "output_type": "stream",
     "text": [
      "MAE_SCORE= 1202.2671653570922\n"
     ]
    }
   ],
   "source": [
    "meta_model = XGBRegressor(max_depth=5,min_child_weight=1,gamma=0.4,colsample_bytree=0.9,subsample=0.9,reg_alpha=100,\n",
    "                         n_estimators=2000,n_jobs=-1)\n",
    "final_predictions4,mae_score4,decision_tree_models4,meta_models4=ensemble_model(X=X_train,y=y_train,X_test=X_test,\n",
    "                                                                            y_test=y_test,ratio=0.3,base_models=1000,\n",
    "                                                                            meta_model=meta_model)"
   ]
  },
  {
   "cell_type": "markdown",
   "metadata": {},
   "source": [
    "#### Tuning with base models as 1500 and ratio as 0.3"
   ]
  },
  {
   "cell_type": "code",
   "execution_count": 18,
   "metadata": {},
   "outputs": [
    {
     "name": "stdout",
     "output_type": "stream",
     "text": [
      "MAE_SCORE= 1202.8044798370206\n"
     ]
    }
   ],
   "source": [
    "meta_model = XGBRegressor(max_depth=5,min_child_weight=1,gamma=0.4,colsample_bytree=0.9,subsample=0.9,reg_alpha=100,\n",
    "                         n_estimators=2000,n_jobs=-1)\n",
    "final_predictions5,mae_score5,decision_tree_models5,meta_models5=ensemble_model(X=X_train,y=y_train,X_test=X_test,\n",
    "                                                                            y_test=y_test,ratio=0.3,base_models=1500,\n",
    "                                                                            meta_model=meta_model)"
   ]
  },
  {
   "cell_type": "markdown",
   "metadata": {},
   "source": [
    "#### Tuning with base models as 2000 and ratio as 0.3"
   ]
  },
  {
   "cell_type": "code",
   "execution_count": 19,
   "metadata": {},
   "outputs": [
    {
     "name": "stdout",
     "output_type": "stream",
     "text": [
      "MAE_SCORE= 1198.8217977628815\n"
     ]
    }
   ],
   "source": [
    "meta_model = XGBRegressor(max_depth=5,min_child_weight=1,gamma=0.4,colsample_bytree=0.9,subsample=0.9,reg_alpha=100,\n",
    "                         n_estimators=2000,n_jobs=-1)\n",
    "final_predictions6,mae_score6,decision_tree_models6,meta_models6=ensemble_model(X=X_train,y=y_train,X_test=X_test,\n",
    "                                                                            y_test=y_test,ratio=0.3,base_models=2000,\n",
    "                                                                            meta_model=meta_model)"
   ]
  },
  {
   "cell_type": "code",
   "execution_count": 23,
   "metadata": {},
   "outputs": [],
   "source": [
    "def Ensemble_test(X_test,base_model_list,meta_model):\n",
    "    test_base_model_prediction = prediction(base_model_list,X_test)\n",
    "    final_prediction1 = final_prediction(meta_model,test_base_model_prediction)\n",
    "    return final_prediction1"
   ]
  },
  {
   "cell_type": "code",
   "execution_count": 3,
   "metadata": {},
   "outputs": [],
   "source": [
    "prediction_test_set = Ensemble_test(final_test_data,decision_tree_models6,meta_models6)\n",
    "prediction_test_set = np.exp(prediction_test_set)-100\n",
    "submission = pd.read_csv('sample_submission.csv')\n",
    "submission['loss'] = prediction_test_set \n",
    "submission.to_csv('ensemble_DT_base_model_submission.csv', index=False)"
   ]
  },
  {
   "cell_type": "code",
   "execution_count": null,
   "metadata": {},
   "outputs": [],
   "source": []
  },
  {
   "cell_type": "markdown",
   "metadata": {},
   "source": [
    "#### XGBoost as Base model"
   ]
  },
  {
   "cell_type": "code",
   "execution_count": 13,
   "metadata": {},
   "outputs": [],
   "source": [
    "def ensemble_model2(X,y,X_test,y_test,ratio,base_models,meta_model):\n",
    "    Xtrain1,Xtrain2,ytrain1,ytrain2=train_test_split(X,y,test_size=0.5,random_state=42)\n",
    "    \n",
    "    samples=[]\n",
    "    for i in range(base_models):\n",
    "        dk=Xtrain1.sample(frac=ratio,replace=True).index\n",
    "        samples.append(dk)\n",
    "    \n",
    "    decision_tree_models = []\n",
    "    for i in range(base_models) :\n",
    "        base_model=XGBRegressor()\n",
    "        \n",
    "        models=base_model.fit(Xtrain1.loc[samples[i]],ytrain1[samples[i]])\n",
    "        decision_tree_models.append(models)\n",
    "    \n",
    "    predicton_list=prediction(decision_tree_models,Xtrain2)\n",
    "    \n",
    "    meta_models1 = meta_models(meta_model,predicton_list,ytrain2)\n",
    "    \n",
    "    prediction_list1 = prediction(decision_tree_models,X_test)\n",
    "    \n",
    "    final_predictions = final_prediction(meta_models1,prediction_list1)\n",
    "    \n",
    "    mae_score=mae(y_test,final_predictions)\n",
    "    print(\"MAE_SCORE=\" ,mae_score)\n",
    "    return final_predictions,mae_score,decision_tree_models,meta_models1"
   ]
  },
  {
   "cell_type": "markdown",
   "metadata": {},
   "source": [
    "#### Tuning with base models as 5 with sample ratio as 0.3"
   ]
  },
  {
   "cell_type": "code",
   "execution_count": 14,
   "metadata": {},
   "outputs": [
    {
     "name": "stdout",
     "output_type": "stream",
     "text": [
      "MAE_SCORE= 1181.8278414693038\n"
     ]
    }
   ],
   "source": [
    "meta_model = XGBRegressor(max_depth=5,min_child_weight=1,gamma=0.4,colsample_bytree=0.9,subsample=0.9,reg_alpha=100,\n",
    "                          n_estimators=1500,n_jobs=-1)\n",
    "final_predictions1_model2,mae_score1_model2,decision_tree_models1_model2,meta_models1_model2=ensemble_model2(X=X_train,\n",
    "                                                                                                         y=y_train,\n",
    "                                                                                                         X_test=X_test,\n",
    "                                                                                                         y_test=y_test,\n",
    "                                                                                                         ratio=0.3,\n",
    "                                                                                                         base_models=5,\n",
    "                                                                                                         meta_model=meta_model)"
   ]
  },
  {
   "cell_type": "markdown",
   "metadata": {},
   "source": [
    "#### Tuning with base models as 20 with sample ratio as 0.3"
   ]
  },
  {
   "cell_type": "code",
   "execution_count": 15,
   "metadata": {},
   "outputs": [
    {
     "name": "stdout",
     "output_type": "stream",
     "text": [
      "MAE_SCORE= 1168.2747859470785\n"
     ]
    }
   ],
   "source": [
    "meta_model = XGBRegressor(max_depth=5,min_child_weight=1,gamma=0.4,colsample_bytree=0.9,subsample=0.9,reg_alpha=100,\n",
    "                          n_estimators=1500,n_jobs=-1)\n",
    "final_predictions2_model2,mae_score2_model2,decision_tree_models2_model2,meta_models2_model2=ensemble_model2(X=X_train,\n",
    "                                                                                                         y=y_train,\n",
    "                                                                                                         X_test=X_test,\n",
    "                                                                                                         y_test=y_test,\n",
    "                                                                                                         ratio=0.3,\n",
    "                                                                                                         base_models=20,\n",
    "                                                                                                         meta_model=meta_model)"
   ]
  },
  {
   "cell_type": "markdown",
   "metadata": {},
   "source": [
    "#### Tuning with base models as 50 with sample ratio as 0.3"
   ]
  },
  {
   "cell_type": "code",
   "execution_count": 16,
   "metadata": {},
   "outputs": [
    {
     "name": "stdout",
     "output_type": "stream",
     "text": [
      "MAE_SCORE= 1166.3178913687364\n"
     ]
    }
   ],
   "source": [
    "meta_model = XGBRegressor(max_depth=5,min_child_weight=1,gamma=0.4,colsample_bytree=0.9,subsample=0.9,reg_alpha=100,\n",
    "                          n_estimators=1500,n_jobs=-1)\n",
    "final_predictions3_model2,mae_score3_model2,decision_tree_models3_model2,meta_models3_model2=ensemble_model2(X=X_train,\n",
    "                                                                                                         y=y_train,\n",
    "                                                                                                         X_test=X_test,\n",
    "                                                                                                         y_test=y_test,\n",
    "                                                                                                         ratio=0.3,\n",
    "                                                                                                         base_models=50,\n",
    "                                                                                                         meta_model=meta_model)"
   ]
  },
  {
   "cell_type": "markdown",
   "metadata": {},
   "source": [
    "#### Tuning with base models as 100 with sample ratio as 0.3"
   ]
  },
  {
   "cell_type": "code",
   "execution_count": 17,
   "metadata": {},
   "outputs": [
    {
     "name": "stdout",
     "output_type": "stream",
     "text": [
      "MAE_SCORE= 1167.2397661256912\n"
     ]
    }
   ],
   "source": [
    "meta_model = XGBRegressor(max_depth=5,min_child_weight=1,gamma=0.4,colsample_bytree=0.9,subsample=0.9,reg_alpha=100,\n",
    "                          n_estimators=1500,n_jobs=-1)\n",
    "final_predictions4_model2,mae_score4_model2,decision_tree_models4_model2,meta_models4_model2=ensemble_model2(X=X_train,\n",
    "                                                                                                         y=y_train,\n",
    "                                                                                                         X_test=X_test,\n",
    "                                                                                                         y_test=y_test,\n",
    "                                                                                                         ratio=0.3,\n",
    "                                                                                                         base_models=100,\n",
    "                                                                                                         meta_model=meta_model)"
   ]
  },
  {
   "cell_type": "markdown",
   "metadata": {},
   "source": [
    "#### Tuning with base models as 50 with sample ratio as 0.5"
   ]
  },
  {
   "cell_type": "code",
   "execution_count": 14,
   "metadata": {},
   "outputs": [
    {
     "name": "stdout",
     "output_type": "stream",
     "text": [
      "MAE_SCORE= 1163.8207157445177\n"
     ]
    }
   ],
   "source": [
    "meta_model = XGBRegressor(max_depth=5,min_child_weight=1,gamma=0.4,colsample_bytree=0.9,subsample=0.9,reg_alpha=100,\n",
    "                          n_estimators=1500,n_jobs=-1)\n",
    "final_predictions5_model2,mae_score5_model2,decision_tree_models5_model2,meta_models5_model2=ensemble_model2(X=X_train,\n",
    "                                                                                                         y=y_train,\n",
    "                                                                                                         X_test=X_test,\n",
    "                                                                                                         y_test=y_test,\n",
    "                                                                                                         ratio=0.5,\n",
    "                                                                                                         base_models=50,\n",
    "                                                                                                         meta_model=meta_model)"
   ]
  },
  {
   "cell_type": "markdown",
   "metadata": {},
   "source": [
    "#### Tuning with base models as 50 with sample ratio as 0.7"
   ]
  },
  {
   "cell_type": "code",
   "execution_count": 15,
   "metadata": {},
   "outputs": [
    {
     "name": "stdout",
     "output_type": "stream",
     "text": [
      "MAE_SCORE= 1161.756191127132\n"
     ]
    }
   ],
   "source": [
    "meta_model = XGBRegressor(max_depth=5,min_child_weight=1,gamma=0.4,colsample_bytree=0.9,subsample=0.9,reg_alpha=100,\n",
    "                          n_estimators=1500,n_jobs=-1)\n",
    "final_predictions6_model2,mae_score6_model2,decision_tree_models6_model2,meta_models6_model2=ensemble_model2(X=X_train,\n",
    "                                                                                                         y=y_train,\n",
    "                                                                                                         X_test=X_test,\n",
    "                                                                                                         y_test=y_test,\n",
    "                                                                                                         ratio=0.7,\n",
    "                                                                                                         base_models=50,\n",
    "                                                                                                         meta_model=meta_model)"
   ]
  },
  {
   "cell_type": "markdown",
   "metadata": {},
   "source": [
    "#### Tuning with base models as 100 with sample ratio as 0.7"
   ]
  },
  {
   "cell_type": "code",
   "execution_count": 16,
   "metadata": {},
   "outputs": [
    {
     "name": "stdout",
     "output_type": "stream",
     "text": [
      "MAE_SCORE= 1162.114894007259\n"
     ]
    }
   ],
   "source": [
    "meta_model = XGBRegressor(max_depth=5,min_child_weight=1,gamma=0.4,colsample_bytree=0.9,subsample=0.9,reg_alpha=100,\n",
    "                          n_estimators=1500,n_jobs=-1)\n",
    "final_predictions7_model2,mae_score7_model2,decision_tree_models7_model2,meta_models7_model2=ensemble_model2(X=X_train,\n",
    "                                                                                                         y=y_train,\n",
    "                                                                                                         X_test=X_test,\n",
    "                                                                                                         y_test=y_test,\n",
    "                                                                                                         ratio=0.7,\n",
    "                                                                                                         base_models=100,\n",
    "                                                                                                         meta_model=meta_model)"
   ]
  },
  {
   "cell_type": "markdown",
   "metadata": {},
   "source": [
    "#### Tuning with base models as 50 with sample ratio as 0.9"
   ]
  },
  {
   "cell_type": "code",
   "execution_count": 17,
   "metadata": {},
   "outputs": [
    {
     "name": "stdout",
     "output_type": "stream",
     "text": [
      "MAE_SCORE= 1160.3897581008096\n"
     ]
    }
   ],
   "source": [
    "meta_model = XGBRegressor(max_depth=5,min_child_weight=1,gamma=0.4,colsample_bytree=0.9,subsample=0.9,reg_alpha=100,\n",
    "                          n_estimators=1500,n_jobs=-1)\n",
    "final_predictions8_model2,mae_score8_model2, decision_tree_models8_model2,meta_models8_model2=ensemble_model2(X=X_train,\n",
    "                                                                                                         y=y_train,\n",
    "                                                                                                         X_test=X_test,\n",
    "                                                                                                         y_test=y_test,\n",
    "                                                                                                         ratio=0.9,\n",
    "                                                                                                         base_models=50,\n",
    "                                                                                                         meta_model=meta_model)"
   ]
  },
  {
   "cell_type": "markdown",
   "metadata": {},
   "source": [
    "#### Tuning with base models as 100 with sample ratio as 0.9"
   ]
  },
  {
   "cell_type": "code",
   "execution_count": 18,
   "metadata": {},
   "outputs": [
    {
     "name": "stdout",
     "output_type": "stream",
     "text": [
      "MAE_SCORE= 1161.1018073264927\n"
     ]
    }
   ],
   "source": [
    "meta_model = XGBRegressor(max_depth=5,min_child_weight=1,gamma=0.4,colsample_bytree=0.9,subsample=0.9,reg_alpha=100,\n",
    "                          n_estimators=1500,n_jobs=-1)\n",
    "final_predictions9_model2,mae_score9_model2,decision_tree_models9_model2,meta_models9_model2=ensemble_model2(X=X_train,\n",
    "                                                                                                         y=y_train,\n",
    "                                                                                                         X_test=X_test,\n",
    "                                                                                                         y_test=y_test,\n",
    "                                                                                                         ratio=0.9,\n",
    "                                                                                                         base_models=100,\n",
    "                                                                                                         meta_model=meta_model)"
   ]
  },
  {
   "cell_type": "code",
   "execution_count": 19,
   "metadata": {},
   "outputs": [],
   "source": [
    "def Ensemble_test2(X_test,base_model_list,meta_model):\n",
    "    test_base_model_prediction = prediction(base_model_list,X_test)\n",
    "    final_prediction1 = final_prediction(meta_model,test_base_model_prediction)\n",
    "    return final_prediction1"
   ]
  },
  {
   "cell_type": "code",
   "execution_count": 20,
   "metadata": {},
   "outputs": [],
   "source": [
    "prediction_test_set = Ensemble_test2(final_test_data,decision_tree_models8_model2,meta_models8_model2)\n",
    "prediction_test_set = np.exp(prediction_test_set)-100\n",
    "submission = pd.read_csv('sample_submission.csv')\n",
    "submission['loss'] = prediction_test_set \n",
    "submission.to_csv('ensemble_XGBoost_base_model_submission.csv', index=False)"
   ]
  },
  {
   "cell_type": "code",
   "execution_count": null,
   "metadata": {},
   "outputs": [],
   "source": []
  },
  {
   "cell_type": "markdown",
   "metadata": {},
   "source": [
    "#### AdaBoost as base model"
   ]
  },
  {
   "cell_type": "code",
   "execution_count": 13,
   "metadata": {},
   "outputs": [],
   "source": [
    "def ensemble_model3(X,y,X_test,y_test,ratio,base_models,meta_model):\n",
    "    Xtrain1,Xtrain2,ytrain1,ytrain2=train_test_split(X,y,test_size=0.5,random_state=42)\n",
    "    \n",
    "    samples=[]\n",
    "    for i in range(base_models):\n",
    "        dk=Xtrain1.sample(frac=ratio,replace=True).index\n",
    "        samples.append(dk)\n",
    "    \n",
    "    decision_tree_models = []\n",
    "    for i in range(base_models) :\n",
    "        base_model=AdaBoostRegressor()\n",
    "        \n",
    "        models=base_model.fit(Xtrain1.loc[samples[i]],ytrain1[samples[i]])\n",
    "        decision_tree_models.append(models)\n",
    "    \n",
    "    predicton_list=prediction(decision_tree_models,Xtrain2)\n",
    "    \n",
    "    meta_models1 = meta_models(meta_model,predicton_list,ytrain2)\n",
    "    \n",
    "    prediction_list1 = prediction(decision_tree_models,X_test)\n",
    "    \n",
    "    final_predictions = final_prediction(meta_models1,prediction_list1)\n",
    "    \n",
    "    mae_score=mae(y_test,final_predictions)\n",
    "    print(\"MAE_SCORE=\" ,mae_score)\n",
    "    return final_predictions,mae_score,decision_tree_models,meta_models1"
   ]
  },
  {
   "cell_type": "markdown",
   "metadata": {},
   "source": [
    "#### Tuning with base models as 5 with sample ratio as 0.3"
   ]
  },
  {
   "cell_type": "code",
   "execution_count": 14,
   "metadata": {},
   "outputs": [
    {
     "name": "stdout",
     "output_type": "stream",
     "text": [
      "MAE_SCORE= 1292.8025951261366\n"
     ]
    }
   ],
   "source": [
    "meta_model = XGBRegressor(max_depth=5,min_child_weight=1,gamma=0.4,colsample_bytree=0.9,subsample=0.9,reg_alpha=100,\n",
    "                          n_estimators=1500,n_jobs=-1)\n",
    "final_predictions1_model3,mae_score1_model3,decision_tree_models1_model3,meta_models1_model3=ensemble_model3(X=X_train,\n",
    "                                                                                                         y=y_train,\n",
    "                                                                                                         X_test=X_test,\n",
    "                                                                                                         y_test=y_test,\n",
    "                                                                                                         ratio=0.3,\n",
    "                                                                                                         base_models=5,\n",
    "                                                                                                         meta_model=meta_model)"
   ]
  },
  {
   "cell_type": "markdown",
   "metadata": {},
   "source": [
    "#### Tuning with base models as 5 with sample ratio as 0.7"
   ]
  },
  {
   "cell_type": "code",
   "execution_count": 15,
   "metadata": {},
   "outputs": [
    {
     "name": "stdout",
     "output_type": "stream",
     "text": [
      "MAE_SCORE= 1309.6631599701755\n"
     ]
    }
   ],
   "source": [
    "meta_model = XGBRegressor(max_depth=5,min_child_weight=1,gamma=0.4,colsample_bytree=0.9,subsample=0.9,reg_alpha=100,\n",
    "                          n_estimators=1500,n_jobs=-1)\n",
    "final_predictions2_model3,mae_score2_model3,decision_tree_models2_model3,meta_models2_model3=ensemble_model3(X=X_train,\n",
    "                                                                                                         y=y_train,\n",
    "                                                                                                         X_test=X_test,\n",
    "                                                                                                         y_test=y_test,\n",
    "                                                                                                         ratio=0.7,\n",
    "                                                                                                         base_models=5,\n",
    "                                                                                                         meta_model=meta_model)"
   ]
  },
  {
   "cell_type": "markdown",
   "metadata": {},
   "source": [
    "#### Tuning with base models as 5 with sample ratio as 0.9"
   ]
  },
  {
   "cell_type": "code",
   "execution_count": 16,
   "metadata": {},
   "outputs": [
    {
     "name": "stdout",
     "output_type": "stream",
     "text": [
      "MAE_SCORE= 1312.151427104694\n"
     ]
    }
   ],
   "source": [
    "meta_model = XGBRegressor(max_depth=5,min_child_weight=1,gamma=0.4,colsample_bytree=0.9,subsample=0.9,reg_alpha=100,\n",
    "                          n_estimators=1500,n_jobs=-1)\n",
    "final_predictions3_model3,mae_score3_model3,decision_tree_models3_model3,meta_models3_model3=ensemble_model3(X=X_train,\n",
    "                                                                                                         y=y_train,\n",
    "                                                                                                         X_test=X_test,\n",
    "                                                                                                         y_test=y_test,\n",
    "                                                                                                         ratio=0.9,\n",
    "                                                                                                         base_models=5,\n",
    "                                                                                                         meta_model=meta_model)"
   ]
  },
  {
   "cell_type": "markdown",
   "metadata": {},
   "source": [
    "#### Tuning with base models as 50 with sample ratio as 0.3"
   ]
  },
  {
   "cell_type": "code",
   "execution_count": 17,
   "metadata": {},
   "outputs": [
    {
     "name": "stdout",
     "output_type": "stream",
     "text": [
      "MAE_SCORE= 1247.8940336776773\n"
     ]
    }
   ],
   "source": [
    "meta_model = XGBRegressor(max_depth=5,min_child_weight=1,gamma=0.4,colsample_bytree=0.9,subsample=0.9,reg_alpha=100,\n",
    "                          n_estimators=1500,n_jobs=-1)\n",
    "final_predictions4_model3,mae_score4_model3,decision_tree_models4_model3,meta_models4_model3=ensemble_model3(X=X_train,\n",
    "                                                                                                         y=y_train,\n",
    "                                                                                                         X_test=X_test,\n",
    "                                                                                                         y_test=y_test,\n",
    "                                                                                                         ratio=0.3,\n",
    "                                                                                                         base_models=50,\n",
    "                                                                                                         meta_model=meta_model)"
   ]
  },
  {
   "cell_type": "markdown",
   "metadata": {},
   "source": [
    "#### Tuning with base models as 50 with sample ratio as 0.7"
   ]
  },
  {
   "cell_type": "code",
   "execution_count": 18,
   "metadata": {},
   "outputs": [
    {
     "name": "stdout",
     "output_type": "stream",
     "text": [
      "MAE_SCORE= 1263.5294469468759\n"
     ]
    }
   ],
   "source": [
    "meta_model = XGBRegressor(max_depth=5,min_child_weight=1,gamma=0.4,colsample_bytree=0.9,subsample=0.9,reg_alpha=100,\n",
    "                          n_estimators=1500,n_jobs=-1)\n",
    "final_predictions5_model3,mae_score5_model3,decision_tree_models5_model3,meta_models5_model3=ensemble_model3(X=X_train,\n",
    "                                                                                                         y=y_train,\n",
    "                                                                                                         X_test=X_test,\n",
    "                                                                                                         y_test=y_test,\n",
    "                                                                                                         ratio=0.7,\n",
    "                                                                                                         base_models=50,\n",
    "                                                                                                         meta_model=meta_model)"
   ]
  },
  {
   "cell_type": "markdown",
   "metadata": {},
   "source": [
    "#### Tuning with base models as 50 with sample ratio as 0.9"
   ]
  },
  {
   "cell_type": "code",
   "execution_count": 19,
   "metadata": {},
   "outputs": [
    {
     "name": "stdout",
     "output_type": "stream",
     "text": [
      "MAE_SCORE= 1267.6736213864283\n"
     ]
    }
   ],
   "source": [
    "meta_model = XGBRegressor(max_depth=5,min_child_weight=1,gamma=0.4,colsample_bytree=0.9,subsample=0.9,reg_alpha=100,\n",
    "                          n_estimators=1500,n_jobs=-1)\n",
    "final_predictions6_model3,mae_score6_model3,decision_tree_models6_model3,meta_models6_model3=ensemble_model3(X=X_train,\n",
    "                                                                                                         y=y_train,\n",
    "                                                                                                         X_test=X_test,\n",
    "                                                                                                         y_test=y_test,\n",
    "                                                                                                         ratio=0.9,\n",
    "                                                                                                         base_models=50,\n",
    "                                                                                                         meta_model=meta_model)"
   ]
  },
  {
   "cell_type": "markdown",
   "metadata": {},
   "source": [
    "#### Tuning with base models as 100 with sample ratio as 0.3"
   ]
  },
  {
   "cell_type": "code",
   "execution_count": 20,
   "metadata": {},
   "outputs": [
    {
     "name": "stdout",
     "output_type": "stream",
     "text": [
      "MAE_SCORE= 1235.5000210917106\n"
     ]
    }
   ],
   "source": [
    "meta_model = XGBRegressor(max_depth=5,min_child_weight=1,gamma=0.4,colsample_bytree=0.9,subsample=0.9,reg_alpha=100,\n",
    "                          n_estimators=1500,n_jobs=-1)\n",
    "final_predictions7_model3,mae_score7_model3,decision_tree_models7_model3,meta_models7_model3=ensemble_model3(X=X_train,\n",
    "                                                                                                         y=y_train,\n",
    "                                                                                                         X_test=X_test,\n",
    "                                                                                                         y_test=y_test,\n",
    "                                                                                                         ratio=0.3,\n",
    "                                                                                                         base_models=100,\n",
    "                                                                                                         meta_model=meta_model)"
   ]
  },
  {
   "cell_type": "markdown",
   "metadata": {},
   "source": [
    "#### Tuning with base models as 150 with sample ratio as 0.3"
   ]
  },
  {
   "cell_type": "code",
   "execution_count": 21,
   "metadata": {},
   "outputs": [
    {
     "name": "stdout",
     "output_type": "stream",
     "text": [
      "MAE_SCORE= 1231.8945039293455\n"
     ]
    }
   ],
   "source": [
    "meta_model = XGBRegressor(max_depth=5,min_child_weight=1,gamma=0.4,colsample_bytree=0.9,subsample=0.9,reg_alpha=100,\n",
    "                          n_estimators=1500,n_jobs=-1)\n",
    "final_predictions8_model3,mae_score8_model3,decision_tree_models8_model3,meta_models8_model3=ensemble_model3(X=X_train,\n",
    "                                                                                                         y=y_train,\n",
    "                                                                                                         X_test=X_test,\n",
    "                                                                                                         y_test=y_test,\n",
    "                                                                                                         ratio=0.3,\n",
    "                                                                                                         base_models=150,\n",
    "                                                                                                         meta_model=meta_model)"
   ]
  },
  {
   "cell_type": "markdown",
   "metadata": {},
   "source": [
    "#### Tuning with base models as 200 with sample ratio as 0.3"
   ]
  },
  {
   "cell_type": "code",
   "execution_count": 22,
   "metadata": {},
   "outputs": [
    {
     "name": "stdout",
     "output_type": "stream",
     "text": [
      "MAE_SCORE= 1223.8832736719112\n"
     ]
    }
   ],
   "source": [
    "meta_model = XGBRegressor(max_depth=5,min_child_weight=1,gamma=0.4,colsample_bytree=0.9,subsample=0.9,reg_alpha=100,\n",
    "                          n_estimators=1500,n_jobs=-1)\n",
    "final_predictions9_model3,mae_score9_model3,decision_tree_models9_model3,meta_models9_model3=ensemble_model3(X=X_train,\n",
    "                                                                                                         y=y_train,\n",
    "                                                                                                         X_test=X_test,\n",
    "                                                                                                         y_test=y_test,\n",
    "                                                                                                         ratio=0.3,\n",
    "                                                                                                         base_models=200,\n",
    "                                                                                                         meta_model=meta_model)"
   ]
  },
  {
   "cell_type": "markdown",
   "metadata": {},
   "source": [
    "#### Tuning with base models as 300 with sample ratio as 0.3"
   ]
  },
  {
   "cell_type": "code",
   "execution_count": 23,
   "metadata": {},
   "outputs": [
    {
     "name": "stdout",
     "output_type": "stream",
     "text": [
      "MAE_SCORE= 1223.302351067996\n"
     ]
    }
   ],
   "source": [
    "meta_model = XGBRegressor(max_depth=5,min_child_weight=1,gamma=0.4,colsample_bytree=0.9,subsample=0.9,reg_alpha=100,\n",
    "                          n_estimators=1500,n_jobs=-1)\n",
    "final_predictions10_model3,mae_score10_model3,decision_tree_models10_model3,meta_models10_model3=ensemble_model3(X=X_train,\n",
    "                                                                                                         y=y_train,\n",
    "                                                                                                         X_test=X_test,\n",
    "                                                                                                         y_test=y_test,\n",
    "                                                                                                         ratio=0.3,\n",
    "                                                                                                         base_models=300,\n",
    "                                                                                                         meta_model=meta_model)"
   ]
  },
  {
   "cell_type": "code",
   "execution_count": 24,
   "metadata": {},
   "outputs": [],
   "source": [
    "def Ensemble_test3(X_test,base_model_list,meta_model):\n",
    "    test_base_model_prediction = prediction(base_model_list,X_test)\n",
    "    final_prediction1 = final_prediction(meta_model,test_base_model_prediction)\n",
    "    return final_prediction1"
   ]
  },
  {
   "cell_type": "code",
   "execution_count": 25,
   "metadata": {},
   "outputs": [],
   "source": [
    "prediction_test_set = Ensemble_test3(final_test_data,decision_tree_models10_model3,meta_models10_model3)\n",
    "prediction_test_set = np.exp(prediction_test_set)-100\n",
    "submission = pd.read_csv('sample_submission.csv')\n",
    "submission['loss'] = prediction_test_set \n",
    "submission.to_csv('ensemble_adaboost_base_model_submission.csv', index=False)"
   ]
  },
  {
   "cell_type": "code",
   "execution_count": 15,
   "metadata": {},
   "outputs": [
    {
     "data": {
      "text/plain": [
       "['/final_regression_model.sav']"
      ]
     },
     "execution_count": 15,
     "metadata": {},
     "output_type": "execute_result"
    }
   ],
   "source": [
    "import joblib\n",
    "filename = '/final_regression_model.sav'\n",
    "joblib.dump(model7, filename)"
   ]
  },
  {
   "cell_type": "code",
   "execution_count": 3,
   "metadata": {},
   "outputs": [
    {
     "data": {
      "image/png": "[encoded data removed]",
      "text/plain": [
       "<IPython.core.display.Image object>"
      ]
     },
     "execution_count": 3,
     "metadata": {},
     "output_type": "execute_result"
    }
   ],
   "source": [
    "from IPython.display import Image\n",
    "Image(filename='kaggle_scorecard1.png')"
   ]
  },
  {
   "cell_type": "code",
   "execution_count": 4,
   "metadata": {},
   "outputs": [
    {
     "data": {
      "image/png": "[encoded data removed]",
      "text/plain": [
       "<IPython.core.display.Image object>"
      ]
     },
     "execution_count": 4,
     "metadata": {},
     "output_type": "execute_result"
    }
   ],
   "source": [
    "from IPython.display import Image\n",
    "Image(filename='kaggle_scorecard2.png')"
   ]
  },
  {
   "cell_type": "markdown",
   "metadata": {},
   "source": [
    "## MLP "
   ]
  },
  {
   "cell_type": "code",
   "execution_count": 9,
   "metadata": {},
   "outputs": [],
   "source": [
    "import tensorflow as tf \n",
    "from tensorflow.keras.layers import Dense\n",
    "from tensorflow.keras.layers import BatchNormalization\n",
    "from tensorflow.keras.layers import PReLU,Dropout\n",
    "from tensorflow.keras import Sequential"
   ]
  },
  {
   "cell_type": "code",
   "execution_count": 10,
   "metadata": {},
   "outputs": [],
   "source": [
    "#https://www.kaggle.com/mtinti/keras-starter-with-bagging-1111-84364/code\n",
    "model = Sequential()\n",
    "model.add(Dense(400, input_dim = X_train.shape[1], kernel_initializer = 'he_normal'))\n",
    "model.add(PReLU())\n",
    "model.add(BatchNormalization())\n",
    "model.add(Dropout(0.4))\n",
    "model.add(Dense(200, kernel_initializer='he_normal'))\n",
    "model.add(PReLU())\n",
    "model.add(BatchNormalization())    \n",
    "model.add(Dropout(0.2))\n",
    "model.add(Dense(50, kernel_initializer = 'he_normal'))\n",
    "model.add(PReLU())\n",
    "model.add(BatchNormalization())    \n",
    "model.add(Dropout(0.2))\n",
    "model.add(Dense(1, kernel_initializer = 'he_normal'))\n",
    "model.compile(loss = 'mae', optimizer = 'adam')"
   ]
  },
  {
   "cell_type": "code",
   "execution_count": 11,
   "metadata": {},
   "outputs": [
    {
     "name": "stdout",
     "output_type": "stream",
     "text": [
      "Epoch 1/20\n",
      "4708/4708 [==============================] - 36s 8ms/step - loss: 1.0745 - val_loss: 0.4439\n",
      "Epoch 2/20\n",
      "4708/4708 [==============================] - 39s 8ms/step - loss: 0.5875 - val_loss: 0.4371\n",
      "Epoch 3/20\n",
      "4708/4708 [==============================] - 37s 8ms/step - loss: 0.5446 - val_loss: 0.4256\n",
      "Epoch 4/20\n",
      "4708/4708 [==============================] - 36s 8ms/step - loss: 0.5216 - val_loss: 0.4230\n",
      "Epoch 5/20\n",
      "4708/4708 [==============================] - 26s 6ms/step - loss: 0.5005 - val_loss: 0.4186\n",
      "Epoch 6/20\n",
      "4708/4708 [==============================] - 31s 7ms/step - loss: 0.4868 - val_loss: 0.4518\n",
      "Epoch 7/20\n",
      "4708/4708 [==============================] - 32s 7ms/step - loss: 0.4734 - val_loss: 0.4204\n",
      "Epoch 8/20\n",
      "4708/4708 [==============================] - 29s 6ms/step - loss: 0.4633 - val_loss: 0.4161\n",
      "Epoch 9/20\n",
      "4708/4708 [==============================] - 31s 7ms/step - loss: 0.4563 - val_loss: 0.4202\n",
      "Epoch 10/20\n",
      "4708/4708 [==============================] - 34s 7ms/step - loss: 0.4490 - val_loss: 0.4195\n",
      "Epoch 11/20\n",
      "4708/4708 [==============================] - 32s 7ms/step - loss: 0.4451 - val_loss: 0.4195\n",
      "Epoch 12/20\n",
      "4708/4708 [==============================] - 32s 7ms/step - loss: 0.4403 - val_loss: 0.4125\n",
      "Epoch 13/20\n",
      "4708/4708 [==============================] - 32s 7ms/step - loss: 0.4373 - val_loss: 0.4102\n",
      "Epoch 14/20\n",
      "4708/4708 [==============================] - 32s 7ms/step - loss: 0.4347 - val_loss: 0.4107\n",
      "Epoch 15/20\n",
      "4708/4708 [==============================] - 37s 8ms/step - loss: 0.4324 - val_loss: 0.4244\n",
      "Epoch 16/20\n",
      "4708/4708 [==============================] - 38s 8ms/step - loss: 0.4301 - val_loss: 0.4089\n",
      "Epoch 17/20\n",
      "4708/4708 [==============================] - 39s 8ms/step - loss: 0.4290 - val_loss: 0.4081\n",
      "Epoch 18/20\n",
      "4708/4708 [==============================] - 36s 8ms/step - loss: 0.4276 - val_loss: 0.4108\n",
      "Epoch 19/20\n",
      "4708/4708 [==============================] - 33s 7ms/step - loss: 0.4265 - val_loss: 0.4107\n",
      "Epoch 20/20\n",
      "4708/4708 [==============================] - 34s 7ms/step - loss: 0.4261 - val_loss: 0.4076\n"
     ]
    },
    {
     "data": {
      "text/plain": [
       "<tensorflow.python.keras.callbacks.History at 0x1aee4b1f130>"
      ]
     },
     "execution_count": 11,
     "metadata": {},
     "output_type": "execute_result"
    }
   ],
   "source": [
    "model.fit(X_train,y_train,validation_data=(X_test,y_test),epochs=20)"
   ]
  },
  {
   "cell_type": "code",
   "execution_count": 12,
   "metadata": {},
   "outputs": [
    {
     "name": "stdout",
     "output_type": "stream",
     "text": [
      "MAE: 1183.2814333054405\n"
     ]
    }
   ],
   "source": [
    "predict = model.predict(X_test)\n",
    "error = mean_absolute_error(np.exp(y_test)-100,np.exp(predict)-100)\n",
    "print(\"MAE:\",error)"
   ]
  },
  {
   "cell_type": "code",
   "execution_count": 13,
   "metadata": {},
   "outputs": [],
   "source": [
    "predictions_on_test_data=model.predict(final_test_data)\n",
    "prediction_on_test_data=np.exp(predictions_on_test_data)-100\n",
    "submission=pd.read_csv(\"sample_submission.csv\")\n",
    "submission['loss']=predictions_on_test_data\n",
    "submission.to_csv('MLP_submission.csv',index=False)"
   ]
  },
  {
   "cell_type": "code",
   "execution_count": 15,
   "metadata": {},
   "outputs": [
    {
     "data": {
      "image/png": "[encoded data removed]",
      "text/plain": [
       "<IPython.core.display.Image object>"
      ]
     },
     "execution_count": 15,
     "metadata": {},
     "output_type": "execute_result"
    }
   ],
   "source": [
    "from IPython.display import Image\n",
    "Image(filename='kaggle_scorecard_MLP.png')"
   ]
  },
  {
   "cell_type": "code",
   "execution_count": null,
   "metadata": {},
   "outputs": [],
   "source": []
  },
  {
   "cell_type": "code",
   "execution_count": null,
   "metadata": {},
   "outputs": [],
   "source": []
  },
  {
   "cell_type": "markdown",
   "metadata": {},
   "source": [
    "# B.Classification"
   ]
  },
  {
   "cell_type": "markdown",
   "metadata": {},
   "source": [
    "#### Performance Metrics"
   ]
  },
  {
   "cell_type": "markdown",
   "metadata": {},
   "source": [
    "1.Binary Class log-loss"
   ]
  },
  {
   "cell_type": "markdown",
   "metadata": {},
   "source": [
    "2.Confusion matrix"
   ]
  },
  {
   "cell_type": "code",
   "execution_count": 1,
   "metadata": {},
   "outputs": [],
   "source": [
    "import numpy as np\n",
    "import pandas as pd\n",
    "import warnings\n",
    "warnings.filterwarnings(\"ignore\")\n",
    "from sklearn.model_selection import train_test_split\n",
    "from sklearn.neighbors import KNeighborsClassifier\n",
    "from sklearn.calibration import CalibratedClassifierCV\n",
    "from sklearn.metrics.classification import accuracy_score, log_loss\n",
    "from sklearn.metrics import confusion_matrix\n",
    "import matplotlib.pyplot as plt\n",
    "import seaborn as sns\n",
    "from sklearn.naive_bayes import MultinomialNB\n",
    "from sklearn.preprocessing import MinMaxScaler\n",
    "from sklearn.linear_model import LogisticRegression\n",
    "from sklearn.linear_model import SGDClassifier\n",
    "from sklearn.ensemble import RandomForestClassifier,AdaBoostClassifier\n",
    "from xgboost import XGBClassifier\n",
    "from sklearn.model_selection import RandomizedSearchCV\n",
    "from sklearn.tree import DecisionTreeClassifier"
   ]
  },
  {
   "cell_type": "code",
   "execution_count": 3,
   "metadata": {},
   "outputs": [],
   "source": [
    "final_train=pd.read_csv('final_train.csv')\n",
    "final_test=pd.read_csv('final_test.csv')"
   ]
  },
  {
   "cell_type": "code",
   "execution_count": 4,
   "metadata": {},
   "outputs": [
    {
     "data": {
      "text/html": [
       "<div>\n",
       "<style scoped>\n",
       "    .dataframe tbody tr th:only-of-type {\n",
       "        vertical-align: middle;\n",
       "    }\n",
       "\n",
       "    .dataframe tbody tr th {\n",
       "        vertical-align: top;\n",
       "    }\n",
       "\n",
       "    .dataframe thead th {\n",
       "        text-align: right;\n",
       "    }\n",
       "</style>\n",
       "<table border=\"1\" class=\"dataframe\">\n",
       "  <thead>\n",
       "    <tr style=\"text-align: right;\">\n",
       "      <th></th>\n",
       "      <th>Unnamed: 0</th>\n",
       "      <th>id</th>\n",
       "      <th>cat1</th>\n",
       "      <th>cat2</th>\n",
       "      <th>cat3</th>\n",
       "      <th>cat4</th>\n",
       "      <th>cat5</th>\n",
       "      <th>cat6</th>\n",
       "      <th>cat7</th>\n",
       "      <th>cat8</th>\n",
       "      <th>...</th>\n",
       "      <th>40</th>\n",
       "      <th>41</th>\n",
       "      <th>42</th>\n",
       "      <th>43</th>\n",
       "      <th>44</th>\n",
       "      <th>45</th>\n",
       "      <th>46</th>\n",
       "      <th>47</th>\n",
       "      <th>48</th>\n",
       "      <th>49</th>\n",
       "    </tr>\n",
       "  </thead>\n",
       "  <tbody>\n",
       "    <tr>\n",
       "      <th>0</th>\n",
       "      <td>0</td>\n",
       "      <td>1</td>\n",
       "      <td>0</td>\n",
       "      <td>1</td>\n",
       "      <td>0</td>\n",
       "      <td>1</td>\n",
       "      <td>0</td>\n",
       "      <td>0</td>\n",
       "      <td>0</td>\n",
       "      <td>0</td>\n",
       "      <td>...</td>\n",
       "      <td>-1.293430</td>\n",
       "      <td>0.944129</td>\n",
       "      <td>1.212112</td>\n",
       "      <td>0.151955</td>\n",
       "      <td>-0.840833</td>\n",
       "      <td>1.574046</td>\n",
       "      <td>0.254690</td>\n",
       "      <td>0.414508</td>\n",
       "      <td>-0.027765</td>\n",
       "      <td>-0.311796</td>\n",
       "    </tr>\n",
       "    <tr>\n",
       "      <th>1</th>\n",
       "      <td>1</td>\n",
       "      <td>2</td>\n",
       "      <td>0</td>\n",
       "      <td>1</td>\n",
       "      <td>0</td>\n",
       "      <td>0</td>\n",
       "      <td>0</td>\n",
       "      <td>0</td>\n",
       "      <td>0</td>\n",
       "      <td>0</td>\n",
       "      <td>...</td>\n",
       "      <td>1.117633</td>\n",
       "      <td>-0.572326</td>\n",
       "      <td>-0.178976</td>\n",
       "      <td>0.071099</td>\n",
       "      <td>-0.033299</td>\n",
       "      <td>-1.122847</td>\n",
       "      <td>0.166747</td>\n",
       "      <td>-0.347091</td>\n",
       "      <td>2.021497</td>\n",
       "      <td>-1.443102</td>\n",
       "    </tr>\n",
       "    <tr>\n",
       "      <th>2</th>\n",
       "      <td>2</td>\n",
       "      <td>5</td>\n",
       "      <td>0</td>\n",
       "      <td>1</td>\n",
       "      <td>0</td>\n",
       "      <td>0</td>\n",
       "      <td>1</td>\n",
       "      <td>0</td>\n",
       "      <td>0</td>\n",
       "      <td>0</td>\n",
       "      <td>...</td>\n",
       "      <td>-0.639259</td>\n",
       "      <td>-0.361985</td>\n",
       "      <td>-0.532590</td>\n",
       "      <td>-0.567427</td>\n",
       "      <td>-0.026862</td>\n",
       "      <td>0.811226</td>\n",
       "      <td>-0.430778</td>\n",
       "      <td>-0.532504</td>\n",
       "      <td>-0.234315</td>\n",
       "      <td>-1.405167</td>\n",
       "    </tr>\n",
       "    <tr>\n",
       "      <th>3</th>\n",
       "      <td>3</td>\n",
       "      <td>10</td>\n",
       "      <td>1</td>\n",
       "      <td>1</td>\n",
       "      <td>0</td>\n",
       "      <td>1</td>\n",
       "      <td>0</td>\n",
       "      <td>0</td>\n",
       "      <td>0</td>\n",
       "      <td>0</td>\n",
       "      <td>...</td>\n",
       "      <td>-0.630797</td>\n",
       "      <td>1.184554</td>\n",
       "      <td>0.819222</td>\n",
       "      <td>0.326491</td>\n",
       "      <td>-0.441032</td>\n",
       "      <td>-0.430384</td>\n",
       "      <td>0.270558</td>\n",
       "      <td>0.185221</td>\n",
       "      <td>-0.263990</td>\n",
       "      <td>0.386238</td>\n",
       "    </tr>\n",
       "    <tr>\n",
       "      <th>4</th>\n",
       "      <td>4</td>\n",
       "      <td>11</td>\n",
       "      <td>0</td>\n",
       "      <td>1</td>\n",
       "      <td>0</td>\n",
       "      <td>1</td>\n",
       "      <td>0</td>\n",
       "      <td>0</td>\n",
       "      <td>0</td>\n",
       "      <td>0</td>\n",
       "      <td>...</td>\n",
       "      <td>-0.128633</td>\n",
       "      <td>0.858617</td>\n",
       "      <td>0.753721</td>\n",
       "      <td>-0.559749</td>\n",
       "      <td>-0.791526</td>\n",
       "      <td>-3.322677</td>\n",
       "      <td>-0.408481</td>\n",
       "      <td>-0.835578</td>\n",
       "      <td>-0.737093</td>\n",
       "      <td>0.272414</td>\n",
       "    </tr>\n",
       "  </tbody>\n",
       "</table>\n",
       "<p>5 rows × 186 columns</p>\n",
       "</div>"
      ],
      "text/plain": [
       "   Unnamed: 0  id  cat1  cat2  cat3  cat4  cat5  cat6  cat7  cat8  ...  \\\n",
       "0           0   1     0     1     0     1     0     0     0     0  ...   \n",
       "1           1   2     0     1     0     0     0     0     0     0  ...   \n",
       "2           2   5     0     1     0     0     1     0     0     0  ...   \n",
       "3           3  10     1     1     0     1     0     0     0     0  ...   \n",
       "4           4  11     0     1     0     1     0     0     0     0  ...   \n",
       "\n",
       "         40        41        42        43        44        45        46  \\\n",
       "0 -1.293430  0.944129  1.212112  0.151955 -0.840833  1.574046  0.254690   \n",
       "1  1.117633 -0.572326 -0.178976  0.071099 -0.033299 -1.122847  0.166747   \n",
       "2 -0.639259 -0.361985 -0.532590 -0.567427 -0.026862  0.811226 -0.430778   \n",
       "3 -0.630797  1.184554  0.819222  0.326491 -0.441032 -0.430384  0.270558   \n",
       "4 -0.128633  0.858617  0.753721 -0.559749 -0.791526 -3.322677 -0.408481   \n",
       "\n",
       "         47        48        49  \n",
       "0  0.414508 -0.027765 -0.311796  \n",
       "1 -0.347091  2.021497 -1.443102  \n",
       "2 -0.532504 -0.234315 -1.405167  \n",
       "3  0.185221 -0.263990  0.386238  \n",
       "4 -0.835578 -0.737093  0.272414  \n",
       "\n",
       "[5 rows x 186 columns]"
      ]
     },
     "execution_count": 4,
     "metadata": {},
     "output_type": "execute_result"
    }
   ],
   "source": [
    "final_train.head()"
   ]
  },
  {
   "cell_type": "code",
   "execution_count": 5,
   "metadata": {},
   "outputs": [
    {
     "data": {
      "text/html": [
       "<div>\n",
       "<style scoped>\n",
       "    .dataframe tbody tr th:only-of-type {\n",
       "        vertical-align: middle;\n",
       "    }\n",
       "\n",
       "    .dataframe tbody tr th {\n",
       "        vertical-align: top;\n",
       "    }\n",
       "\n",
       "    .dataframe thead th {\n",
       "        text-align: right;\n",
       "    }\n",
       "</style>\n",
       "<table border=\"1\" class=\"dataframe\">\n",
       "  <thead>\n",
       "    <tr style=\"text-align: right;\">\n",
       "      <th></th>\n",
       "      <th>Unnamed: 0</th>\n",
       "      <th>id</th>\n",
       "      <th>cat1</th>\n",
       "      <th>cat2</th>\n",
       "      <th>cat3</th>\n",
       "      <th>cat4</th>\n",
       "      <th>cat5</th>\n",
       "      <th>cat6</th>\n",
       "      <th>cat7</th>\n",
       "      <th>cat8</th>\n",
       "      <th>...</th>\n",
       "      <th>40</th>\n",
       "      <th>41</th>\n",
       "      <th>42</th>\n",
       "      <th>43</th>\n",
       "      <th>44</th>\n",
       "      <th>45</th>\n",
       "      <th>46</th>\n",
       "      <th>47</th>\n",
       "      <th>48</th>\n",
       "      <th>49</th>\n",
       "    </tr>\n",
       "  </thead>\n",
       "  <tbody>\n",
       "    <tr>\n",
       "      <th>0</th>\n",
       "      <td>0</td>\n",
       "      <td>4</td>\n",
       "      <td>0</td>\n",
       "      <td>1</td>\n",
       "      <td>0</td>\n",
       "      <td>0</td>\n",
       "      <td>0</td>\n",
       "      <td>0</td>\n",
       "      <td>0</td>\n",
       "      <td>0</td>\n",
       "      <td>...</td>\n",
       "      <td>0.511525</td>\n",
       "      <td>0.113646</td>\n",
       "      <td>-0.195398</td>\n",
       "      <td>-0.064082</td>\n",
       "      <td>-0.438053</td>\n",
       "      <td>2.508695</td>\n",
       "      <td>-0.477224</td>\n",
       "      <td>-0.144979</td>\n",
       "      <td>0.034006</td>\n",
       "      <td>0.601457</td>\n",
       "    </tr>\n",
       "    <tr>\n",
       "      <th>1</th>\n",
       "      <td>1</td>\n",
       "      <td>6</td>\n",
       "      <td>0</td>\n",
       "      <td>1</td>\n",
       "      <td>0</td>\n",
       "      <td>1</td>\n",
       "      <td>0</td>\n",
       "      <td>0</td>\n",
       "      <td>0</td>\n",
       "      <td>0</td>\n",
       "      <td>...</td>\n",
       "      <td>-0.787799</td>\n",
       "      <td>0.447311</td>\n",
       "      <td>-0.235600</td>\n",
       "      <td>0.392818</td>\n",
       "      <td>-0.075797</td>\n",
       "      <td>-0.492376</td>\n",
       "      <td>0.568460</td>\n",
       "      <td>-0.402144</td>\n",
       "      <td>0.317939</td>\n",
       "      <td>1.513015</td>\n",
       "    </tr>\n",
       "    <tr>\n",
       "      <th>2</th>\n",
       "      <td>2</td>\n",
       "      <td>9</td>\n",
       "      <td>0</td>\n",
       "      <td>1</td>\n",
       "      <td>0</td>\n",
       "      <td>1</td>\n",
       "      <td>1</td>\n",
       "      <td>0</td>\n",
       "      <td>1</td>\n",
       "      <td>0</td>\n",
       "      <td>...</td>\n",
       "      <td>-0.548089</td>\n",
       "      <td>0.215806</td>\n",
       "      <td>-1.986567</td>\n",
       "      <td>0.319489</td>\n",
       "      <td>0.178645</td>\n",
       "      <td>-1.451192</td>\n",
       "      <td>3.290931</td>\n",
       "      <td>6.253302</td>\n",
       "      <td>1.365657</td>\n",
       "      <td>0.999749</td>\n",
       "    </tr>\n",
       "    <tr>\n",
       "      <th>3</th>\n",
       "      <td>3</td>\n",
       "      <td>12</td>\n",
       "      <td>0</td>\n",
       "      <td>0</td>\n",
       "      <td>0</td>\n",
       "      <td>0</td>\n",
       "      <td>1</td>\n",
       "      <td>0</td>\n",
       "      <td>0</td>\n",
       "      <td>0</td>\n",
       "      <td>...</td>\n",
       "      <td>0.069279</td>\n",
       "      <td>0.276326</td>\n",
       "      <td>-2.150035</td>\n",
       "      <td>-2.381022</td>\n",
       "      <td>0.482372</td>\n",
       "      <td>-0.168927</td>\n",
       "      <td>0.224951</td>\n",
       "      <td>-0.724111</td>\n",
       "      <td>0.640531</td>\n",
       "      <td>0.669847</td>\n",
       "    </tr>\n",
       "    <tr>\n",
       "      <th>4</th>\n",
       "      <td>4</td>\n",
       "      <td>15</td>\n",
       "      <td>1</td>\n",
       "      <td>0</td>\n",
       "      <td>0</td>\n",
       "      <td>0</td>\n",
       "      <td>0</td>\n",
       "      <td>1</td>\n",
       "      <td>0</td>\n",
       "      <td>0</td>\n",
       "      <td>...</td>\n",
       "      <td>-1.298711</td>\n",
       "      <td>-0.633614</td>\n",
       "      <td>-0.314827</td>\n",
       "      <td>-0.238997</td>\n",
       "      <td>0.849379</td>\n",
       "      <td>-0.113902</td>\n",
       "      <td>0.038065</td>\n",
       "      <td>0.260193</td>\n",
       "      <td>0.026549</td>\n",
       "      <td>-0.127840</td>\n",
       "    </tr>\n",
       "  </tbody>\n",
       "</table>\n",
       "<p>5 rows × 185 columns</p>\n",
       "</div>"
      ],
      "text/plain": [
       "   Unnamed: 0  id  cat1  cat2  cat3  cat4  cat5  cat6  cat7  cat8  ...  \\\n",
       "0           0   4     0     1     0     0     0     0     0     0  ...   \n",
       "1           1   6     0     1     0     1     0     0     0     0  ...   \n",
       "2           2   9     0     1     0     1     1     0     1     0  ...   \n",
       "3           3  12     0     0     0     0     1     0     0     0  ...   \n",
       "4           4  15     1     0     0     0     0     1     0     0  ...   \n",
       "\n",
       "         40        41        42        43        44        45        46  \\\n",
       "0  0.511525  0.113646 -0.195398 -0.064082 -0.438053  2.508695 -0.477224   \n",
       "1 -0.787799  0.447311 -0.235600  0.392818 -0.075797 -0.492376  0.568460   \n",
       "2 -0.548089  0.215806 -1.986567  0.319489  0.178645 -1.451192  3.290931   \n",
       "3  0.069279  0.276326 -2.150035 -2.381022  0.482372 -0.168927  0.224951   \n",
       "4 -1.298711 -0.633614 -0.314827 -0.238997  0.849379 -0.113902  0.038065   \n",
       "\n",
       "         47        48        49  \n",
       "0 -0.144979  0.034006  0.601457  \n",
       "1 -0.402144  0.317939  1.513015  \n",
       "2  6.253302  1.365657  0.999749  \n",
       "3 -0.724111  0.640531  0.669847  \n",
       "4  0.260193  0.026549 -0.127840  \n",
       "\n",
       "[5 rows x 185 columns]"
      ]
     },
     "execution_count": 5,
     "metadata": {},
     "output_type": "execute_result"
    }
   ],
   "source": [
    "final_test.head()"
   ]
  },
  {
   "cell_type": "code",
   "execution_count": 6,
   "metadata": {},
   "outputs": [],
   "source": [
    "final_train['loss_cat']=['0' if i<=2213.18 else '1' for i in final_train['loss']]"
   ]
  },
  {
   "cell_type": "code",
   "execution_count": 7,
   "metadata": {},
   "outputs": [
    {
     "data": {
      "text/html": [
       "<div>\n",
       "<style scoped>\n",
       "    .dataframe tbody tr th:only-of-type {\n",
       "        vertical-align: middle;\n",
       "    }\n",
       "\n",
       "    .dataframe tbody tr th {\n",
       "        vertical-align: top;\n",
       "    }\n",
       "\n",
       "    .dataframe thead th {\n",
       "        text-align: right;\n",
       "    }\n",
       "</style>\n",
       "<table border=\"1\" class=\"dataframe\">\n",
       "  <thead>\n",
       "    <tr style=\"text-align: right;\">\n",
       "      <th></th>\n",
       "      <th>Unnamed: 0</th>\n",
       "      <th>id</th>\n",
       "      <th>cat1</th>\n",
       "      <th>cat2</th>\n",
       "      <th>cat3</th>\n",
       "      <th>cat4</th>\n",
       "      <th>cat5</th>\n",
       "      <th>cat6</th>\n",
       "      <th>cat7</th>\n",
       "      <th>cat8</th>\n",
       "      <th>...</th>\n",
       "      <th>41</th>\n",
       "      <th>42</th>\n",
       "      <th>43</th>\n",
       "      <th>44</th>\n",
       "      <th>45</th>\n",
       "      <th>46</th>\n",
       "      <th>47</th>\n",
       "      <th>48</th>\n",
       "      <th>49</th>\n",
       "      <th>loss_cat</th>\n",
       "    </tr>\n",
       "  </thead>\n",
       "  <tbody>\n",
       "    <tr>\n",
       "      <th>0</th>\n",
       "      <td>0</td>\n",
       "      <td>1</td>\n",
       "      <td>0</td>\n",
       "      <td>1</td>\n",
       "      <td>0</td>\n",
       "      <td>1</td>\n",
       "      <td>0</td>\n",
       "      <td>0</td>\n",
       "      <td>0</td>\n",
       "      <td>0</td>\n",
       "      <td>...</td>\n",
       "      <td>0.944129</td>\n",
       "      <td>1.212112</td>\n",
       "      <td>0.151955</td>\n",
       "      <td>-0.840833</td>\n",
       "      <td>1.574046</td>\n",
       "      <td>0.254690</td>\n",
       "      <td>0.414508</td>\n",
       "      <td>-0.027765</td>\n",
       "      <td>-0.311796</td>\n",
       "      <td>0</td>\n",
       "    </tr>\n",
       "    <tr>\n",
       "      <th>1</th>\n",
       "      <td>1</td>\n",
       "      <td>2</td>\n",
       "      <td>0</td>\n",
       "      <td>1</td>\n",
       "      <td>0</td>\n",
       "      <td>0</td>\n",
       "      <td>0</td>\n",
       "      <td>0</td>\n",
       "      <td>0</td>\n",
       "      <td>0</td>\n",
       "      <td>...</td>\n",
       "      <td>-0.572326</td>\n",
       "      <td>-0.178976</td>\n",
       "      <td>0.071099</td>\n",
       "      <td>-0.033299</td>\n",
       "      <td>-1.122847</td>\n",
       "      <td>0.166747</td>\n",
       "      <td>-0.347091</td>\n",
       "      <td>2.021497</td>\n",
       "      <td>-1.443102</td>\n",
       "      <td>0</td>\n",
       "    </tr>\n",
       "    <tr>\n",
       "      <th>2</th>\n",
       "      <td>2</td>\n",
       "      <td>5</td>\n",
       "      <td>0</td>\n",
       "      <td>1</td>\n",
       "      <td>0</td>\n",
       "      <td>0</td>\n",
       "      <td>1</td>\n",
       "      <td>0</td>\n",
       "      <td>0</td>\n",
       "      <td>0</td>\n",
       "      <td>...</td>\n",
       "      <td>-0.361985</td>\n",
       "      <td>-0.532590</td>\n",
       "      <td>-0.567427</td>\n",
       "      <td>-0.026862</td>\n",
       "      <td>0.811226</td>\n",
       "      <td>-0.430778</td>\n",
       "      <td>-0.532504</td>\n",
       "      <td>-0.234315</td>\n",
       "      <td>-1.405167</td>\n",
       "      <td>1</td>\n",
       "    </tr>\n",
       "    <tr>\n",
       "      <th>3</th>\n",
       "      <td>3</td>\n",
       "      <td>10</td>\n",
       "      <td>1</td>\n",
       "      <td>1</td>\n",
       "      <td>0</td>\n",
       "      <td>1</td>\n",
       "      <td>0</td>\n",
       "      <td>0</td>\n",
       "      <td>0</td>\n",
       "      <td>0</td>\n",
       "      <td>...</td>\n",
       "      <td>1.184554</td>\n",
       "      <td>0.819222</td>\n",
       "      <td>0.326491</td>\n",
       "      <td>-0.441032</td>\n",
       "      <td>-0.430384</td>\n",
       "      <td>0.270558</td>\n",
       "      <td>0.185221</td>\n",
       "      <td>-0.263990</td>\n",
       "      <td>0.386238</td>\n",
       "      <td>0</td>\n",
       "    </tr>\n",
       "    <tr>\n",
       "      <th>4</th>\n",
       "      <td>4</td>\n",
       "      <td>11</td>\n",
       "      <td>0</td>\n",
       "      <td>1</td>\n",
       "      <td>0</td>\n",
       "      <td>1</td>\n",
       "      <td>0</td>\n",
       "      <td>0</td>\n",
       "      <td>0</td>\n",
       "      <td>0</td>\n",
       "      <td>...</td>\n",
       "      <td>0.858617</td>\n",
       "      <td>0.753721</td>\n",
       "      <td>-0.559749</td>\n",
       "      <td>-0.791526</td>\n",
       "      <td>-3.322677</td>\n",
       "      <td>-0.408481</td>\n",
       "      <td>-0.835578</td>\n",
       "      <td>-0.737093</td>\n",
       "      <td>0.272414</td>\n",
       "      <td>1</td>\n",
       "    </tr>\n",
       "  </tbody>\n",
       "</table>\n",
       "<p>5 rows × 187 columns</p>\n",
       "</div>"
      ],
      "text/plain": [
       "   Unnamed: 0  id  cat1  cat2  cat3  cat4  cat5  cat6  cat7  cat8  ...  \\\n",
       "0           0   1     0     1     0     1     0     0     0     0  ...   \n",
       "1           1   2     0     1     0     0     0     0     0     0  ...   \n",
       "2           2   5     0     1     0     0     1     0     0     0  ...   \n",
       "3           3  10     1     1     0     1     0     0     0     0  ...   \n",
       "4           4  11     0     1     0     1     0     0     0     0  ...   \n",
       "\n",
       "         41        42        43        44        45        46        47  \\\n",
       "0  0.944129  1.212112  0.151955 -0.840833  1.574046  0.254690  0.414508   \n",
       "1 -0.572326 -0.178976  0.071099 -0.033299 -1.122847  0.166747 -0.347091   \n",
       "2 -0.361985 -0.532590 -0.567427 -0.026862  0.811226 -0.430778 -0.532504   \n",
       "3  1.184554  0.819222  0.326491 -0.441032 -0.430384  0.270558  0.185221   \n",
       "4  0.858617  0.753721 -0.559749 -0.791526 -3.322677 -0.408481 -0.835578   \n",
       "\n",
       "         48        49  loss_cat  \n",
       "0 -0.027765 -0.311796         0  \n",
       "1  2.021497 -1.443102         0  \n",
       "2 -0.234315 -1.405167         1  \n",
       "3 -0.263990  0.386238         0  \n",
       "4 -0.737093  0.272414         1  \n",
       "\n",
       "[5 rows x 187 columns]"
      ]
     },
     "execution_count": 7,
     "metadata": {},
     "output_type": "execute_result"
    }
   ],
   "source": [
    "final_train.head()"
   ]
  },
  {
   "cell_type": "code",
   "execution_count": 8,
   "metadata": {},
   "outputs": [],
   "source": [
    "#Dropping the loss column\n",
    "final_train_categeorical=final_train.drop(['loss'],axis=1)"
   ]
  },
  {
   "cell_type": "code",
   "execution_count": 9,
   "metadata": {},
   "outputs": [],
   "source": [
    "final_train_categeorical.to_csv('final_train_categorical.csv')"
   ]
  },
  {
   "cell_type": "code",
   "execution_count": 2,
   "metadata": {},
   "outputs": [],
   "source": [
    "final_train=pd.read_csv('final_train_categorical.csv')"
   ]
  },
  {
   "cell_type": "code",
   "execution_count": 3,
   "metadata": {},
   "outputs": [
    {
     "data": {
      "text/html": [
       "<div>\n",
       "<style scoped>\n",
       "    .dataframe tbody tr th:only-of-type {\n",
       "        vertical-align: middle;\n",
       "    }\n",
       "\n",
       "    .dataframe tbody tr th {\n",
       "        vertical-align: top;\n",
       "    }\n",
       "\n",
       "    .dataframe thead th {\n",
       "        text-align: right;\n",
       "    }\n",
       "</style>\n",
       "<table border=\"1\" class=\"dataframe\">\n",
       "  <thead>\n",
       "    <tr style=\"text-align: right;\">\n",
       "      <th></th>\n",
       "      <th>Unnamed: 0</th>\n",
       "      <th>Unnamed: 0.1</th>\n",
       "      <th>id</th>\n",
       "      <th>cat1</th>\n",
       "      <th>cat2</th>\n",
       "      <th>cat3</th>\n",
       "      <th>cat4</th>\n",
       "      <th>cat5</th>\n",
       "      <th>cat6</th>\n",
       "      <th>cat7</th>\n",
       "      <th>...</th>\n",
       "      <th>41</th>\n",
       "      <th>42</th>\n",
       "      <th>43</th>\n",
       "      <th>44</th>\n",
       "      <th>45</th>\n",
       "      <th>46</th>\n",
       "      <th>47</th>\n",
       "      <th>48</th>\n",
       "      <th>49</th>\n",
       "      <th>loss_cat</th>\n",
       "    </tr>\n",
       "  </thead>\n",
       "  <tbody>\n",
       "    <tr>\n",
       "      <th>0</th>\n",
       "      <td>0</td>\n",
       "      <td>0</td>\n",
       "      <td>1</td>\n",
       "      <td>0</td>\n",
       "      <td>1</td>\n",
       "      <td>0</td>\n",
       "      <td>1</td>\n",
       "      <td>0</td>\n",
       "      <td>0</td>\n",
       "      <td>0</td>\n",
       "      <td>...</td>\n",
       "      <td>0.944129</td>\n",
       "      <td>1.212112</td>\n",
       "      <td>0.151955</td>\n",
       "      <td>-0.840833</td>\n",
       "      <td>1.574046</td>\n",
       "      <td>0.254690</td>\n",
       "      <td>0.414508</td>\n",
       "      <td>-0.027765</td>\n",
       "      <td>-0.311796</td>\n",
       "      <td>0</td>\n",
       "    </tr>\n",
       "    <tr>\n",
       "      <th>1</th>\n",
       "      <td>1</td>\n",
       "      <td>1</td>\n",
       "      <td>2</td>\n",
       "      <td>0</td>\n",
       "      <td>1</td>\n",
       "      <td>0</td>\n",
       "      <td>0</td>\n",
       "      <td>0</td>\n",
       "      <td>0</td>\n",
       "      <td>0</td>\n",
       "      <td>...</td>\n",
       "      <td>-0.572326</td>\n",
       "      <td>-0.178976</td>\n",
       "      <td>0.071099</td>\n",
       "      <td>-0.033299</td>\n",
       "      <td>-1.122847</td>\n",
       "      <td>0.166747</td>\n",
       "      <td>-0.347091</td>\n",
       "      <td>2.021497</td>\n",
       "      <td>-1.443102</td>\n",
       "      <td>0</td>\n",
       "    </tr>\n",
       "    <tr>\n",
       "      <th>2</th>\n",
       "      <td>2</td>\n",
       "      <td>2</td>\n",
       "      <td>5</td>\n",
       "      <td>0</td>\n",
       "      <td>1</td>\n",
       "      <td>0</td>\n",
       "      <td>0</td>\n",
       "      <td>1</td>\n",
       "      <td>0</td>\n",
       "      <td>0</td>\n",
       "      <td>...</td>\n",
       "      <td>-0.361985</td>\n",
       "      <td>-0.532590</td>\n",
       "      <td>-0.567427</td>\n",
       "      <td>-0.026862</td>\n",
       "      <td>0.811226</td>\n",
       "      <td>-0.430778</td>\n",
       "      <td>-0.532504</td>\n",
       "      <td>-0.234315</td>\n",
       "      <td>-1.405167</td>\n",
       "      <td>1</td>\n",
       "    </tr>\n",
       "    <tr>\n",
       "      <th>3</th>\n",
       "      <td>3</td>\n",
       "      <td>3</td>\n",
       "      <td>10</td>\n",
       "      <td>1</td>\n",
       "      <td>1</td>\n",
       "      <td>0</td>\n",
       "      <td>1</td>\n",
       "      <td>0</td>\n",
       "      <td>0</td>\n",
       "      <td>0</td>\n",
       "      <td>...</td>\n",
       "      <td>1.184554</td>\n",
       "      <td>0.819222</td>\n",
       "      <td>0.326491</td>\n",
       "      <td>-0.441032</td>\n",
       "      <td>-0.430384</td>\n",
       "      <td>0.270558</td>\n",
       "      <td>0.185221</td>\n",
       "      <td>-0.263990</td>\n",
       "      <td>0.386238</td>\n",
       "      <td>0</td>\n",
       "    </tr>\n",
       "    <tr>\n",
       "      <th>4</th>\n",
       "      <td>4</td>\n",
       "      <td>4</td>\n",
       "      <td>11</td>\n",
       "      <td>0</td>\n",
       "      <td>1</td>\n",
       "      <td>0</td>\n",
       "      <td>1</td>\n",
       "      <td>0</td>\n",
       "      <td>0</td>\n",
       "      <td>0</td>\n",
       "      <td>...</td>\n",
       "      <td>0.858617</td>\n",
       "      <td>0.753721</td>\n",
       "      <td>-0.559749</td>\n",
       "      <td>-0.791526</td>\n",
       "      <td>-3.322677</td>\n",
       "      <td>-0.408481</td>\n",
       "      <td>-0.835578</td>\n",
       "      <td>-0.737093</td>\n",
       "      <td>0.272414</td>\n",
       "      <td>1</td>\n",
       "    </tr>\n",
       "  </tbody>\n",
       "</table>\n",
       "<p>5 rows × 187 columns</p>\n",
       "</div>"
      ],
      "text/plain": [
       "   Unnamed: 0  Unnamed: 0.1  id  cat1  cat2  cat3  cat4  cat5  cat6  cat7  \\\n",
       "0           0             0   1     0     1     0     1     0     0     0   \n",
       "1           1             1   2     0     1     0     0     0     0     0   \n",
       "2           2             2   5     0     1     0     0     1     0     0   \n",
       "3           3             3  10     1     1     0     1     0     0     0   \n",
       "4           4             4  11     0     1     0     1     0     0     0   \n",
       "\n",
       "   ...        41        42        43        44        45        46        47  \\\n",
       "0  ...  0.944129  1.212112  0.151955 -0.840833  1.574046  0.254690  0.414508   \n",
       "1  ... -0.572326 -0.178976  0.071099 -0.033299 -1.122847  0.166747 -0.347091   \n",
       "2  ... -0.361985 -0.532590 -0.567427 -0.026862  0.811226 -0.430778 -0.532504   \n",
       "3  ...  1.184554  0.819222  0.326491 -0.441032 -0.430384  0.270558  0.185221   \n",
       "4  ...  0.858617  0.753721 -0.559749 -0.791526 -3.322677 -0.408481 -0.835578   \n",
       "\n",
       "         48        49  loss_cat  \n",
       "0 -0.027765 -0.311796         0  \n",
       "1  2.021497 -1.443102         0  \n",
       "2 -0.234315 -1.405167         1  \n",
       "3 -0.263990  0.386238         0  \n",
       "4 -0.737093  0.272414         1  \n",
       "\n",
       "[5 rows x 187 columns]"
      ]
     },
     "execution_count": 3,
     "metadata": {},
     "output_type": "execute_result"
    }
   ],
   "source": [
    "final_train.head()"
   ]
  },
  {
   "cell_type": "code",
   "execution_count": 4,
   "metadata": {},
   "outputs": [
    {
     "data": {
      "text/plain": [
       "0    98016\n",
       "1    90302\n",
       "Name: loss_cat, dtype: int64"
      ]
     },
     "execution_count": 4,
     "metadata": {},
     "output_type": "execute_result"
    }
   ],
   "source": [
    "final_train['loss_cat'].value_counts()"
   ]
  },
  {
   "cell_type": "code",
   "execution_count": 5,
   "metadata": {},
   "outputs": [
    {
     "name": "stdout",
     "output_type": "stream",
     "text": [
      "(120523, 183)\n",
      "(37664, 183)\n",
      "(30131, 183)\n",
      "(30131,)\n",
      "(120523,)\n",
      "(37664,)\n"
     ]
    }
   ],
   "source": [
    "Y=final_train['loss_cat']\n",
    "X=final_train.drop(['Unnamed: 0','Unnamed: 0.1','loss_cat','id'], axis=1)\n",
    "X_train,X_test, y_train, y_test = train_test_split(X,Y, stratify=Y, test_size=0.2)\n",
    "X_train,X_cv, y_train, y_cv = train_test_split(X_train, y_train, stratify=y_train, test_size=0.2)\n",
    "print(X_train.shape)\n",
    "print(X_test.shape)\n",
    "print(X_cv.shape)\n",
    "print(y_cv.shape)\n",
    "print(y_train.shape)\n",
    "print(y_test.shape)"
   ]
  },
  {
   "cell_type": "code",
   "execution_count": 6,
   "metadata": {},
   "outputs": [],
   "source": [
    "scaler = MinMaxScaler()\n",
    "X_train=scaler.fit_transform(X_train)\n",
    "X_test=scaler.fit_transform(X_test)"
   ]
  },
  {
   "cell_type": "code",
   "execution_count": 7,
   "metadata": {},
   "outputs": [],
   "source": [
    "# This function plots the confusion matrices given y_i, y_i_hat.\n",
    "def plot_confusion_matrix(test_y, predict_y):\n",
    "    C = confusion_matrix(test_y, predict_y)\n",
    "    # C = 2,2 matrix, each cell (i,j) represents number of points of class i are predicted class j\n",
    "    \n",
    "    A =(((C.T)/(C.sum(axis=1))).T)\n",
    "    #divid each element of the confusion matrix with the sum of elements in that column\n",
    "    \n",
    "    # C = [[1, 2],\n",
    "    #     [3, 4]]\n",
    "    # C.T = [[1, 3],\n",
    "    #        [2, 4]]\n",
    "    # C.sum(axis = 1)  axis=0 corresonds to columns and axis=1 corresponds to rows in two diamensional array\n",
    "    # C.sum(axix =1) = [[3, 7]]\n",
    "    # ((C.T)/(C.sum(axis=1))) = [[1/3, 3/7]\n",
    "    #                           [2/3, 4/7]]\n",
    "\n",
    "    # ((C.T)/(C.sum(axis=1))).T = [[1/3, 2/3]\n",
    "    #                           [3/7, 4/7]]\n",
    "    # sum of row elements = 1\n",
    "    \n",
    "    B =(C/C.sum(axis=0))\n",
    "    #divid each element of the confusion matrix with the sum of elements in that row\n",
    "    # C = [[1, 2],\n",
    "    #     [3, 4]]\n",
    "    # C.sum(axis = 0)  axis=0 corresonds to columns and axis=1 corresponds to rows in two diamensional array\n",
    "    # C.sum(axix =0) = [[4, 6]]\n",
    "    # (C/C.sum(axis=0)) = [[1/4, 2/6],\n",
    "    #                      [3/4, 4/6]] \n",
    "    \n",
    "    labels = [0,1]\n",
    "    # representing A in heatmap format\n",
    "    print(\"-\"*20, \"Confusion matrix\", \"-\"*20)\n",
    "    plt.figure(figsize=(10,3))\n",
    "    sns.heatmap(C, annot=True, cmap=\"YlGnBu\", fmt=\".3f\", xticklabels=labels, yticklabels=labels)\n",
    "    plt.xlabel('Predicted Class')\n",
    "    plt.ylabel('Original Class')\n",
    "    plt.show()\n",
    "\n",
    "    print(\"-\"*20, \"Precision matrix (Columm Sum=1)\", \"-\"*20)\n",
    "    plt.figure(figsize=(10,3))\n",
    "    sns.heatmap(B, annot=True, cmap=\"YlGnBu\", fmt=\".3f\", xticklabels=labels, yticklabels=labels)\n",
    "    plt.xlabel('Predicted Class')\n",
    "    plt.ylabel('Original Class')\n",
    "    plt.show()\n",
    "    \n",
    "    # representing B in heatmap format\n",
    "    print(\"-\"*20, \"Recall matrix (Row sum=1)\", \"-\"*20)\n",
    "    plt.figure(figsize=(10,3))\n",
    "    sns.heatmap(A, annot=True, cmap=\"YlGnBu\", fmt=\".3f\", xticklabels=labels, yticklabels=labels)\n",
    "    plt.xlabel('Predicted Class')\n",
    "    plt.ylabel('Original Class')\n",
    "    plt.show()"
   ]
  },
  {
   "cell_type": "code",
   "execution_count": 8,
   "metadata": {},
   "outputs": [],
   "source": [
    "def predict_and_plot_confusion_matrix(train_x, train_y,test_x, test_y, clf):\n",
    "    clf.fit(train_x, train_y)\n",
    "    sig_clf = CalibratedClassifierCV(clf, method=\"sigmoid\")\n",
    "    sig_clf.fit(train_x, train_y)\n",
    "    pred_y = sig_clf.predict(test_x)\n",
    "\n",
    "    # for calculating log_loss we willl provide the array of probabilities belongs to each class\n",
    "    print(\"Log loss :\",log_loss(test_y, sig_clf.predict_proba(test_x)))\n",
    "    # calculating the number of data points that are misclassified\n",
    "    print(\"Number of mis-classified points :\", np.count_nonzero((pred_y- test_y))/test_y.shape[0])\n",
    "    plot_confusion_matrix(test_y, pred_y)"
   ]
  },
  {
   "cell_type": "markdown",
   "metadata": {},
   "source": [
    "#### 1.Naive Bayes Classifier"
   ]
  },
  {
   "cell_type": "code",
   "execution_count": 9,
   "metadata": {},
   "outputs": [
    {
     "name": "stdout",
     "output_type": "stream",
     "text": [
      "Log Loss : 1e-05 0.790650418743153\n",
      "Log Loss : 0.0001 0.7906504237314039\n",
      "Log Loss : 0.001 0.7906504736125318\n",
      "Log Loss : 0.1 0.7906559453053564\n",
      "Log Loss : 1 0.7907045012039008\n",
      "Log Loss : 10 0.7911324265828019\n",
      "Log Loss : 50 0.7926369221985343\n",
      "Log Loss : 100 0.7942188982268619\n",
      "Log Loss : 1000 0.8106083855347923\n"
     ]
    }
   ],
   "source": [
    "alpha = [0.00001, 0.0001, 0.001, 0.1, 1, 10,50, 100,1000]\n",
    "cv_log_error_array = []\n",
    "for i in alpha:\n",
    "    model2 = MultinomialNB(alpha=i)\n",
    "    model2.fit(X_train,y_train)\n",
    "    sig_clf = CalibratedClassifierCV(model2, method=\"sigmoid\")\n",
    "    sig_clf.fit(X_train,y_train)\n",
    "    predictions = sig_clf.predict_proba(X_cv)\n",
    "    cv_log_error_array.append(log_loss(y_cv, predictions, labels=model2.classes_, eps=1e-15))\n",
    "    print(\"Log Loss :\",i,log_loss(y_cv, predictions)) "
   ]
  },
  {
   "cell_type": "code",
   "execution_count": 10,
   "metadata": {},
   "outputs": [
    {
     "data": {
      "text/plain": [
       "CalibratedClassifierCV(base_estimator=MultinomialNB(alpha=1e-05))"
      ]
     },
     "execution_count": 10,
     "metadata": {},
     "output_type": "execute_result"
    }
   ],
   "source": [
    "best_alpha = np.argmin(cv_log_error_array)\n",
    "model2 = MultinomialNB(alpha=alpha[best_alpha])\n",
    "model2.fit(X_train,y_train)\n",
    "sig_clf = CalibratedClassifierCV(model2, method=\"sigmoid\")\n",
    "sig_clf.fit(X_train,y_train)"
   ]
  },
  {
   "cell_type": "code",
   "execution_count": 11,
   "metadata": {},
   "outputs": [
    {
     "name": "stdout",
     "output_type": "stream",
     "text": [
      "The train log loss is: 0.5802112885336769\n",
      "The cross validation log loss is: 0.790650418743153\n",
      "The test log loss is: 0.5778236107092678\n"
     ]
    }
   ],
   "source": [
    "predict_y_train = sig_clf.predict_proba(X_train)\n",
    "print(\"The train log loss is:\",log_loss(y_train, predict_y_train, labels=model2.classes_, eps=1e-15))\n",
    "predict_y_cv = sig_clf.predict_proba(X_cv)\n",
    "print(\"The cross validation log loss is:\",log_loss(y_cv, predict_y_cv, labels=model2.classes_, eps=1e-15))\n",
    "predict_y_test = sig_clf.predict_proba(X_test)\n",
    "print(\"The test log loss is:\",log_loss(y_test, predict_y_test, labels=model2.classes_, eps=1e-15))"
   ]
  },
  {
   "cell_type": "code",
   "execution_count": 13,
   "metadata": {},
   "outputs": [
    {
     "name": "stdout",
     "output_type": "stream",
     "text": [
      "Log loss : 0.5778236107092678\n",
      "Number of mis-classified points : 0.29662276975361085\n",
      "-------------------- Confusion matrix --------------------\n"
     ]
    },
    {
     "data": {
      "image/png": "[encoded data removed]",
      "text/plain": [
       "<Figure size 720x216 with 2 Axes>"
      ]
     },
     "metadata": {
      "needs_background": "light"
     },
     "output_type": "display_data"
    },
    {
     "name": "stdout",
     "output_type": "stream",
     "text": [
      "-------------------- Precision matrix (Columm Sum=1) --------------------\n"
     ]
    },
    {
     "data": {
      "image/png": "[encoded data removed]",
      "text/plain": [
       "<Figure size 720x216 with 2 Axes>"
      ]
     },
     "metadata": {
      "needs_background": "light"
     },
     "output_type": "display_data"
    },
    {
     "name": "stdout",
     "output_type": "stream",
     "text": [
      "-------------------- Recall matrix (Row sum=1) --------------------\n"
     ]
    },
    {
     "data": {
      "image/png": "[encoded data removed]",
      "text/plain": [
       "<Figure size 720x216 with 2 Axes>"
      ]
     },
     "metadata": {
      "needs_background": "light"
     },
     "output_type": "display_data"
    }
   ],
   "source": [
    "predict_and_plot_confusion_matrix(X_train,y_train,X_test,y_test,model2)"
   ]
  },
  {
   "cell_type": "markdown",
   "metadata": {},
   "source": [
    "#### 2.Logistic Regression"
   ]
  },
  {
   "cell_type": "code",
   "execution_count": 9,
   "metadata": {},
   "outputs": [
    {
     "name": "stdout",
     "output_type": "stream",
     "text": [
      "Log Loss : 1.8495148884455959\n",
      "Log Loss : 0.8498722358331643\n",
      "Log Loss : 1.177947570728036\n",
      "Log Loss : 0.6178784720832597\n",
      "Log Loss : 0.621376187344684\n",
      "Log Loss : 0.8216288729798201\n",
      "Log Loss : 0.8498722358331643\n",
      "Log Loss : 0.9443358373924288\n",
      "Log Loss : 0.944639128837782\n",
      "Log Loss : 0.9446946945426794\n",
      "Log Loss : 0.9446981281587375\n"
     ]
    }
   ],
   "source": [
    "alpha = [0.001,1,0.01,0.23,0.25,0.9,1,3,4,6,7]\n",
    "cv_log_error_array = []\n",
    "for i in alpha:\n",
    "    model3 = SGDClassifier(alpha=i,loss='log',penalty='l2',random_state=24)\n",
    "    model3.fit(X_train,y_train)\n",
    "    sig_clf = CalibratedClassifierCV(model3, method=\"sigmoid\")\n",
    "    sig_clf.fit(X_train,y_train)\n",
    "    probabilities = sig_clf.predict_proba(X_cv)\n",
    "    cv_log_error_array.append(log_loss(y_cv,probabilities, labels=model3.classes_, eps=1e-15))\n",
    "    print(\"Log Loss :\",log_loss(y_cv,probabilities))"
   ]
  },
  {
   "cell_type": "code",
   "execution_count": 10,
   "metadata": {},
   "outputs": [
    {
     "data": {
      "text/plain": [
       "CalibratedClassifierCV(base_estimator=SGDClassifier(alpha=0.23, loss='log',\n",
       "                                                    random_state=24))"
      ]
     },
     "execution_count": 10,
     "metadata": {},
     "output_type": "execute_result"
    }
   ],
   "source": [
    "best_alpha = np.argmin(cv_log_error_array)\n",
    "model3 = SGDClassifier(alpha=alpha[best_alpha],loss='log',penalty='l2',random_state=24)\n",
    "model3.fit(X_train,y_train)\n",
    "sig_clf = CalibratedClassifierCV(model3, method=\"sigmoid\")\n",
    "sig_clf.fit(X_train,y_train)"
   ]
  },
  {
   "cell_type": "code",
   "execution_count": 11,
   "metadata": {},
   "outputs": [
    {
     "name": "stdout",
     "output_type": "stream",
     "text": [
      "The train log loss is: 0.5504590404965357\n",
      "The cross validation log loss is: 0.6178784720832597\n",
      "The test log loss is: 0.5494201317121794\n"
     ]
    }
   ],
   "source": [
    "predict_y_train = sig_clf.predict_proba(X_train)\n",
    "print(\"The train log loss is:\",log_loss(y_train, predict_y_train, labels=model3.classes_, eps=1e-15))\n",
    "predict_y_cv = sig_clf.predict_proba(X_cv)\n",
    "print(\"The cross validation log loss is:\",log_loss(y_cv, predict_y_cv, labels=model3.classes_, eps=1e-15))\n",
    "predict_y_test = sig_clf.predict_proba(X_test)\n",
    "print(\"The test log loss is:\",log_loss(y_test, predict_y_test, labels=model3.classes_, eps=1e-15))"
   ]
  },
  {
   "cell_type": "code",
   "execution_count": 12,
   "metadata": {},
   "outputs": [
    {
     "name": "stdout",
     "output_type": "stream",
     "text": [
      "Log loss : 0.5494201317121794\n",
      "Number of mis-classified points : 0.2892417162276975\n",
      "-------------------- Confusion matrix --------------------\n"
     ]
    },
    {
     "data": {
      "image/png": "[encoded data removed]",
      "text/plain": [
       "<Figure size 720x216 with 2 Axes>"
      ]
     },
     "metadata": {
      "needs_background": "light"
     },
     "output_type": "display_data"
    },
    {
     "name": "stdout",
     "output_type": "stream",
     "text": [
      "-------------------- Precision matrix (Columm Sum=1) --------------------\n"
     ]
    },
    {
     "data": {
      "image/png": "[encoded data removed]",
      "text/plain": [
       "<Figure size 720x216 with 2 Axes>"
      ]
     },
     "metadata": {
      "needs_background": "light"
     },
     "output_type": "display_data"
    },
    {
     "name": "stdout",
     "output_type": "stream",
     "text": [
      "-------------------- Recall matrix (Row sum=1) --------------------\n"
     ]
    },
    {
     "data": {
      "image/png": "[encoded data removed]",
      "text/plain": [
       "<Figure size 720x216 with 2 Axes>"
      ]
     },
     "metadata": {
      "needs_background": "light"
     },
     "output_type": "display_data"
    }
   ],
   "source": [
    "predict_and_plot_confusion_matrix(X_train,y_train,X_test,y_test,model3)"
   ]
  },
  {
   "cell_type": "markdown",
   "metadata": {},
   "source": [
    "#### 3.SVC(Support Vector Classifier)"
   ]
  },
  {
   "cell_type": "code",
   "execution_count": 13,
   "metadata": {},
   "outputs": [
    {
     "name": "stdout",
     "output_type": "stream",
     "text": [
      "Log Loss : 4.29340703741444\n",
      "Log Loss : 0.980805331235675\n",
      "Log Loss : 1.038506182509311\n",
      "Log Loss : 0.5914433519844589\n",
      "Log Loss : 0.5907431888582046\n",
      "Log Loss : 0.7925800140378693\n",
      "Log Loss : 0.980805331235675\n",
      "Log Loss : 7.663428069350705\n",
      "Log Loss : 11.311317921635212\n",
      "Log Loss : 12.515375583417145\n",
      "Log Loss : 12.515832328555325\n"
     ]
    }
   ],
   "source": [
    "alpha = [0.001,1,0.01,0.23,0.25,0.9,1,3,4,6,7]\n",
    "cv_log_error_array = []\n",
    "for i in alpha:\n",
    "    model4 = SGDClassifier(alpha=i,loss='hinge',penalty='l2',random_state=24)\n",
    "    model4.fit(X_train,y_train)\n",
    "    sig_clf = CalibratedClassifierCV(model4, method=\"sigmoid\")\n",
    "    sig_clf.fit(X_train,y_train)\n",
    "    probabilities = sig_clf.predict_proba(X_cv)\n",
    "    cv_log_error_array.append(log_loss(y_cv,probabilities, labels=model4.classes_, eps=1e-15))\n",
    "    print(\"Log Loss :\",log_loss(y_cv,probabilities))"
   ]
  },
  {
   "cell_type": "code",
   "execution_count": 14,
   "metadata": {},
   "outputs": [
    {
     "data": {
      "text/plain": [
       "CalibratedClassifierCV(base_estimator=SGDClassifier(alpha=0.25,\n",
       "                                                    random_state=24))"
      ]
     },
     "execution_count": 14,
     "metadata": {},
     "output_type": "execute_result"
    }
   ],
   "source": [
    "best_alpha = np.argmin(cv_log_error_array)\n",
    "model4 = SGDClassifier(alpha=alpha[best_alpha],loss='hinge',penalty='l2',random_state=24)\n",
    "model4.fit(X_train,y_train)\n",
    "sig_clf = CalibratedClassifierCV(model4, method=\"sigmoid\")\n",
    "sig_clf.fit(X_train,y_train)"
   ]
  },
  {
   "cell_type": "code",
   "execution_count": 15,
   "metadata": {},
   "outputs": [
    {
     "name": "stdout",
     "output_type": "stream",
     "text": [
      "The train log loss is: 0.5539247411921296\n",
      "The cross validation log loss is: 0.5907431888582046\n",
      "The test log loss is: 0.5530478443117963\n"
     ]
    }
   ],
   "source": [
    "predict_y_train = sig_clf.predict_proba(X_train)\n",
    "print(\"The train log loss is:\",log_loss(y_train, predict_y_train, labels=model4.classes_, eps=1e-15))\n",
    "predict_y_cv = sig_clf.predict_proba(X_cv)\n",
    "print(\"The cross validation log loss is:\",log_loss(y_cv, predict_y_cv, labels=model4.classes_, eps=1e-15))\n",
    "predict_y_test = sig_clf.predict_proba(X_test)\n",
    "print(\"The test log loss is:\",log_loss(y_test, predict_y_test, labels=model4.classes_, eps=1e-15))"
   ]
  },
  {
   "cell_type": "code",
   "execution_count": 16,
   "metadata": {},
   "outputs": [
    {
     "name": "stdout",
     "output_type": "stream",
     "text": [
      "Log loss : 0.5530478443117963\n",
      "Number of mis-classified points : 0.2955872982158029\n",
      "-------------------- Confusion matrix --------------------\n"
     ]
    },
    {
     "data": {
      "image/png": "[encoded data removed]",
      "text/plain": [
       "<Figure size 720x216 with 2 Axes>"
      ]
     },
     "metadata": {
      "needs_background": "light"
     },
     "output_type": "display_data"
    },
    {
     "name": "stdout",
     "output_type": "stream",
     "text": [
      "-------------------- Precision matrix (Columm Sum=1) --------------------\n"
     ]
    },
    {
     "data": {
      "image/png": "[encoded data removed]",
      "text/plain": [
       "<Figure size 720x216 with 2 Axes>"
      ]
     },
     "metadata": {
      "needs_background": "light"
     },
     "output_type": "display_data"
    },
    {
     "name": "stdout",
     "output_type": "stream",
     "text": [
      "-------------------- Recall matrix (Row sum=1) --------------------\n"
     ]
    },
    {
     "data": {
      "image/png": "[encoded data removed]",
      "text/plain": [
       "<Figure size 720x216 with 2 Axes>"
      ]
     },
     "metadata": {
      "needs_background": "light"
     },
     "output_type": "display_data"
    }
   ],
   "source": [
    "predict_and_plot_confusion_matrix(X_train,y_train,X_test,y_test,model4)"
   ]
  },
  {
   "cell_type": "markdown",
   "metadata": {},
   "source": [
    "#### 4.Random Forest Classifier"
   ]
  },
  {
   "cell_type": "code",
   "execution_count": 9,
   "metadata": {},
   "outputs": [
    {
     "name": "stdout",
     "output_type": "stream",
     "text": [
      "Log Loss : 0.7285745600789975\n",
      "Log Loss : 0.7082340097871066\n",
      "Log Loss : 0.6987161643418182\n",
      "Log Loss : 0.6990031254845579\n",
      "Log Loss : 0.6965780973468285\n"
     ]
    }
   ],
   "source": [
    "alpha=[10,50,100,500,1000]\n",
    "cv_log_error_array=[]\n",
    "for i in alpha:\n",
    "    model5=RandomForestClassifier(n_estimators=i,random_state=24,n_jobs=-1)\n",
    "    model5.fit(X_train,y_train)\n",
    "    sig_clf = CalibratedClassifierCV(model5, method=\"sigmoid\")\n",
    "    sig_clf.fit(X_train, y_train)\n",
    "    predict_y = sig_clf.predict_proba(X_cv)\n",
    "    cv_log_error_array.append(log_loss(y_cv, predict_y, labels=model5.classes_, eps=1e-15))\n",
    "    print(\"Log Loss :\",log_loss(y_cv,predict_y))"
   ]
  },
  {
   "cell_type": "code",
   "execution_count": 10,
   "metadata": {},
   "outputs": [
    {
     "data": {
      "text/plain": [
       "CalibratedClassifierCV(base_estimator=RandomForestClassifier(n_estimators=1000,\n",
       "                                                             n_jobs=-1,\n",
       "                                                             random_state=24))"
      ]
     },
     "execution_count": 10,
     "metadata": {},
     "output_type": "execute_result"
    }
   ],
   "source": [
    "best_alpha = np.argmin(cv_log_error_array)\n",
    "model5 = RandomForestClassifier(n_estimators=alpha[best_alpha],random_state=24,n_jobs=-1)\n",
    "model5.fit(X_train,y_train)\n",
    "sig_clf = CalibratedClassifierCV(model5, method=\"sigmoid\")\n",
    "sig_clf.fit(X_train,y_train)"
   ]
  },
  {
   "cell_type": "code",
   "execution_count": 11,
   "metadata": {},
   "outputs": [
    {
     "name": "stdout",
     "output_type": "stream",
     "text": [
      "The train log loss is: 0.15904935158742983\n",
      "The cross validation log loss is: 0.6965780973468285\n",
      "The test log loss is: 0.5290262106436658\n"
     ]
    }
   ],
   "source": [
    "predict_y_train = sig_clf.predict_proba(X_train)\n",
    "print(\"The train log loss is:\",log_loss(y_train, predict_y_train, labels=model5.classes_, eps=1e-15))\n",
    "predict_y_cv = sig_clf.predict_proba(X_cv)\n",
    "print(\"The cross validation log loss is:\",log_loss(y_cv, predict_y_cv, labels=model5.classes_, eps=1e-15))\n",
    "predict_y_test = sig_clf.predict_proba(X_test)\n",
    "print(\"The test log loss is:\",log_loss(y_test, predict_y_test, labels=model5.classes_, eps=1e-15))"
   ]
  },
  {
   "cell_type": "code",
   "execution_count": 12,
   "metadata": {},
   "outputs": [
    {
     "name": "stdout",
     "output_type": "stream",
     "text": [
      "Log loss : 0.5290262106436658\n",
      "Number of mis-classified points : 0.25902718776550554\n",
      "-------------------- Confusion matrix --------------------\n"
     ]
    },
    {
     "data": {
      "image/png": "[encoded data removed]",
      "text/plain": [
       "<Figure size 720x216 with 2 Axes>"
      ]
     },
     "metadata": {
      "needs_background": "light"
     },
     "output_type": "display_data"
    },
    {
     "name": "stdout",
     "output_type": "stream",
     "text": [
      "-------------------- Precision matrix (Columm Sum=1) --------------------\n"
     ]
    },
    {
     "data": {
      "image/png": "[encoded data removed]",
      "text/plain": [
       "<Figure size 720x216 with 2 Axes>"
      ]
     },
     "metadata": {
      "needs_background": "light"
     },
     "output_type": "display_data"
    },
    {
     "name": "stdout",
     "output_type": "stream",
     "text": [
      "-------------------- Recall matrix (Row sum=1) --------------------\n"
     ]
    },
    {
     "data": {
      "image/png": "[encoded data removed]",
      "text/plain": [
       "<Figure size 720x216 with 2 Axes>"
      ]
     },
     "metadata": {
      "needs_background": "light"
     },
     "output_type": "display_data"
    }
   ],
   "source": [
    "predict_and_plot_confusion_matrix(X_train,y_train,X_test,y_test,model5)"
   ]
  },
  {
   "cell_type": "markdown",
   "metadata": {},
   "source": [
    "#### 5.XGBoost classifier"
   ]
  },
  {
   "cell_type": "code",
   "execution_count": 9,
   "metadata": {},
   "outputs": [
    {
     "name": "stdout",
     "output_type": "stream",
     "text": [
      "Fitting 5 folds for each of 10 candidates, totalling 50 fits\n"
     ]
    },
    {
     "name": "stderr",
     "output_type": "stream",
     "text": [
      "[Parallel(n_jobs=-1)]: Using backend LokyBackend with 8 concurrent workers.\n",
      "[Parallel(n_jobs=-1)]: Done   2 tasks      | elapsed:  1.7min\n",
      "[Parallel(n_jobs=-1)]: Done   9 tasks      | elapsed: 25.9min\n",
      "[Parallel(n_jobs=-1)]: Done  16 tasks      | elapsed: 49.4min\n",
      "[Parallel(n_jobs=-1)]: Done  25 tasks      | elapsed: 67.9min\n",
      "[Parallel(n_jobs=-1)]: Done  34 tasks      | elapsed: 73.9min\n",
      "[Parallel(n_jobs=-1)]: Done  41 out of  50 | elapsed: 108.7min remaining: 23.9min\n",
      "[Parallel(n_jobs=-1)]: Done  47 out of  50 | elapsed: 143.6min remaining:  9.2min\n",
      "[Parallel(n_jobs=-1)]: Done  50 out of  50 | elapsed: 144.0min finished\n"
     ]
    },
    {
     "data": {
      "text/plain": [
       "RandomizedSearchCV(cv=5,\n",
       "                   estimator=XGBClassifier(base_score=None, booster=None,\n",
       "                                           colsample_bylevel=None,\n",
       "                                           colsample_bynode=None,\n",
       "                                           colsample_bytree=None, gamma=None,\n",
       "                                           gpu_id=None, importance_type='gain',\n",
       "                                           interaction_constraints=None,\n",
       "                                           learning_rate=None,\n",
       "                                           max_delta_step=None, max_depth=None,\n",
       "                                           min_child_weight=None, missing=nan,\n",
       "                                           monotone_constraints=None,\n",
       "                                           n_estimators=100,...\n",
       "                                           reg_lambda=None,\n",
       "                                           scale_pos_weight=None,\n",
       "                                           subsample=None, tree_method=None,\n",
       "                                           validate_parameters=None,\n",
       "                                           verbosity=None),\n",
       "                   n_jobs=-1,\n",
       "                   param_distributions={'colsample_bytree': [0.1, 0.3, 0.5, 1],\n",
       "                                        'learning_rate': [0.01, 0.03, 0.05, 0.1,\n",
       "                                                          0.15, 0.2],\n",
       "                                        'max_depth': [3, 5, 10],\n",
       "                                        'min_child_weight': [1, 4, 7],\n",
       "                                        'n_estimators': [100, 200, 500, 1000,\n",
       "                                                         2000],\n",
       "                                        'subsample': [0.1, 0.3, 0.5, 1]},\n",
       "                   verbose=10)"
      ]
     },
     "execution_count": 9,
     "metadata": {},
     "output_type": "execute_result"
    }
   ],
   "source": [
    "# https://www.analyticsvidhya.com/blog/2016/03/complete-guide-parameter-tuning-xgboost-with-codes-python/\n",
    "model6=XGBClassifier()\n",
    "\n",
    "prams={\n",
    "    'learning_rate':[0.01,0.03,0.05,0.1,0.15,0.2],\n",
    "     'n_estimators':[100,200,500,1000,2000],\n",
    "     'max_depth':[3,5,10],\n",
    "    'min_child_weight':[1,4,7],\n",
    "    'colsample_bytree':[0.1,0.3,0.5,1],\n",
    "    'subsample':[0.1,0.3,0.5,1]\n",
    "}\n",
    "model6=RandomizedSearchCV(model6,param_distributions=prams,verbose=10,n_jobs=-1,cv=5)\n",
    "model6.fit(X_train,y_train)"
   ]
  },
  {
   "cell_type": "code",
   "execution_count": 10,
   "metadata": {},
   "outputs": [
    {
     "name": "stdout",
     "output_type": "stream",
     "text": [
      "{'subsample': 1, 'n_estimators': 200, 'min_child_weight': 1, 'max_depth': 5, 'learning_rate': 0.15, 'colsample_bytree': 0.1}\n"
     ]
    }
   ],
   "source": [
    "print(model6.best_params_)"
   ]
  },
  {
   "cell_type": "code",
   "execution_count": 11,
   "metadata": {},
   "outputs": [
    {
     "data": {
      "text/plain": [
       "CalibratedClassifierCV(base_estimator=XGBClassifier(base_score=0.5,\n",
       "                                                    booster='gbtree',\n",
       "                                                    colsample_bylevel=1,\n",
       "                                                    colsample_bynode=1,\n",
       "                                                    colsample_bytree=0.1,\n",
       "                                                    gamma=0, gpu_id=-1,\n",
       "                                                    importance_type='gain',\n",
       "                                                    interaction_constraints='',\n",
       "                                                    learning_rate=0.15,\n",
       "                                                    max_delta_step=0,\n",
       "                                                    max_depth=5,\n",
       "                                                    min_child_weight=1,\n",
       "                                                    missing=nan,\n",
       "                                                    monotone_constraints='()',\n",
       "                                                    n_estimators=200, n_jobs=0,\n",
       "                                                    num_parallel_tree=1,\n",
       "                                                    random_state=0, reg_alpha=0,\n",
       "                                                    reg_lambda=1,\n",
       "                                                    scale_pos_weight=1,\n",
       "                                                    subsample=1,\n",
       "                                                    tree_method='exact',\n",
       "                                                    validate_parameters=1,\n",
       "                                                    verbosity=None))"
      ]
     },
     "execution_count": 11,
     "metadata": {},
     "output_type": "execute_result"
    }
   ],
   "source": [
    "model6 =XGBClassifier(subsample=1,n_estimators=200,min_child_weight=1,max_depth=5,learning_rate=0.15,colsample_bytree=0.1)\n",
    "model6.fit(X_train,y_train)\n",
    "sig_clf = CalibratedClassifierCV(model6, method=\"sigmoid\")\n",
    "sig_clf.fit(X_train,y_train)"
   ]
  },
  {
   "cell_type": "code",
   "execution_count": 12,
   "metadata": {},
   "outputs": [
    {
     "name": "stdout",
     "output_type": "stream",
     "text": [
      "The train log loss is: 0.4310201780889534\n",
      "The cross validation log loss is: 0.7579208303218318\n",
      "The test log loss is: 0.4653226180411692\n"
     ]
    }
   ],
   "source": [
    "predict_y_train = sig_clf.predict_proba(X_train)\n",
    "print(\"The train log loss is:\",log_loss(y_train, predict_y_train, labels=model6.classes_, eps=1e-15))\n",
    "predict_y_cv = sig_clf.predict_proba(X_cv)\n",
    "print(\"The cross validation log loss is:\",log_loss(y_cv, predict_y_cv, labels=model6.classes_, eps=1e-15))\n",
    "predict_y_test = sig_clf.predict_proba(X_test)\n",
    "print(\"The test log loss is:\",log_loss(y_test, predict_y_test, labels=model6.classes_, eps=1e-15))"
   ]
  },
  {
   "cell_type": "code",
   "execution_count": 13,
   "metadata": {},
   "outputs": [
    {
     "name": "stdout",
     "output_type": "stream",
     "text": [
      "Log loss : 0.4653226180411692\n",
      "Number of mis-classified points : 0.21983857264231096\n",
      "-------------------- Confusion matrix --------------------\n"
     ]
    },
    {
     "data": {
      "image/png": "[encoded data removed]",
      "text/plain": [
       "<Figure size 720x216 with 2 Axes>"
      ]
     },
     "metadata": {
      "needs_background": "light"
     },
     "output_type": "display_data"
    },
    {
     "name": "stdout",
     "output_type": "stream",
     "text": [
      "-------------------- Precision matrix (Columm Sum=1) --------------------\n"
     ]
    },
    {
     "data": {
      "image/png": "[encoded data removed]",
      "text/plain": [
       "<Figure size 720x216 with 2 Axes>"
      ]
     },
     "metadata": {
      "needs_background": "light"
     },
     "output_type": "display_data"
    },
    {
     "name": "stdout",
     "output_type": "stream",
     "text": [
      "-------------------- Recall matrix (Row sum=1) --------------------\n"
     ]
    },
    {
     "data": {
      "image/png": "[encoded data removed]",
      "text/plain": [
       "<Figure size 720x216 with 2 Axes>"
      ]
     },
     "metadata": {
      "needs_background": "light"
     },
     "output_type": "display_data"
    }
   ],
   "source": [
    "predict_and_plot_confusion_matrix(X_train,y_train,X_test,y_test,model6)"
   ]
  },
  {
   "cell_type": "markdown",
   "metadata": {},
   "source": [
    "#### 6.Adaboost Classifier"
   ]
  },
  {
   "cell_type": "code",
   "execution_count": 11,
   "metadata": {},
   "outputs": [
    {
     "name": "stdout",
     "output_type": "stream",
     "text": [
      "Fitting 5 folds for each of 9 candidates, totalling 45 fits\n"
     ]
    },
    {
     "name": "stderr",
     "output_type": "stream",
     "text": [
      "[Parallel(n_jobs=-1)]: Using backend LokyBackend with 8 concurrent workers.\n",
      "[Parallel(n_jobs=-1)]: Done   2 tasks      | elapsed:  5.5min\n",
      "[Parallel(n_jobs=-1)]: Done   9 tasks      | elapsed: 17.5min\n",
      "[Parallel(n_jobs=-1)]: Done  16 tasks      | elapsed: 35.6min\n",
      "[Parallel(n_jobs=-1)]: Done  25 tasks      | elapsed: 47.9min\n",
      "[Parallel(n_jobs=-1)]: Done  35 out of  45 | elapsed: 66.4min remaining: 19.0min\n",
      "[Parallel(n_jobs=-1)]: Done  40 out of  45 | elapsed: 78.1min remaining:  9.8min\n",
      "[Parallel(n_jobs=-1)]: Done  45 out of  45 | elapsed: 93.6min remaining:    0.0s\n",
      "[Parallel(n_jobs=-1)]: Done  45 out of  45 | elapsed: 93.6min finished\n"
     ]
    },
    {
     "data": {
      "text/plain": [
       "GridSearchCV(cv=5, estimator=AdaBoostClassifier(), n_jobs=-1,\n",
       "             param_grid={'learning_rate': [0.01, 0.03, 0.05],\n",
       "                         'n_estimators': [100, 200, 500]},\n",
       "             verbose=10)"
      ]
     },
     "execution_count": 11,
     "metadata": {},
     "output_type": "execute_result"
    }
   ],
   "source": [
    "model7=AdaBoostClassifier()\n",
    "\n",
    "parameters={\n",
    "    'learning_rate':[0.01,0.03,0.05],\n",
    "     'n_estimators':[100,200,500]\n",
    "}\n",
    "model7=GridSearchCV(model7,param_grid=parameters,verbose=10,n_jobs=-1,cv=5)\n",
    "model7.fit(X_train,y_train)"
   ]
  },
  {
   "cell_type": "code",
   "execution_count": 12,
   "metadata": {},
   "outputs": [
    {
     "name": "stdout",
     "output_type": "stream",
     "text": [
      "{'learning_rate': 0.05, 'n_estimators': 500}\n"
     ]
    }
   ],
   "source": [
    "print(model7.best_params_)"
   ]
  },
  {
   "cell_type": "code",
   "execution_count": 9,
   "metadata": {},
   "outputs": [
    {
     "data": {
      "text/plain": [
       "CalibratedClassifierCV(base_estimator=AdaBoostClassifier(learning_rate=0.05,\n",
       "                                                         n_estimators=500))"
      ]
     },
     "execution_count": 9,
     "metadata": {},
     "output_type": "execute_result"
    }
   ],
   "source": [
    "model7=AdaBoostClassifier(learning_rate=0.05,n_estimators=500)\n",
    "model7.fit(X_train,y_train)\n",
    "sig_clf=CalibratedClassifierCV(model7, method=\"sigmoid\")\n",
    "sig_clf.fit(X_train,y_train)"
   ]
  },
  {
   "cell_type": "code",
   "execution_count": 10,
   "metadata": {},
   "outputs": [
    {
     "name": "stdout",
     "output_type": "stream",
     "text": [
      "The train log loss is: 0.48756435831347883\n",
      "The cross validation log loss is: 0.6596090731839016\n",
      "The test log loss is: 0.50363621465552\n"
     ]
    }
   ],
   "source": [
    "predict_y_train = sig_clf.predict_proba(X_train)\n",
    "print(\"The train log loss is:\",log_loss(y_train, predict_y_train, labels=model7.classes_, eps=1e-15))\n",
    "predict_y_cv = sig_clf.predict_proba(X_cv)\n",
    "print(\"The cross validation log loss is:\",log_loss(y_cv, predict_y_cv, labels=model7.classes_, eps=1e-15))\n",
    "predict_y_test = sig_clf.predict_proba(X_test)\n",
    "print(\"The test log loss is:\",log_loss(y_test, predict_y_test, labels=model7.classes_, eps=1e-15))"
   ]
  },
  {
   "cell_type": "code",
   "execution_count": 11,
   "metadata": {},
   "outputs": [
    {
     "name": "stdout",
     "output_type": "stream",
     "text": [
      "Log loss : 0.5036361733417097\n",
      "Number of mis-classified points : 0.24450403568394222\n",
      "-------------------- Confusion matrix --------------------\n"
     ]
    },
    {
     "data": {
      "image/png": "[encoded data removed]",
      "text/plain": [
       "<Figure size 720x216 with 2 Axes>"
      ]
     },
     "metadata": {
      "needs_background": "light"
     },
     "output_type": "display_data"
    },
    {
     "name": "stdout",
     "output_type": "stream",
     "text": [
      "-------------------- Precision matrix (Columm Sum=1) --------------------\n"
     ]
    },
    {
     "data": {
      "image/png": "[encoded data removed]",
      "text/plain": [
       "<Figure size 720x216 with 2 Axes>"
      ]
     },
     "metadata": {
      "needs_background": "light"
     },
     "output_type": "display_data"
    },
    {
     "name": "stdout",
     "output_type": "stream",
     "text": [
      "-------------------- Recall matrix (Row sum=1) --------------------\n"
     ]
    },
    {
     "data": {
      "image/png": "[encoded data removed]",
      "text/plain": [
       "<Figure size 720x216 with 2 Axes>"
      ]
     },
     "metadata": {
      "needs_background": "light"
     },
     "output_type": "display_data"
    }
   ],
   "source": [
    "predict_and_plot_confusion_matrix(X_train,y_train,X_test,y_test,model7)"
   ]
  },
  {
   "cell_type": "code",
   "execution_count": 14,
   "metadata": {},
   "outputs": [
    {
     "data": {
      "text/plain": [
       "['/final_classification_model.sav']"
      ]
     },
     "execution_count": 14,
     "metadata": {},
     "output_type": "execute_result"
    }
   ],
   "source": [
    "import joblib\n",
    "filename = '/final_classification_model.sav'\n",
    "joblib.dump(model6, filename)"
   ]
  },
  {
   "cell_type": "markdown",
   "metadata": {},
   "source": [
    "## Conclusion Table"
   ]
  },
  {
   "cell_type": "code",
   "execution_count": 14,
   "metadata": {},
   "outputs": [
    {
     "name": "stdout",
     "output_type": "stream",
     "text": [
      "REGRESSION PROBLEM\n",
      "+-------------------------------------------------------+---------+\n",
      "|                         Model                         | testMAE |\n",
      "+-------------------------------------------------------+---------+\n",
      "|                    Linear Regrssion                   |   1326  |\n",
      "|                    Ridge Regression                   |   1279  |\n",
      "|                    Lasso Regression                   |   1459  |\n",
      "|                     KNN Regressor                     |   1597  |\n",
      "|                Decision Tree Regressor                |   1270  |\n",
      "|                Random Forest Regressor                |   1198  |\n",
      "|                   Xgboost Regressor                   |   1162  |\n",
      "|                   Adaboost Regressor                  |   1517  |\n",
      "|                Support Vector Regressor               |  257109 |\n",
      "| Custom ensemble model with DecisionTree as base model |   1198  |\n",
      "|    Custom ensemble model with XGBoost as base model   |   1160  |\n",
      "|   Custom ensemble model with AdaBoost as base model   |   1223  |\n",
      "|                          MLP                          |   1183  |\n",
      "+-------------------------------------------------------+---------+\n",
      "CLASSIFICATION PROBLEM\n",
      "+--------------------------+--------------+\n",
      "|          Model           | Test logloss |\n",
      "+--------------------------+--------------+\n",
      "|  NaiveBayes Classifier   |    0.577     |\n",
      "|   Logistic Regression    |    0.549     |\n",
      "|      SVC Classifier      |    0.553     |\n",
      "| Random Forest Classifier |    0.529     |\n",
      "|    Xgboost Classifier    |    0.465     |\n",
      "|   Adaboost Classifier    |    0.503     |\n",
      "+--------------------------+--------------+\n"
     ]
    }
   ],
   "source": [
    "from prettytable import PrettyTable\n",
    "print(\"REGRESSION PROBLEM\")\n",
    "X=PrettyTable([\"Model\",\"testMAE\"]) \n",
    "X.add_row([\"Linear Regrssion\",\"1326\"]) \n",
    "X.add_row([\"Ridge Regression\",\"1279\"])\n",
    "X.add_row([\"Lasso Regression\",\"1459\"])\n",
    "X.add_row([\"KNN Regressor\",\"1597\"]) \n",
    "X.add_row([\"Decision Tree Regressor\",\"1270\"]) \n",
    "X.add_row([\"Random Forest Regressor\",\"1198\"]) \n",
    "\n",
    "X.add_row([\"Xgboost Regressor\",\"1162\"])\n",
    "X.add_row([\"Adaboost Regressor\",\"1517\"])\n",
    "X.add_row([\"Support Vector Regressor\",\"257109\"])\n",
    "\n",
    "X.add_row([\"Custom ensemble model with DecisionTree as base model\",\"1198\"])\n",
    "X.add_row([\"Custom ensemble model with XGBoost as base model\",\"1160\"])\n",
    "X.add_row([\"Custom ensemble model with AdaBoost as base model\",\"1223\"])\n",
    "X.add_row([\"MLP\",\"1183\"])\n",
    "print(X)\n",
    "\n",
    "print('CLASSIFICATION PROBLEM')\n",
    "X1= PrettyTable([\"Model\",\"Test logloss\"]) \n",
    "X1.add_row([\"NaiveBayes Classifier\", \"0.577\"]) \n",
    "X1.add_row([\"Logistic Regression\", \"0.549\"]) \n",
    "X1.add_row([\"SVC Classifier\", \"0.553\"])\n",
    "X1.add_row([\"Random Forest Classifier\", \"0.529\"]) \n",
    "X1.add_row([\"Xgboost Classifier\", \"0.465\"])\n",
    "X1.add_row([\"Adaboost Classifier\", \"0.503\"])\n",
    "print(X1)"
   ]
  },
  {
   "cell_type": "code",
   "execution_count": null,
   "metadata": {},
   "outputs": [],
   "source": []
  },
  {
   "cell_type": "code",
   "execution_count": null,
   "metadata": {},
   "outputs": [],
   "source": []
  },
  {
   "cell_type": "code",
   "execution_count": null,
   "metadata": {},
   "outputs": [],
   "source": []
  },
  {
   "cell_type": "code",
   "execution_count": null,
   "metadata": {},
   "outputs": [],
   "source": []
  },
  {
   "cell_type": "code",
   "execution_count": null,
   "metadata": {},
   "outputs": [],
   "source": []
  },
  {
   "cell_type": "code",
   "execution_count": null,
   "metadata": {},
   "outputs": [],
   "source": []
  }
 ],
 "metadata": {
  "kernelspec": {
   "display_name": "Python 3",
   "language": "python",
   "name": "python3"
  },
  "language_info": {
   "codemirror_mode": {
    "name": "ipython",
    "version": 3
   },
   "file_extension": ".py",
   "mimetype": "text/x-python",
   "name": "python",
   "nbconvert_exporter": "python",
   "pygments_lexer": "ipython3",
   "version": "3.8.3"
  }
 },
 "nbformat": 4,
 "nbformat_minor": 4
}
